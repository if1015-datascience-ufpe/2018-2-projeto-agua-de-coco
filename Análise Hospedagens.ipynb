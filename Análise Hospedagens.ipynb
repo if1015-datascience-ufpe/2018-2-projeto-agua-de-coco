{
 "cells": [
  {
   "cell_type": "markdown",
   "metadata": {},
   "source": [
    "# Análise Hospedagens\n",
    "Neste notebook ficarão análises que utilizam os datasets dos meios de hospedagens cadastradas pelo ministerio do turismo do Brasil.Os datasets utilizados nesta análise são provinientes do site de dados abertos do governo Brasileiro (http://dados.gov.br). obs: os datasets foram baixados e estão na pasta Datasets desse Trabalho.\n"
   ]
  },
  {
   "cell_type": "markdown",
   "metadata": {},
   "source": [
    "# Motivação\n",
    "Tema : Turismo"
   ]
  },
  {
   "cell_type": "markdown",
   "metadata": {},
   "source": [
    "<strong>Turistas</strong>\n",
    "* A escolha de um destino por alguém depende de uma série de fatores, como atrativos turísticos, a hospitalidade do local, os eventos disponíveis, a estrutura oferecida, sinalização adequada, transporte de qualidade e segurança.\n",
    "\n",
    "<strong>Hospedagens</strong>\n",
    "* Diversificação de serviços e qualidade ao prestá-los."
   ]
  },
  {
   "cell_type": "markdown",
   "metadata": {},
   "source": [
    "# Ponto Chave\n",
    "\n",
    "Tanto para o <strong>turista ter uma boa experiencia</strong> em sua visita quanto para a <strong>hospedagem fazer um atendimento de qualidade</strong>, a <strong>comunicação</strong> é essencial."
   ]
  },
  {
   "cell_type": "markdown",
   "metadata": {},
   "source": [
    "# Hipoteses\n",
    "* Os idiomas oferecidos pelas hospedagens influenciam no fluxo de turistas no local.\n",
    "* A quantidade de turistas em certa região influencia no investimento por parte das hospedagens em certos serviços.\n",
    "\n",
    "Vamos análisar os estados do RS,RJ,SP e PR pois atraves de nossa análise no notebook(Análise Turistas) descobrimos que há uma maior concentração de turistas nesses locais."
   ]
  },
  {
   "cell_type": "markdown",
   "metadata": {},
   "source": [
    "### Imports"
   ]
  },
  {
   "cell_type": "code",
   "execution_count": 1,
   "metadata": {},
   "outputs": [],
   "source": [
    "import pandas as pd\n",
    "import numpy as np\n",
    "\n",
    "from nltk.tokenize import sent_tokenize , word_tokenize\n",
    "import matplotlib.pyplot as plt\n",
    "import seaborn as sns\n",
    "%matplotlib inline\n",
    "sns.set()"
   ]
  },
  {
   "cell_type": "markdown",
   "metadata": {},
   "source": [
    "<h1>Carregando Dados</h1>\n",
    "<p>Dados de hospedagens cadastradas pelo ministerio do turismo</p>"
   ]
  },
  {
   "cell_type": "code",
   "execution_count": 2,
   "metadata": {},
   "outputs": [],
   "source": [
    "##Carregando dados 2014\n",
    "dados_2014 = pd.read_csv('Datasets/MeiodeHospedagem2014CadasturPJ.csv',encoding='latin-1',sep=';')\n",
    "\n",
    "##Carregando dados 2015\n",
    "dados_2015 = pd.read_csv('Datasets/MeiodeHospedagem2015CadasturPJ.csv',encoding='latin-1',sep=';')\n",
    "\n",
    "##Carregando dados 2016\n",
    "dados_2016_01 = pd.read_csv('Datasets/hospedagem_2016_01.csv',encoding='latin-1',sep=';')\n",
    "dados_2016_02 = pd.read_csv('Datasets/hospedagem_2016_02.csv',encoding='latin-1',sep=';')\n",
    "dados_2016_03 = pd.read_csv('Datasets/hospedagem_2016_03.csv',encoding='latin-1',sep=';')\n",
    "dados_2016_04 = pd.read_csv('Datasets/hospedagem_2016_04.csv',encoding='latin-1',sep=';')\n",
    "\n",
    "##Carregando dados 2017\n",
    "dados_2017_01 = pd.read_csv('Datasets/MeiodeHospedagem201701TrimestreCadasturPJ.csv',encoding='latin-1',sep=';')\n",
    "dados_2017_02 = pd.read_csv('Datasets/MeiodeHospedagem201702TrimestreCadasturPJ.csv',encoding='latin-1',sep=';')\n",
    "dados_2017_03 = pd.read_csv('Datasets/MeiodeHospedagem201703TrimestreCadasturPJ.csv',encoding='latin-1',sep=';')\n",
    "dados_2017_04 = pd.read_csv('Datasets/MeiodeHospedagem201704TrimestreCadasturPJ.csv',encoding='latin-1',sep=';')\n",
    "\n",
    "# Dados obtidos da Análise de Turistas\n",
    "chegadas2014 = pd.read_csv('chegadas2014.csv',encoding='latin-1',sep=',')\n",
    "chegadas2015 = pd.read_csv('chegadas2015.csv',encoding='latin-1',sep=',')\n",
    "chegadas2016 = pd.read_csv('chegadas2016.csv',encoding='latin-1',sep=',')\n",
    "chegadas2017 = pd.read_csv('chegadas2017.csv',encoding='latin-1',sep=',')\n"
   ]
  },
  {
   "cell_type": "code",
   "execution_count": 3,
   "metadata": {},
   "outputs": [
    {
     "name": "stdout",
     "output_type": "stream",
     "text": [
      "Index(['RAZÃO SOCIAL', 'NOME FANTASIA', 'CNPJ', 'NATUREZA JURIDICA',\n",
      "       'DATA INICIO OPERAÇÃO', 'PORTE', 'SITUAÇÃO', 'TIPO ATIVIDADE',\n",
      "       'SUBTIPO ATIVIDADE', 'CEP', 'UF', 'LOCALIDADE', 'BAIRRO', 'LOGRADOURO',\n",
      "       'TELEFONE', 'FAX', 'E-MAIL2', 'E-MAIL3', 'SITE', 'CÓDIGO CERTIFICADO',\n",
      "       'CÓDIGO E DESCRIÇÃO CNAE', 'UH', 'UHs ACESSÍVEIS', 'UHs PARA CAO GUIA',\n",
      "       'UHs TPS', 'TOTAL DE LEITOS', 'LINGUAS', 'SEGMENTOS TURISTICOS',\n",
      "       'SERVIÇOS', 'EQUIPAMENTOS'],\n",
      "      dtype='object')\n",
      "Index(['RAZÃO SOCIAL', 'NOME FANTASIA', 'CNPJ', 'NATUREZA JURIDICA',\n",
      "       'DATA INICIO OPERAÇÃO', 'PORTE', 'SITUAÇÃO', 'TIPO ATIVIDADE',\n",
      "       'SUBTIPO ATIVIDADE', 'CEP', 'UF', 'LOCALIDADE', 'BAIRRO', 'LOGRADOURO',\n",
      "       'TELEFONE', 'FAX', 'E-MAIL2', 'E-MAIL3', 'SITE', 'CÓDIGO CERTIFICADO',\n",
      "       'CÓDIGO E DESCRIÇÃO CNAE', 'UH', 'UHs ACESSÍVEIS', 'UHs PARA CAO GUIA',\n",
      "       'UHs TPS', 'TOTAL DE LEITOS', 'LINGUAS', 'SEGMENTOS TURISTICOS',\n",
      "       'SERVIÇOS', 'EQUIPAMENTOS'],\n",
      "      dtype='object')\n",
      "Index(['RAZÃO SOCIAL', 'NOME FANTASIA', 'CNPJ', 'NATUREZA JURIDICA',\n",
      "       'DATA INICIO OPERAÇÃO', 'PORTE', 'SITUAÇÃO', 'TIPO ATIVIDADE',\n",
      "       'SUBTIPO ATIVIDADE', 'CEP', 'UF', 'LOCALIDADE', 'BAIRRO', 'LOGRADOURO',\n",
      "       'TELEFONE', 'FAX', 'E-MAIL2', 'E-MAIL3', 'SITE', 'CÓDIGO CERTIFICADO',\n",
      "       'CÓDIGO E DESCRIÇÃO CNAE', 'UH', 'UHs ACESSÍVEIS', 'UHs PARA CAO GUIA',\n",
      "       'UHs TPS', 'TOTAL DE LEITOS', 'LINGUAS', 'SEGMENTOS TURISTICOS',\n",
      "       'SERVIÇOS', 'EQUIPAMENTOS'],\n",
      "      dtype='object')\n",
      "Index(['RAZÃO SOCIAL', 'NOME FANTASIA', 'CNPJ', 'NATUREZA JURIDICA',\n",
      "       'DATA INICIO OPERAÇÃO', 'PORTE', 'SITUAÇÃO', 'TIPO ATIVIDADE',\n",
      "       'SUBTIPO ATIVIDADE', 'CEP', 'UF', 'LOCALIDADE', 'BAIRRO', 'LOGRADOURO',\n",
      "       'TELEFONE', 'FAX', 'E-MAIL2', 'E-MAIL3', 'SITE', 'CÓDIGO CERTIFICADO',\n",
      "       'CÓDIGO E DESCRIÇÃO CNAE', 'UH', 'UHs ACESSÍVEIS', 'UHs PARA CAO GUIA',\n",
      "       'UHs TPS', 'TOTAL DE LEITOS', 'LINGUAS', 'SEGMENTOS TURISTICOS',\n",
      "       'SERVIÇOS', 'EQUIPAMENTOS'],\n",
      "      dtype='object')\n"
     ]
    }
   ],
   "source": [
    "## Colunas dos Dados\n",
    "print(dados_2014.columns)\n",
    "print(dados_2015.columns)\n",
    "print(dados_2016_04.columns)\n",
    "print(dados_2017_04.columns)"
   ]
  },
  {
   "cell_type": "markdown",
   "metadata": {},
   "source": [
    "## Função Análise de Hospedagens\n",
    "<p>Esta função <strong>análisa/filtra</strong> os dados oriundos dos CSV's,dentro da pasta <strong>Datasets</strong>, correspondentes dos <strong>meios de hospedagens</strong></p>"
   ]
  },
  {
   "cell_type": "code",
   "execution_count": 4,
   "metadata": {},
   "outputs": [],
   "source": [
    "def AnaliseDadosHospedagens(dataFrame_Hospedagens):\n",
    "    ##Escolhendo colunas\n",
    "    dados = pd.DataFrame(dataFrame_Hospedagens,columns = ['UF','CNPJ','SITUAÇÃO', 'LINGUAS']) \n",
    "\n",
    "    ## Hospedagens que estão funcionando\n",
    "    dados = dados[dados.SITUAÇÃO.str.contains('Em Operação')]\n",
    "\n",
    "    ## Eliminando dados inválidos\n",
    "    dados = dados.dropna()\n",
    "    \n",
    "    ## Pegando todos os idiomas oferecidos pelas hospedagens deixando de lado aqueles que não tem nenhum idioma\n",
    "    allIdiomas = []\n",
    "    for valor in dados.LINGUAS:\n",
    "        valor_tokenize = word_tokenize(valor)\n",
    "        for palavra in valor_tokenize:\n",
    "            if (len(palavra) > 4) and (palavra != 'Nenhuma') and (palavra != 'Opções'):\n",
    "                allIdiomas.append(palavra)\n",
    "\n",
    "    linguas = set(allIdiomas)\n",
    "    \n",
    "    print(linguas)\n",
    "    \n",
    "    # Adicionando valores as coluncas de idiomas oferecidos\n",
    "    for lingua in linguas:\n",
    "        dados.loc[dados['LINGUAS'].str.contains(lingua),lingua] = 1\n",
    "    \n",
    "    return dados"
   ]
  },
  {
   "cell_type": "markdown",
   "metadata": {},
   "source": [
    "# Dados dos anos 2014-2015"
   ]
  },
  {
   "cell_type": "code",
   "execution_count": 5,
   "metadata": {},
   "outputs": [
    {
     "name": "stdout",
     "output_type": "stream",
     "text": [
      "{'Dinamarquês', 'Hebraico', 'Espanhol', 'Alemão', 'Italiano', 'Japonês', 'Inglês', 'Francês', 'Mandarim', 'Russo', 'Sueco'}\n"
     ]
    },
    {
     "data": {
      "text/html": [
       "<div>\n",
       "<style scoped>\n",
       "    .dataframe tbody tr th:only-of-type {\n",
       "        vertical-align: middle;\n",
       "    }\n",
       "\n",
       "    .dataframe tbody tr th {\n",
       "        vertical-align: top;\n",
       "    }\n",
       "\n",
       "    .dataframe thead th {\n",
       "        text-align: right;\n",
       "    }\n",
       "</style>\n",
       "<table border=\"1\" class=\"dataframe\">\n",
       "  <thead>\n",
       "    <tr style=\"text-align: right;\">\n",
       "      <th></th>\n",
       "      <th>UF</th>\n",
       "      <th>CNPJ</th>\n",
       "      <th>SITUAÇÃO</th>\n",
       "      <th>LINGUAS</th>\n",
       "      <th>Dinamarquês</th>\n",
       "      <th>Hebraico</th>\n",
       "      <th>Espanhol</th>\n",
       "      <th>Alemão</th>\n",
       "      <th>Italiano</th>\n",
       "      <th>Japonês</th>\n",
       "      <th>Inglês</th>\n",
       "      <th>Francês</th>\n",
       "      <th>Mandarim</th>\n",
       "      <th>Russo</th>\n",
       "      <th>Sueco</th>\n",
       "    </tr>\n",
       "  </thead>\n",
       "  <tbody>\n",
       "    <tr>\n",
       "      <th>0</th>\n",
       "      <td>MA</td>\n",
       "      <td>13.458.024/0001-30</td>\n",
       "      <td>Em Operação</td>\n",
       "      <td>(\"Francês,Inglês,Italiano\")</td>\n",
       "      <td>NaN</td>\n",
       "      <td>NaN</td>\n",
       "      <td>NaN</td>\n",
       "      <td>NaN</td>\n",
       "      <td>1.0</td>\n",
       "      <td>NaN</td>\n",
       "      <td>1.0</td>\n",
       "      <td>1.0</td>\n",
       "      <td>NaN</td>\n",
       "      <td>NaN</td>\n",
       "      <td>NaN</td>\n",
       "    </tr>\n",
       "    <tr>\n",
       "      <th>1</th>\n",
       "      <td>RS</td>\n",
       "      <td>10.581.146/0001-21</td>\n",
       "      <td>Em Operação</td>\n",
       "      <td>(\"Nenhuma das Opções\")</td>\n",
       "      <td>NaN</td>\n",
       "      <td>NaN</td>\n",
       "      <td>NaN</td>\n",
       "      <td>NaN</td>\n",
       "      <td>NaN</td>\n",
       "      <td>NaN</td>\n",
       "      <td>NaN</td>\n",
       "      <td>NaN</td>\n",
       "      <td>NaN</td>\n",
       "      <td>NaN</td>\n",
       "      <td>NaN</td>\n",
       "    </tr>\n",
       "    <tr>\n",
       "      <th>2</th>\n",
       "      <td>SP</td>\n",
       "      <td>19.179.682/0001-70</td>\n",
       "      <td>Em Operação</td>\n",
       "      <td>(\"Inglês,Espanhol\")</td>\n",
       "      <td>NaN</td>\n",
       "      <td>NaN</td>\n",
       "      <td>1.0</td>\n",
       "      <td>NaN</td>\n",
       "      <td>NaN</td>\n",
       "      <td>NaN</td>\n",
       "      <td>1.0</td>\n",
       "      <td>NaN</td>\n",
       "      <td>NaN</td>\n",
       "      <td>NaN</td>\n",
       "      <td>NaN</td>\n",
       "    </tr>\n",
       "    <tr>\n",
       "      <th>3</th>\n",
       "      <td>SP</td>\n",
       "      <td>19.138.838/0001-74</td>\n",
       "      <td>Em Operação</td>\n",
       "      <td>(\"Inglês,Espanhol\")</td>\n",
       "      <td>NaN</td>\n",
       "      <td>NaN</td>\n",
       "      <td>1.0</td>\n",
       "      <td>NaN</td>\n",
       "      <td>NaN</td>\n",
       "      <td>NaN</td>\n",
       "      <td>1.0</td>\n",
       "      <td>NaN</td>\n",
       "      <td>NaN</td>\n",
       "      <td>NaN</td>\n",
       "      <td>NaN</td>\n",
       "    </tr>\n",
       "    <tr>\n",
       "      <th>4</th>\n",
       "      <td>SP</td>\n",
       "      <td>19.138.796/0001-71</td>\n",
       "      <td>Em Operação</td>\n",
       "      <td>(\"Inglês,Espanhol\")</td>\n",
       "      <td>NaN</td>\n",
       "      <td>NaN</td>\n",
       "      <td>1.0</td>\n",
       "      <td>NaN</td>\n",
       "      <td>NaN</td>\n",
       "      <td>NaN</td>\n",
       "      <td>1.0</td>\n",
       "      <td>NaN</td>\n",
       "      <td>NaN</td>\n",
       "      <td>NaN</td>\n",
       "      <td>NaN</td>\n",
       "    </tr>\n",
       "  </tbody>\n",
       "</table>\n",
       "</div>"
      ],
      "text/plain": [
       "   UF                CNPJ     SITUAÇÃO                      LINGUAS  \\\n",
       "0  MA  13.458.024/0001-30  Em Operação  (\"Francês,Inglês,Italiano\")   \n",
       "1  RS  10.581.146/0001-21  Em Operação       (\"Nenhuma das Opções\")   \n",
       "2  SP  19.179.682/0001-70  Em Operação          (\"Inglês,Espanhol\")   \n",
       "3  SP  19.138.838/0001-74  Em Operação          (\"Inglês,Espanhol\")   \n",
       "4  SP  19.138.796/0001-71  Em Operação          (\"Inglês,Espanhol\")   \n",
       "\n",
       "   Dinamarquês  Hebraico  Espanhol  Alemão  Italiano  Japonês  Inglês  \\\n",
       "0          NaN       NaN       NaN     NaN       1.0      NaN     1.0   \n",
       "1          NaN       NaN       NaN     NaN       NaN      NaN     NaN   \n",
       "2          NaN       NaN       1.0     NaN       NaN      NaN     1.0   \n",
       "3          NaN       NaN       1.0     NaN       NaN      NaN     1.0   \n",
       "4          NaN       NaN       1.0     NaN       NaN      NaN     1.0   \n",
       "\n",
       "   Francês  Mandarim  Russo  Sueco  \n",
       "0      1.0       NaN    NaN    NaN  \n",
       "1      NaN       NaN    NaN    NaN  \n",
       "2      NaN       NaN    NaN    NaN  \n",
       "3      NaN       NaN    NaN    NaN  \n",
       "4      NaN       NaN    NaN    NaN  "
      ]
     },
     "metadata": {},
     "output_type": "display_data"
    }
   ],
   "source": [
    "# dados 2014\n",
    "dados_2014 = AnaliseDadosHospedagens(dados_2014)\n",
    "display(dados_2014.head())"
   ]
  },
  {
   "cell_type": "code",
   "execution_count": 6,
   "metadata": {},
   "outputs": [
    {
     "name": "stdout",
     "output_type": "stream",
     "text": [
      "{'Hebraico', 'Espanhol', 'Alemão', 'Italiano', 'Japonês', 'Inglês', 'Francês', 'Mandarim', 'Russo'}\n"
     ]
    },
    {
     "data": {
      "text/html": [
       "<div>\n",
       "<style scoped>\n",
       "    .dataframe tbody tr th:only-of-type {\n",
       "        vertical-align: middle;\n",
       "    }\n",
       "\n",
       "    .dataframe tbody tr th {\n",
       "        vertical-align: top;\n",
       "    }\n",
       "\n",
       "    .dataframe thead th {\n",
       "        text-align: right;\n",
       "    }\n",
       "</style>\n",
       "<table border=\"1\" class=\"dataframe\">\n",
       "  <thead>\n",
       "    <tr style=\"text-align: right;\">\n",
       "      <th></th>\n",
       "      <th>UF</th>\n",
       "      <th>CNPJ</th>\n",
       "      <th>SITUAÇÃO</th>\n",
       "      <th>LINGUAS</th>\n",
       "      <th>Hebraico</th>\n",
       "      <th>Espanhol</th>\n",
       "      <th>Alemão</th>\n",
       "      <th>Italiano</th>\n",
       "      <th>Japonês</th>\n",
       "      <th>Inglês</th>\n",
       "      <th>Francês</th>\n",
       "      <th>Mandarim</th>\n",
       "      <th>Russo</th>\n",
       "    </tr>\n",
       "  </thead>\n",
       "  <tbody>\n",
       "    <tr>\n",
       "      <th>0</th>\n",
       "      <td>MA</td>\n",
       "      <td>13.458.024/0001-30</td>\n",
       "      <td>Em Operação</td>\n",
       "      <td>(\"Francês,Inglês,Italiano\")</td>\n",
       "      <td>NaN</td>\n",
       "      <td>NaN</td>\n",
       "      <td>NaN</td>\n",
       "      <td>1.0</td>\n",
       "      <td>NaN</td>\n",
       "      <td>1.0</td>\n",
       "      <td>1.0</td>\n",
       "      <td>NaN</td>\n",
       "      <td>NaN</td>\n",
       "    </tr>\n",
       "    <tr>\n",
       "      <th>1</th>\n",
       "      <td>RS</td>\n",
       "      <td>10.581.146/0001-21</td>\n",
       "      <td>Em Operação</td>\n",
       "      <td>(\"Nenhuma das Opções\")</td>\n",
       "      <td>NaN</td>\n",
       "      <td>NaN</td>\n",
       "      <td>NaN</td>\n",
       "      <td>NaN</td>\n",
       "      <td>NaN</td>\n",
       "      <td>NaN</td>\n",
       "      <td>NaN</td>\n",
       "      <td>NaN</td>\n",
       "      <td>NaN</td>\n",
       "    </tr>\n",
       "    <tr>\n",
       "      <th>2</th>\n",
       "      <td>SP</td>\n",
       "      <td>19.179.682/0001-70</td>\n",
       "      <td>Em Operação</td>\n",
       "      <td>(\"Inglês,Espanhol\")</td>\n",
       "      <td>NaN</td>\n",
       "      <td>1.0</td>\n",
       "      <td>NaN</td>\n",
       "      <td>NaN</td>\n",
       "      <td>NaN</td>\n",
       "      <td>1.0</td>\n",
       "      <td>NaN</td>\n",
       "      <td>NaN</td>\n",
       "      <td>NaN</td>\n",
       "    </tr>\n",
       "    <tr>\n",
       "      <th>3</th>\n",
       "      <td>SP</td>\n",
       "      <td>19.138.838/0001-74</td>\n",
       "      <td>Em Operação</td>\n",
       "      <td>(\"Inglês,Espanhol\")</td>\n",
       "      <td>NaN</td>\n",
       "      <td>1.0</td>\n",
       "      <td>NaN</td>\n",
       "      <td>NaN</td>\n",
       "      <td>NaN</td>\n",
       "      <td>1.0</td>\n",
       "      <td>NaN</td>\n",
       "      <td>NaN</td>\n",
       "      <td>NaN</td>\n",
       "    </tr>\n",
       "    <tr>\n",
       "      <th>4</th>\n",
       "      <td>SP</td>\n",
       "      <td>19.138.796/0001-71</td>\n",
       "      <td>Em Operação</td>\n",
       "      <td>(\"Inglês,Espanhol\")</td>\n",
       "      <td>NaN</td>\n",
       "      <td>1.0</td>\n",
       "      <td>NaN</td>\n",
       "      <td>NaN</td>\n",
       "      <td>NaN</td>\n",
       "      <td>1.0</td>\n",
       "      <td>NaN</td>\n",
       "      <td>NaN</td>\n",
       "      <td>NaN</td>\n",
       "    </tr>\n",
       "  </tbody>\n",
       "</table>\n",
       "</div>"
      ],
      "text/plain": [
       "   UF                CNPJ     SITUAÇÃO                      LINGUAS  Hebraico  \\\n",
       "0  MA  13.458.024/0001-30  Em Operação  (\"Francês,Inglês,Italiano\")       NaN   \n",
       "1  RS  10.581.146/0001-21  Em Operação       (\"Nenhuma das Opções\")       NaN   \n",
       "2  SP  19.179.682/0001-70  Em Operação          (\"Inglês,Espanhol\")       NaN   \n",
       "3  SP  19.138.838/0001-74  Em Operação          (\"Inglês,Espanhol\")       NaN   \n",
       "4  SP  19.138.796/0001-71  Em Operação          (\"Inglês,Espanhol\")       NaN   \n",
       "\n",
       "   Espanhol  Alemão  Italiano  Japonês  Inglês  Francês  Mandarim  Russo  \n",
       "0       NaN     NaN       1.0      NaN     1.0      1.0       NaN    NaN  \n",
       "1       NaN     NaN       NaN      NaN     NaN      NaN       NaN    NaN  \n",
       "2       1.0     NaN       NaN      NaN     1.0      NaN       NaN    NaN  \n",
       "3       1.0     NaN       NaN      NaN     1.0      NaN       NaN    NaN  \n",
       "4       1.0     NaN       NaN      NaN     1.0      NaN       NaN    NaN  "
      ]
     },
     "metadata": {},
     "output_type": "display_data"
    }
   ],
   "source": [
    "# dados 2015\n",
    "dados_2015 = AnaliseDadosHospedagens(dados_2015)\n",
    "display(dados_2015.head())"
   ]
  },
  {
   "cell_type": "markdown",
   "metadata": {},
   "source": [
    "# Dados dos anos 2016-2017"
   ]
  },
  {
   "cell_type": "markdown",
   "metadata": {},
   "source": [
    "## 1 Trimestre\n",
    "<p>Análise dos <strong>dados</strong> das hospedagens nos meses de <strong>Janeiro</strong>,<strong>Fevereiro</strong> e <strong>Março</strong><p>"
   ]
  },
  {
   "cell_type": "code",
   "execution_count": 7,
   "metadata": {},
   "outputs": [
    {
     "name": "stdout",
     "output_type": "stream",
     "text": [
      "{'Hebraico', 'Espanhol', 'Alemão', 'Italiano', 'Japonês', 'Inglês', 'Francês', 'Mandarim', 'Russo'}\n"
     ]
    },
    {
     "data": {
      "text/html": [
       "<div>\n",
       "<style scoped>\n",
       "    .dataframe tbody tr th:only-of-type {\n",
       "        vertical-align: middle;\n",
       "    }\n",
       "\n",
       "    .dataframe tbody tr th {\n",
       "        vertical-align: top;\n",
       "    }\n",
       "\n",
       "    .dataframe thead th {\n",
       "        text-align: right;\n",
       "    }\n",
       "</style>\n",
       "<table border=\"1\" class=\"dataframe\">\n",
       "  <thead>\n",
       "    <tr style=\"text-align: right;\">\n",
       "      <th></th>\n",
       "      <th>UF</th>\n",
       "      <th>CNPJ</th>\n",
       "      <th>SITUAÇÃO</th>\n",
       "      <th>LINGUAS</th>\n",
       "      <th>Hebraico</th>\n",
       "      <th>Espanhol</th>\n",
       "      <th>Alemão</th>\n",
       "      <th>Italiano</th>\n",
       "      <th>Japonês</th>\n",
       "      <th>Inglês</th>\n",
       "      <th>Francês</th>\n",
       "      <th>Mandarim</th>\n",
       "      <th>Russo</th>\n",
       "    </tr>\n",
       "  </thead>\n",
       "  <tbody>\n",
       "    <tr>\n",
       "      <th>0</th>\n",
       "      <td>MA</td>\n",
       "      <td>13.458.024/0001-30</td>\n",
       "      <td>Em Operação</td>\n",
       "      <td>(\"Francês,Inglês,Italiano\")</td>\n",
       "      <td>NaN</td>\n",
       "      <td>NaN</td>\n",
       "      <td>NaN</td>\n",
       "      <td>1.0</td>\n",
       "      <td>NaN</td>\n",
       "      <td>1.0</td>\n",
       "      <td>1.0</td>\n",
       "      <td>NaN</td>\n",
       "      <td>NaN</td>\n",
       "    </tr>\n",
       "    <tr>\n",
       "      <th>1</th>\n",
       "      <td>RS</td>\n",
       "      <td>10.581.146/0001-21</td>\n",
       "      <td>Em Operação</td>\n",
       "      <td>(\"Nenhuma das Opções\")</td>\n",
       "      <td>NaN</td>\n",
       "      <td>NaN</td>\n",
       "      <td>NaN</td>\n",
       "      <td>NaN</td>\n",
       "      <td>NaN</td>\n",
       "      <td>NaN</td>\n",
       "      <td>NaN</td>\n",
       "      <td>NaN</td>\n",
       "      <td>NaN</td>\n",
       "    </tr>\n",
       "    <tr>\n",
       "      <th>2</th>\n",
       "      <td>SP</td>\n",
       "      <td>19.179.682/0001-70</td>\n",
       "      <td>Em Operação</td>\n",
       "      <td>(\"Inglês,Espanhol\")</td>\n",
       "      <td>NaN</td>\n",
       "      <td>1.0</td>\n",
       "      <td>NaN</td>\n",
       "      <td>NaN</td>\n",
       "      <td>NaN</td>\n",
       "      <td>1.0</td>\n",
       "      <td>NaN</td>\n",
       "      <td>NaN</td>\n",
       "      <td>NaN</td>\n",
       "    </tr>\n",
       "    <tr>\n",
       "      <th>3</th>\n",
       "      <td>SP</td>\n",
       "      <td>19.138.838/0001-74</td>\n",
       "      <td>Em Operação</td>\n",
       "      <td>(\"Inglês,Espanhol\")</td>\n",
       "      <td>NaN</td>\n",
       "      <td>1.0</td>\n",
       "      <td>NaN</td>\n",
       "      <td>NaN</td>\n",
       "      <td>NaN</td>\n",
       "      <td>1.0</td>\n",
       "      <td>NaN</td>\n",
       "      <td>NaN</td>\n",
       "      <td>NaN</td>\n",
       "    </tr>\n",
       "    <tr>\n",
       "      <th>4</th>\n",
       "      <td>SP</td>\n",
       "      <td>19.138.796/0001-71</td>\n",
       "      <td>Em Operação</td>\n",
       "      <td>(\"Inglês,Espanhol\")</td>\n",
       "      <td>NaN</td>\n",
       "      <td>1.0</td>\n",
       "      <td>NaN</td>\n",
       "      <td>NaN</td>\n",
       "      <td>NaN</td>\n",
       "      <td>1.0</td>\n",
       "      <td>NaN</td>\n",
       "      <td>NaN</td>\n",
       "      <td>NaN</td>\n",
       "    </tr>\n",
       "  </tbody>\n",
       "</table>\n",
       "</div>"
      ],
      "text/plain": [
       "   UF                CNPJ     SITUAÇÃO                      LINGUAS  Hebraico  \\\n",
       "0  MA  13.458.024/0001-30  Em Operação  (\"Francês,Inglês,Italiano\")       NaN   \n",
       "1  RS  10.581.146/0001-21  Em Operação       (\"Nenhuma das Opções\")       NaN   \n",
       "2  SP  19.179.682/0001-70  Em Operação          (\"Inglês,Espanhol\")       NaN   \n",
       "3  SP  19.138.838/0001-74  Em Operação          (\"Inglês,Espanhol\")       NaN   \n",
       "4  SP  19.138.796/0001-71  Em Operação          (\"Inglês,Espanhol\")       NaN   \n",
       "\n",
       "   Espanhol  Alemão  Italiano  Japonês  Inglês  Francês  Mandarim  Russo  \n",
       "0       NaN     NaN       1.0      NaN     1.0      1.0       NaN    NaN  \n",
       "1       NaN     NaN       NaN      NaN     NaN      NaN       NaN    NaN  \n",
       "2       1.0     NaN       NaN      NaN     1.0      NaN       NaN    NaN  \n",
       "3       1.0     NaN       NaN      NaN     1.0      NaN       NaN    NaN  \n",
       "4       1.0     NaN       NaN      NaN     1.0      NaN       NaN    NaN  "
      ]
     },
     "metadata": {},
     "output_type": "display_data"
    }
   ],
   "source": [
    "# dados 1 trimestre 2016\n",
    "dados_2016_01 = AnaliseDadosHospedagens(dados_2016_01)\n",
    "display(dados_2016_01.head())"
   ]
  },
  {
   "cell_type": "code",
   "execution_count": 8,
   "metadata": {},
   "outputs": [
    {
     "name": "stdout",
     "output_type": "stream",
     "text": [
      "{'Hebraico', 'Eslovaco', 'Espanhol', 'Alemão', 'Italiano', 'Japonês', 'Catalão', 'Inglês', 'Francês', 'Mandarim', 'Russo'}\n"
     ]
    },
    {
     "data": {
      "text/html": [
       "<div>\n",
       "<style scoped>\n",
       "    .dataframe tbody tr th:only-of-type {\n",
       "        vertical-align: middle;\n",
       "    }\n",
       "\n",
       "    .dataframe tbody tr th {\n",
       "        vertical-align: top;\n",
       "    }\n",
       "\n",
       "    .dataframe thead th {\n",
       "        text-align: right;\n",
       "    }\n",
       "</style>\n",
       "<table border=\"1\" class=\"dataframe\">\n",
       "  <thead>\n",
       "    <tr style=\"text-align: right;\">\n",
       "      <th></th>\n",
       "      <th>UF</th>\n",
       "      <th>CNPJ</th>\n",
       "      <th>SITUAÇÃO</th>\n",
       "      <th>LINGUAS</th>\n",
       "      <th>Hebraico</th>\n",
       "      <th>Eslovaco</th>\n",
       "      <th>Espanhol</th>\n",
       "      <th>Alemão</th>\n",
       "      <th>Italiano</th>\n",
       "      <th>Japonês</th>\n",
       "      <th>Catalão</th>\n",
       "      <th>Inglês</th>\n",
       "      <th>Francês</th>\n",
       "      <th>Mandarim</th>\n",
       "      <th>Russo</th>\n",
       "    </tr>\n",
       "  </thead>\n",
       "  <tbody>\n",
       "    <tr>\n",
       "      <th>0</th>\n",
       "      <td>MA</td>\n",
       "      <td>13.458.024/0001-30</td>\n",
       "      <td>Em Operação</td>\n",
       "      <td>Italiano ,Francês ,Inglês</td>\n",
       "      <td>NaN</td>\n",
       "      <td>NaN</td>\n",
       "      <td>NaN</td>\n",
       "      <td>NaN</td>\n",
       "      <td>1.0</td>\n",
       "      <td>NaN</td>\n",
       "      <td>NaN</td>\n",
       "      <td>1.0</td>\n",
       "      <td>1.0</td>\n",
       "      <td>NaN</td>\n",
       "      <td>NaN</td>\n",
       "    </tr>\n",
       "    <tr>\n",
       "      <th>1</th>\n",
       "      <td>BA</td>\n",
       "      <td>17.498.787/0001-66</td>\n",
       "      <td>Em Operação</td>\n",
       "      <td>Inglês</td>\n",
       "      <td>NaN</td>\n",
       "      <td>NaN</td>\n",
       "      <td>NaN</td>\n",
       "      <td>NaN</td>\n",
       "      <td>NaN</td>\n",
       "      <td>NaN</td>\n",
       "      <td>NaN</td>\n",
       "      <td>1.0</td>\n",
       "      <td>NaN</td>\n",
       "      <td>NaN</td>\n",
       "      <td>NaN</td>\n",
       "    </tr>\n",
       "    <tr>\n",
       "      <th>2</th>\n",
       "      <td>SP</td>\n",
       "      <td>19.179.682/0001-70</td>\n",
       "      <td>Em Operação</td>\n",
       "      <td>Espanhol ,Inglês</td>\n",
       "      <td>NaN</td>\n",
       "      <td>NaN</td>\n",
       "      <td>1.0</td>\n",
       "      <td>NaN</td>\n",
       "      <td>NaN</td>\n",
       "      <td>NaN</td>\n",
       "      <td>NaN</td>\n",
       "      <td>1.0</td>\n",
       "      <td>NaN</td>\n",
       "      <td>NaN</td>\n",
       "      <td>NaN</td>\n",
       "    </tr>\n",
       "    <tr>\n",
       "      <th>3</th>\n",
       "      <td>SP</td>\n",
       "      <td>19.138.838/0001-74</td>\n",
       "      <td>Em Operação</td>\n",
       "      <td>Espanhol ,Inglês</td>\n",
       "      <td>NaN</td>\n",
       "      <td>NaN</td>\n",
       "      <td>1.0</td>\n",
       "      <td>NaN</td>\n",
       "      <td>NaN</td>\n",
       "      <td>NaN</td>\n",
       "      <td>NaN</td>\n",
       "      <td>1.0</td>\n",
       "      <td>NaN</td>\n",
       "      <td>NaN</td>\n",
       "      <td>NaN</td>\n",
       "    </tr>\n",
       "    <tr>\n",
       "      <th>4</th>\n",
       "      <td>SP</td>\n",
       "      <td>19.138.796/0001-71</td>\n",
       "      <td>Em Operação</td>\n",
       "      <td>Espanhol ,Inglês</td>\n",
       "      <td>NaN</td>\n",
       "      <td>NaN</td>\n",
       "      <td>1.0</td>\n",
       "      <td>NaN</td>\n",
       "      <td>NaN</td>\n",
       "      <td>NaN</td>\n",
       "      <td>NaN</td>\n",
       "      <td>1.0</td>\n",
       "      <td>NaN</td>\n",
       "      <td>NaN</td>\n",
       "      <td>NaN</td>\n",
       "    </tr>\n",
       "  </tbody>\n",
       "</table>\n",
       "</div>"
      ],
      "text/plain": [
       "   UF                CNPJ     SITUAÇÃO                    LINGUAS  Hebraico  \\\n",
       "0  MA  13.458.024/0001-30  Em Operação  Italiano ,Francês ,Inglês       NaN   \n",
       "1  BA  17.498.787/0001-66  Em Operação                     Inglês       NaN   \n",
       "2  SP  19.179.682/0001-70  Em Operação           Espanhol ,Inglês       NaN   \n",
       "3  SP  19.138.838/0001-74  Em Operação           Espanhol ,Inglês       NaN   \n",
       "4  SP  19.138.796/0001-71  Em Operação           Espanhol ,Inglês       NaN   \n",
       "\n",
       "   Eslovaco  Espanhol  Alemão  Italiano  Japonês  Catalão  Inglês  Francês  \\\n",
       "0       NaN       NaN     NaN       1.0      NaN      NaN     1.0      1.0   \n",
       "1       NaN       NaN     NaN       NaN      NaN      NaN     1.0      NaN   \n",
       "2       NaN       1.0     NaN       NaN      NaN      NaN     1.0      NaN   \n",
       "3       NaN       1.0     NaN       NaN      NaN      NaN     1.0      NaN   \n",
       "4       NaN       1.0     NaN       NaN      NaN      NaN     1.0      NaN   \n",
       "\n",
       "   Mandarim  Russo  \n",
       "0       NaN    NaN  \n",
       "1       NaN    NaN  \n",
       "2       NaN    NaN  \n",
       "3       NaN    NaN  \n",
       "4       NaN    NaN  "
      ]
     },
     "metadata": {},
     "output_type": "display_data"
    }
   ],
   "source": [
    "# dados 1 trimestre 2017\n",
    "dados_2017_01 = AnaliseDadosHospedagens(dados_2017_01)\n",
    "display(dados_2017_01.head())"
   ]
  },
  {
   "cell_type": "markdown",
   "metadata": {},
   "source": [
    "## 2 Trimestre\n",
    "<p>Análise dos <strong>dados</strong> das hospedagens nos meses de <strong>Abril</strong>,<strong>Maio</strong> e <strong>Junho</strong><p>"
   ]
  },
  {
   "cell_type": "code",
   "execution_count": 9,
   "metadata": {},
   "outputs": [
    {
     "name": "stdout",
     "output_type": "stream",
     "text": [
      "{'Hebraico', 'Espanhol', 'Alemão', 'Italiano', 'Japonês', 'Inglês', 'Francês', 'Mandarim', 'Russo'}\n"
     ]
    },
    {
     "data": {
      "text/html": [
       "<div>\n",
       "<style scoped>\n",
       "    .dataframe tbody tr th:only-of-type {\n",
       "        vertical-align: middle;\n",
       "    }\n",
       "\n",
       "    .dataframe tbody tr th {\n",
       "        vertical-align: top;\n",
       "    }\n",
       "\n",
       "    .dataframe thead th {\n",
       "        text-align: right;\n",
       "    }\n",
       "</style>\n",
       "<table border=\"1\" class=\"dataframe\">\n",
       "  <thead>\n",
       "    <tr style=\"text-align: right;\">\n",
       "      <th></th>\n",
       "      <th>UF</th>\n",
       "      <th>CNPJ</th>\n",
       "      <th>SITUAÇÃO</th>\n",
       "      <th>LINGUAS</th>\n",
       "      <th>Hebraico</th>\n",
       "      <th>Espanhol</th>\n",
       "      <th>Alemão</th>\n",
       "      <th>Italiano</th>\n",
       "      <th>Japonês</th>\n",
       "      <th>Inglês</th>\n",
       "      <th>Francês</th>\n",
       "      <th>Mandarim</th>\n",
       "      <th>Russo</th>\n",
       "    </tr>\n",
       "  </thead>\n",
       "  <tbody>\n",
       "    <tr>\n",
       "      <th>0</th>\n",
       "      <td>MA</td>\n",
       "      <td>13.458.024/0001-30</td>\n",
       "      <td>Em Operação</td>\n",
       "      <td>(\"Francês,Inglês,Italiano\")</td>\n",
       "      <td>NaN</td>\n",
       "      <td>NaN</td>\n",
       "      <td>NaN</td>\n",
       "      <td>1.0</td>\n",
       "      <td>NaN</td>\n",
       "      <td>1.0</td>\n",
       "      <td>1.0</td>\n",
       "      <td>NaN</td>\n",
       "      <td>NaN</td>\n",
       "    </tr>\n",
       "    <tr>\n",
       "      <th>1</th>\n",
       "      <td>RS</td>\n",
       "      <td>10.581.146/0001-21</td>\n",
       "      <td>Em Operação</td>\n",
       "      <td>(\"Nenhuma das Opções\")</td>\n",
       "      <td>NaN</td>\n",
       "      <td>NaN</td>\n",
       "      <td>NaN</td>\n",
       "      <td>NaN</td>\n",
       "      <td>NaN</td>\n",
       "      <td>NaN</td>\n",
       "      <td>NaN</td>\n",
       "      <td>NaN</td>\n",
       "      <td>NaN</td>\n",
       "    </tr>\n",
       "    <tr>\n",
       "      <th>2</th>\n",
       "      <td>SP</td>\n",
       "      <td>19.179.682/0001-70</td>\n",
       "      <td>Em Operação</td>\n",
       "      <td>(\"Inglês,Espanhol\")</td>\n",
       "      <td>NaN</td>\n",
       "      <td>1.0</td>\n",
       "      <td>NaN</td>\n",
       "      <td>NaN</td>\n",
       "      <td>NaN</td>\n",
       "      <td>1.0</td>\n",
       "      <td>NaN</td>\n",
       "      <td>NaN</td>\n",
       "      <td>NaN</td>\n",
       "    </tr>\n",
       "    <tr>\n",
       "      <th>3</th>\n",
       "      <td>SP</td>\n",
       "      <td>19.138.838/0001-74</td>\n",
       "      <td>Em Operação</td>\n",
       "      <td>(\"Inglês,Espanhol\")</td>\n",
       "      <td>NaN</td>\n",
       "      <td>1.0</td>\n",
       "      <td>NaN</td>\n",
       "      <td>NaN</td>\n",
       "      <td>NaN</td>\n",
       "      <td>1.0</td>\n",
       "      <td>NaN</td>\n",
       "      <td>NaN</td>\n",
       "      <td>NaN</td>\n",
       "    </tr>\n",
       "    <tr>\n",
       "      <th>4</th>\n",
       "      <td>SP</td>\n",
       "      <td>19.138.796/0001-71</td>\n",
       "      <td>Em Operação</td>\n",
       "      <td>(\"Inglês,Espanhol\")</td>\n",
       "      <td>NaN</td>\n",
       "      <td>1.0</td>\n",
       "      <td>NaN</td>\n",
       "      <td>NaN</td>\n",
       "      <td>NaN</td>\n",
       "      <td>1.0</td>\n",
       "      <td>NaN</td>\n",
       "      <td>NaN</td>\n",
       "      <td>NaN</td>\n",
       "    </tr>\n",
       "  </tbody>\n",
       "</table>\n",
       "</div>"
      ],
      "text/plain": [
       "   UF                CNPJ     SITUAÇÃO                      LINGUAS  Hebraico  \\\n",
       "0  MA  13.458.024/0001-30  Em Operação  (\"Francês,Inglês,Italiano\")       NaN   \n",
       "1  RS  10.581.146/0001-21  Em Operação       (\"Nenhuma das Opções\")       NaN   \n",
       "2  SP  19.179.682/0001-70  Em Operação          (\"Inglês,Espanhol\")       NaN   \n",
       "3  SP  19.138.838/0001-74  Em Operação          (\"Inglês,Espanhol\")       NaN   \n",
       "4  SP  19.138.796/0001-71  Em Operação          (\"Inglês,Espanhol\")       NaN   \n",
       "\n",
       "   Espanhol  Alemão  Italiano  Japonês  Inglês  Francês  Mandarim  Russo  \n",
       "0       NaN     NaN       1.0      NaN     1.0      1.0       NaN    NaN  \n",
       "1       NaN     NaN       NaN      NaN     NaN      NaN       NaN    NaN  \n",
       "2       1.0     NaN       NaN      NaN     1.0      NaN       NaN    NaN  \n",
       "3       1.0     NaN       NaN      NaN     1.0      NaN       NaN    NaN  \n",
       "4       1.0     NaN       NaN      NaN     1.0      NaN       NaN    NaN  "
      ]
     },
     "metadata": {},
     "output_type": "display_data"
    }
   ],
   "source": [
    "# dados 2 trimestre 2016\n",
    "dados_2016_02 = AnaliseDadosHospedagens(dados_2016_02)\n",
    "display(dados_2016_02.head())"
   ]
  },
  {
   "cell_type": "code",
   "execution_count": 10,
   "metadata": {},
   "outputs": [
    {
     "name": "stdout",
     "output_type": "stream",
     "text": [
      "{'Hebraico', 'Eslovaco', 'Espanhol', 'Alemão', 'Italiano', 'Japonês', 'Catalão', 'Inglês', 'Francês', 'Mandarim', 'Russo'}\n"
     ]
    },
    {
     "data": {
      "text/html": [
       "<div>\n",
       "<style scoped>\n",
       "    .dataframe tbody tr th:only-of-type {\n",
       "        vertical-align: middle;\n",
       "    }\n",
       "\n",
       "    .dataframe tbody tr th {\n",
       "        vertical-align: top;\n",
       "    }\n",
       "\n",
       "    .dataframe thead th {\n",
       "        text-align: right;\n",
       "    }\n",
       "</style>\n",
       "<table border=\"1\" class=\"dataframe\">\n",
       "  <thead>\n",
       "    <tr style=\"text-align: right;\">\n",
       "      <th></th>\n",
       "      <th>UF</th>\n",
       "      <th>CNPJ</th>\n",
       "      <th>SITUAÇÃO</th>\n",
       "      <th>LINGUAS</th>\n",
       "      <th>Hebraico</th>\n",
       "      <th>Eslovaco</th>\n",
       "      <th>Espanhol</th>\n",
       "      <th>Alemão</th>\n",
       "      <th>Italiano</th>\n",
       "      <th>Japonês</th>\n",
       "      <th>Catalão</th>\n",
       "      <th>Inglês</th>\n",
       "      <th>Francês</th>\n",
       "      <th>Mandarim</th>\n",
       "      <th>Russo</th>\n",
       "    </tr>\n",
       "  </thead>\n",
       "  <tbody>\n",
       "    <tr>\n",
       "      <th>0</th>\n",
       "      <td>GO</td>\n",
       "      <td>26.672.631/0001-40</td>\n",
       "      <td>Em Operação</td>\n",
       "      <td>Espanhol ,Inglês</td>\n",
       "      <td>NaN</td>\n",
       "      <td>NaN</td>\n",
       "      <td>1.0</td>\n",
       "      <td>NaN</td>\n",
       "      <td>NaN</td>\n",
       "      <td>NaN</td>\n",
       "      <td>NaN</td>\n",
       "      <td>1.0</td>\n",
       "      <td>NaN</td>\n",
       "      <td>NaN</td>\n",
       "      <td>NaN</td>\n",
       "    </tr>\n",
       "    <tr>\n",
       "      <th>1</th>\n",
       "      <td>MA</td>\n",
       "      <td>13.458.024/0001-30</td>\n",
       "      <td>Em Operação</td>\n",
       "      <td>Italiano ,Francês ,Inglês</td>\n",
       "      <td>NaN</td>\n",
       "      <td>NaN</td>\n",
       "      <td>NaN</td>\n",
       "      <td>NaN</td>\n",
       "      <td>1.0</td>\n",
       "      <td>NaN</td>\n",
       "      <td>NaN</td>\n",
       "      <td>1.0</td>\n",
       "      <td>1.0</td>\n",
       "      <td>NaN</td>\n",
       "      <td>NaN</td>\n",
       "    </tr>\n",
       "    <tr>\n",
       "      <th>2</th>\n",
       "      <td>BA</td>\n",
       "      <td>17.498.787/0001-66</td>\n",
       "      <td>Em Operação</td>\n",
       "      <td>Inglês</td>\n",
       "      <td>NaN</td>\n",
       "      <td>NaN</td>\n",
       "      <td>NaN</td>\n",
       "      <td>NaN</td>\n",
       "      <td>NaN</td>\n",
       "      <td>NaN</td>\n",
       "      <td>NaN</td>\n",
       "      <td>1.0</td>\n",
       "      <td>NaN</td>\n",
       "      <td>NaN</td>\n",
       "      <td>NaN</td>\n",
       "    </tr>\n",
       "    <tr>\n",
       "      <th>3</th>\n",
       "      <td>SP</td>\n",
       "      <td>19.179.682/0001-70</td>\n",
       "      <td>Em Operação</td>\n",
       "      <td>Espanhol ,Inglês</td>\n",
       "      <td>NaN</td>\n",
       "      <td>NaN</td>\n",
       "      <td>1.0</td>\n",
       "      <td>NaN</td>\n",
       "      <td>NaN</td>\n",
       "      <td>NaN</td>\n",
       "      <td>NaN</td>\n",
       "      <td>1.0</td>\n",
       "      <td>NaN</td>\n",
       "      <td>NaN</td>\n",
       "      <td>NaN</td>\n",
       "    </tr>\n",
       "    <tr>\n",
       "      <th>4</th>\n",
       "      <td>SP</td>\n",
       "      <td>19.138.838/0001-74</td>\n",
       "      <td>Em Operação</td>\n",
       "      <td>Espanhol ,Inglês</td>\n",
       "      <td>NaN</td>\n",
       "      <td>NaN</td>\n",
       "      <td>1.0</td>\n",
       "      <td>NaN</td>\n",
       "      <td>NaN</td>\n",
       "      <td>NaN</td>\n",
       "      <td>NaN</td>\n",
       "      <td>1.0</td>\n",
       "      <td>NaN</td>\n",
       "      <td>NaN</td>\n",
       "      <td>NaN</td>\n",
       "    </tr>\n",
       "  </tbody>\n",
       "</table>\n",
       "</div>"
      ],
      "text/plain": [
       "   UF                CNPJ     SITUAÇÃO                    LINGUAS  Hebraico  \\\n",
       "0  GO  26.672.631/0001-40  Em Operação           Espanhol ,Inglês       NaN   \n",
       "1  MA  13.458.024/0001-30  Em Operação  Italiano ,Francês ,Inglês       NaN   \n",
       "2  BA  17.498.787/0001-66  Em Operação                     Inglês       NaN   \n",
       "3  SP  19.179.682/0001-70  Em Operação           Espanhol ,Inglês       NaN   \n",
       "4  SP  19.138.838/0001-74  Em Operação           Espanhol ,Inglês       NaN   \n",
       "\n",
       "   Eslovaco  Espanhol  Alemão  Italiano  Japonês  Catalão  Inglês  Francês  \\\n",
       "0       NaN       1.0     NaN       NaN      NaN      NaN     1.0      NaN   \n",
       "1       NaN       NaN     NaN       1.0      NaN      NaN     1.0      1.0   \n",
       "2       NaN       NaN     NaN       NaN      NaN      NaN     1.0      NaN   \n",
       "3       NaN       1.0     NaN       NaN      NaN      NaN     1.0      NaN   \n",
       "4       NaN       1.0     NaN       NaN      NaN      NaN     1.0      NaN   \n",
       "\n",
       "   Mandarim  Russo  \n",
       "0       NaN    NaN  \n",
       "1       NaN    NaN  \n",
       "2       NaN    NaN  \n",
       "3       NaN    NaN  \n",
       "4       NaN    NaN  "
      ]
     },
     "metadata": {},
     "output_type": "display_data"
    }
   ],
   "source": [
    "# dados 2 trimestre 2017\n",
    "dados_2017_02 = AnaliseDadosHospedagens(dados_2017_02)\n",
    "display(dados_2017_02.head())"
   ]
  },
  {
   "cell_type": "markdown",
   "metadata": {},
   "source": [
    "## 3 Trimestre\n",
    "<p>Análise dos <strong>dados</strong> das hospedagens nos meses de <strong>Julho</strong>,<strong>Agosto</strong> e <strong>Setembro</strong><p>"
   ]
  },
  {
   "cell_type": "code",
   "execution_count": 11,
   "metadata": {},
   "outputs": [
    {
     "name": "stdout",
     "output_type": "stream",
     "text": [
      "{'Hebraico', 'Eslovaco', 'Espanhol', 'Alemão', 'Italiano', 'Japonês', 'Inglês', 'Francês', 'Mandarim', 'Russo'}\n"
     ]
    },
    {
     "data": {
      "text/html": [
       "<div>\n",
       "<style scoped>\n",
       "    .dataframe tbody tr th:only-of-type {\n",
       "        vertical-align: middle;\n",
       "    }\n",
       "\n",
       "    .dataframe tbody tr th {\n",
       "        vertical-align: top;\n",
       "    }\n",
       "\n",
       "    .dataframe thead th {\n",
       "        text-align: right;\n",
       "    }\n",
       "</style>\n",
       "<table border=\"1\" class=\"dataframe\">\n",
       "  <thead>\n",
       "    <tr style=\"text-align: right;\">\n",
       "      <th></th>\n",
       "      <th>UF</th>\n",
       "      <th>CNPJ</th>\n",
       "      <th>SITUAÇÃO</th>\n",
       "      <th>LINGUAS</th>\n",
       "      <th>Hebraico</th>\n",
       "      <th>Eslovaco</th>\n",
       "      <th>Espanhol</th>\n",
       "      <th>Alemão</th>\n",
       "      <th>Italiano</th>\n",
       "      <th>Japonês</th>\n",
       "      <th>Inglês</th>\n",
       "      <th>Francês</th>\n",
       "      <th>Mandarim</th>\n",
       "      <th>Russo</th>\n",
       "    </tr>\n",
       "  </thead>\n",
       "  <tbody>\n",
       "    <tr>\n",
       "      <th>0</th>\n",
       "      <td>MA</td>\n",
       "      <td>13.458.024/0001-30</td>\n",
       "      <td>Em Operação</td>\n",
       "      <td>Italiano ,Francês ,Inglês</td>\n",
       "      <td>NaN</td>\n",
       "      <td>NaN</td>\n",
       "      <td>NaN</td>\n",
       "      <td>NaN</td>\n",
       "      <td>1.0</td>\n",
       "      <td>NaN</td>\n",
       "      <td>1.0</td>\n",
       "      <td>1.0</td>\n",
       "      <td>NaN</td>\n",
       "      <td>NaN</td>\n",
       "    </tr>\n",
       "    <tr>\n",
       "      <th>1</th>\n",
       "      <td>SP</td>\n",
       "      <td>19.179.682/0001-70</td>\n",
       "      <td>Em Operação</td>\n",
       "      <td>Espanhol ,Inglês</td>\n",
       "      <td>NaN</td>\n",
       "      <td>NaN</td>\n",
       "      <td>1.0</td>\n",
       "      <td>NaN</td>\n",
       "      <td>NaN</td>\n",
       "      <td>NaN</td>\n",
       "      <td>1.0</td>\n",
       "      <td>NaN</td>\n",
       "      <td>NaN</td>\n",
       "      <td>NaN</td>\n",
       "    </tr>\n",
       "    <tr>\n",
       "      <th>2</th>\n",
       "      <td>SP</td>\n",
       "      <td>19.138.838/0001-74</td>\n",
       "      <td>Em Operação</td>\n",
       "      <td>Espanhol ,Inglês</td>\n",
       "      <td>NaN</td>\n",
       "      <td>NaN</td>\n",
       "      <td>1.0</td>\n",
       "      <td>NaN</td>\n",
       "      <td>NaN</td>\n",
       "      <td>NaN</td>\n",
       "      <td>1.0</td>\n",
       "      <td>NaN</td>\n",
       "      <td>NaN</td>\n",
       "      <td>NaN</td>\n",
       "    </tr>\n",
       "    <tr>\n",
       "      <th>3</th>\n",
       "      <td>SP</td>\n",
       "      <td>19.138.796/0001-71</td>\n",
       "      <td>Em Operação</td>\n",
       "      <td>Espanhol ,Inglês</td>\n",
       "      <td>NaN</td>\n",
       "      <td>NaN</td>\n",
       "      <td>1.0</td>\n",
       "      <td>NaN</td>\n",
       "      <td>NaN</td>\n",
       "      <td>NaN</td>\n",
       "      <td>1.0</td>\n",
       "      <td>NaN</td>\n",
       "      <td>NaN</td>\n",
       "      <td>NaN</td>\n",
       "    </tr>\n",
       "    <tr>\n",
       "      <th>4</th>\n",
       "      <td>SP</td>\n",
       "      <td>19.138.891/0001-75</td>\n",
       "      <td>Em Operação</td>\n",
       "      <td>Nenhuma das Opções</td>\n",
       "      <td>NaN</td>\n",
       "      <td>NaN</td>\n",
       "      <td>NaN</td>\n",
       "      <td>NaN</td>\n",
       "      <td>NaN</td>\n",
       "      <td>NaN</td>\n",
       "      <td>NaN</td>\n",
       "      <td>NaN</td>\n",
       "      <td>NaN</td>\n",
       "      <td>NaN</td>\n",
       "    </tr>\n",
       "  </tbody>\n",
       "</table>\n",
       "</div>"
      ],
      "text/plain": [
       "   UF                CNPJ     SITUAÇÃO                    LINGUAS  Hebraico  \\\n",
       "0  MA  13.458.024/0001-30  Em Operação  Italiano ,Francês ,Inglês       NaN   \n",
       "1  SP  19.179.682/0001-70  Em Operação           Espanhol ,Inglês       NaN   \n",
       "2  SP  19.138.838/0001-74  Em Operação           Espanhol ,Inglês       NaN   \n",
       "3  SP  19.138.796/0001-71  Em Operação           Espanhol ,Inglês       NaN   \n",
       "4  SP  19.138.891/0001-75  Em Operação         Nenhuma das Opções       NaN   \n",
       "\n",
       "   Eslovaco  Espanhol  Alemão  Italiano  Japonês  Inglês  Francês  Mandarim  \\\n",
       "0       NaN       NaN     NaN       1.0      NaN     1.0      1.0       NaN   \n",
       "1       NaN       1.0     NaN       NaN      NaN     1.0      NaN       NaN   \n",
       "2       NaN       1.0     NaN       NaN      NaN     1.0      NaN       NaN   \n",
       "3       NaN       1.0     NaN       NaN      NaN     1.0      NaN       NaN   \n",
       "4       NaN       NaN     NaN       NaN      NaN     NaN      NaN       NaN   \n",
       "\n",
       "   Russo  \n",
       "0    NaN  \n",
       "1    NaN  \n",
       "2    NaN  \n",
       "3    NaN  \n",
       "4    NaN  "
      ]
     },
     "metadata": {},
     "output_type": "display_data"
    }
   ],
   "source": [
    "#dados 3-trimestre de 2016\n",
    "dados_2016_03 = AnaliseDadosHospedagens(dados_2016_03)\n",
    "display(dados_2016_03.head())"
   ]
  },
  {
   "cell_type": "code",
   "execution_count": 12,
   "metadata": {},
   "outputs": [
    {
     "name": "stdout",
     "output_type": "stream",
     "text": [
      "{'Hebraico', 'Eslovaco', 'Espanhol', 'Alemão', 'Italiano', 'Japonês', 'Catalão', 'Inglês', 'Francês', 'Mandarim', 'Russo'}\n"
     ]
    },
    {
     "data": {
      "text/html": [
       "<div>\n",
       "<style scoped>\n",
       "    .dataframe tbody tr th:only-of-type {\n",
       "        vertical-align: middle;\n",
       "    }\n",
       "\n",
       "    .dataframe tbody tr th {\n",
       "        vertical-align: top;\n",
       "    }\n",
       "\n",
       "    .dataframe thead th {\n",
       "        text-align: right;\n",
       "    }\n",
       "</style>\n",
       "<table border=\"1\" class=\"dataframe\">\n",
       "  <thead>\n",
       "    <tr style=\"text-align: right;\">\n",
       "      <th></th>\n",
       "      <th>UF</th>\n",
       "      <th>CNPJ</th>\n",
       "      <th>SITUAÇÃO</th>\n",
       "      <th>LINGUAS</th>\n",
       "      <th>Hebraico</th>\n",
       "      <th>Eslovaco</th>\n",
       "      <th>Espanhol</th>\n",
       "      <th>Alemão</th>\n",
       "      <th>Italiano</th>\n",
       "      <th>Japonês</th>\n",
       "      <th>Catalão</th>\n",
       "      <th>Inglês</th>\n",
       "      <th>Francês</th>\n",
       "      <th>Mandarim</th>\n",
       "      <th>Russo</th>\n",
       "    </tr>\n",
       "  </thead>\n",
       "  <tbody>\n",
       "    <tr>\n",
       "      <th>0</th>\n",
       "      <td>GO</td>\n",
       "      <td>26.672.631/0001-40</td>\n",
       "      <td>Em Operação</td>\n",
       "      <td>Espanhol ,Inglês</td>\n",
       "      <td>NaN</td>\n",
       "      <td>NaN</td>\n",
       "      <td>1.0</td>\n",
       "      <td>NaN</td>\n",
       "      <td>NaN</td>\n",
       "      <td>NaN</td>\n",
       "      <td>NaN</td>\n",
       "      <td>1.0</td>\n",
       "      <td>NaN</td>\n",
       "      <td>NaN</td>\n",
       "      <td>NaN</td>\n",
       "    </tr>\n",
       "    <tr>\n",
       "      <th>1</th>\n",
       "      <td>MA</td>\n",
       "      <td>13.458.024/0001-30</td>\n",
       "      <td>Em Operação</td>\n",
       "      <td>Italiano ,Francês ,Inglês</td>\n",
       "      <td>NaN</td>\n",
       "      <td>NaN</td>\n",
       "      <td>NaN</td>\n",
       "      <td>NaN</td>\n",
       "      <td>1.0</td>\n",
       "      <td>NaN</td>\n",
       "      <td>NaN</td>\n",
       "      <td>1.0</td>\n",
       "      <td>1.0</td>\n",
       "      <td>NaN</td>\n",
       "      <td>NaN</td>\n",
       "    </tr>\n",
       "    <tr>\n",
       "      <th>2</th>\n",
       "      <td>BA</td>\n",
       "      <td>17.498.787/0001-66</td>\n",
       "      <td>Em Operação</td>\n",
       "      <td>Inglês</td>\n",
       "      <td>NaN</td>\n",
       "      <td>NaN</td>\n",
       "      <td>NaN</td>\n",
       "      <td>NaN</td>\n",
       "      <td>NaN</td>\n",
       "      <td>NaN</td>\n",
       "      <td>NaN</td>\n",
       "      <td>1.0</td>\n",
       "      <td>NaN</td>\n",
       "      <td>NaN</td>\n",
       "      <td>NaN</td>\n",
       "    </tr>\n",
       "    <tr>\n",
       "      <th>3</th>\n",
       "      <td>SP</td>\n",
       "      <td>19.179.682/0001-70</td>\n",
       "      <td>Em Operação</td>\n",
       "      <td>Espanhol ,Inglês</td>\n",
       "      <td>NaN</td>\n",
       "      <td>NaN</td>\n",
       "      <td>1.0</td>\n",
       "      <td>NaN</td>\n",
       "      <td>NaN</td>\n",
       "      <td>NaN</td>\n",
       "      <td>NaN</td>\n",
       "      <td>1.0</td>\n",
       "      <td>NaN</td>\n",
       "      <td>NaN</td>\n",
       "      <td>NaN</td>\n",
       "    </tr>\n",
       "    <tr>\n",
       "      <th>4</th>\n",
       "      <td>SP</td>\n",
       "      <td>19.138.838/0001-74</td>\n",
       "      <td>Em Operação</td>\n",
       "      <td>Espanhol ,Inglês</td>\n",
       "      <td>NaN</td>\n",
       "      <td>NaN</td>\n",
       "      <td>1.0</td>\n",
       "      <td>NaN</td>\n",
       "      <td>NaN</td>\n",
       "      <td>NaN</td>\n",
       "      <td>NaN</td>\n",
       "      <td>1.0</td>\n",
       "      <td>NaN</td>\n",
       "      <td>NaN</td>\n",
       "      <td>NaN</td>\n",
       "    </tr>\n",
       "  </tbody>\n",
       "</table>\n",
       "</div>"
      ],
      "text/plain": [
       "   UF                CNPJ     SITUAÇÃO                    LINGUAS  Hebraico  \\\n",
       "0  GO  26.672.631/0001-40  Em Operação           Espanhol ,Inglês       NaN   \n",
       "1  MA  13.458.024/0001-30  Em Operação  Italiano ,Francês ,Inglês       NaN   \n",
       "2  BA  17.498.787/0001-66  Em Operação                     Inglês       NaN   \n",
       "3  SP  19.179.682/0001-70  Em Operação           Espanhol ,Inglês       NaN   \n",
       "4  SP  19.138.838/0001-74  Em Operação           Espanhol ,Inglês       NaN   \n",
       "\n",
       "   Eslovaco  Espanhol  Alemão  Italiano  Japonês  Catalão  Inglês  Francês  \\\n",
       "0       NaN       1.0     NaN       NaN      NaN      NaN     1.0      NaN   \n",
       "1       NaN       NaN     NaN       1.0      NaN      NaN     1.0      1.0   \n",
       "2       NaN       NaN     NaN       NaN      NaN      NaN     1.0      NaN   \n",
       "3       NaN       1.0     NaN       NaN      NaN      NaN     1.0      NaN   \n",
       "4       NaN       1.0     NaN       NaN      NaN      NaN     1.0      NaN   \n",
       "\n",
       "   Mandarim  Russo  \n",
       "0       NaN    NaN  \n",
       "1       NaN    NaN  \n",
       "2       NaN    NaN  \n",
       "3       NaN    NaN  \n",
       "4       NaN    NaN  "
      ]
     },
     "metadata": {},
     "output_type": "display_data"
    }
   ],
   "source": [
    "# dados 3-trimestre 2017\n",
    "dados_2017_03 = AnaliseDadosHospedagens(dados_2017_03)\n",
    "display(dados_2017_03.head())"
   ]
  },
  {
   "cell_type": "markdown",
   "metadata": {},
   "source": [
    "## 4 Trimestre\n",
    "<p>Análise dos <strong>dados</strong> das hospedagens nos meses de <strong>Outubro</strong>,<strong>Novembro</strong> e <strong>Dezembro</strong><p>"
   ]
  },
  {
   "cell_type": "code",
   "execution_count": 13,
   "metadata": {},
   "outputs": [
    {
     "name": "stdout",
     "output_type": "stream",
     "text": [
      "{'Hebraico', 'Eslovaco', 'Espanhol', 'Alemão', 'Italiano', 'Japonês', 'Catalão', 'Inglês', 'Francês', 'Mandarim', 'Russo'}\n"
     ]
    },
    {
     "data": {
      "text/html": [
       "<div>\n",
       "<style scoped>\n",
       "    .dataframe tbody tr th:only-of-type {\n",
       "        vertical-align: middle;\n",
       "    }\n",
       "\n",
       "    .dataframe tbody tr th {\n",
       "        vertical-align: top;\n",
       "    }\n",
       "\n",
       "    .dataframe thead th {\n",
       "        text-align: right;\n",
       "    }\n",
       "</style>\n",
       "<table border=\"1\" class=\"dataframe\">\n",
       "  <thead>\n",
       "    <tr style=\"text-align: right;\">\n",
       "      <th></th>\n",
       "      <th>UF</th>\n",
       "      <th>CNPJ</th>\n",
       "      <th>SITUAÇÃO</th>\n",
       "      <th>LINGUAS</th>\n",
       "      <th>Hebraico</th>\n",
       "      <th>Eslovaco</th>\n",
       "      <th>Espanhol</th>\n",
       "      <th>Alemão</th>\n",
       "      <th>Italiano</th>\n",
       "      <th>Japonês</th>\n",
       "      <th>Catalão</th>\n",
       "      <th>Inglês</th>\n",
       "      <th>Francês</th>\n",
       "      <th>Mandarim</th>\n",
       "      <th>Russo</th>\n",
       "    </tr>\n",
       "  </thead>\n",
       "  <tbody>\n",
       "    <tr>\n",
       "      <th>0</th>\n",
       "      <td>MA</td>\n",
       "      <td>13.458.024/0001-30</td>\n",
       "      <td>Em Operação</td>\n",
       "      <td>Italiano ,Francês ,Inglês</td>\n",
       "      <td>NaN</td>\n",
       "      <td>NaN</td>\n",
       "      <td>NaN</td>\n",
       "      <td>NaN</td>\n",
       "      <td>1.0</td>\n",
       "      <td>NaN</td>\n",
       "      <td>NaN</td>\n",
       "      <td>1.0</td>\n",
       "      <td>1.0</td>\n",
       "      <td>NaN</td>\n",
       "      <td>NaN</td>\n",
       "    </tr>\n",
       "    <tr>\n",
       "      <th>1</th>\n",
       "      <td>SP</td>\n",
       "      <td>19.179.682/0001-70</td>\n",
       "      <td>Em Operação</td>\n",
       "      <td>Espanhol ,Inglês</td>\n",
       "      <td>NaN</td>\n",
       "      <td>NaN</td>\n",
       "      <td>1.0</td>\n",
       "      <td>NaN</td>\n",
       "      <td>NaN</td>\n",
       "      <td>NaN</td>\n",
       "      <td>NaN</td>\n",
       "      <td>1.0</td>\n",
       "      <td>NaN</td>\n",
       "      <td>NaN</td>\n",
       "      <td>NaN</td>\n",
       "    </tr>\n",
       "    <tr>\n",
       "      <th>2</th>\n",
       "      <td>SP</td>\n",
       "      <td>19.138.838/0001-74</td>\n",
       "      <td>Em Operação</td>\n",
       "      <td>Espanhol ,Inglês</td>\n",
       "      <td>NaN</td>\n",
       "      <td>NaN</td>\n",
       "      <td>1.0</td>\n",
       "      <td>NaN</td>\n",
       "      <td>NaN</td>\n",
       "      <td>NaN</td>\n",
       "      <td>NaN</td>\n",
       "      <td>1.0</td>\n",
       "      <td>NaN</td>\n",
       "      <td>NaN</td>\n",
       "      <td>NaN</td>\n",
       "    </tr>\n",
       "    <tr>\n",
       "      <th>3</th>\n",
       "      <td>SP</td>\n",
       "      <td>19.138.796/0001-71</td>\n",
       "      <td>Em Operação</td>\n",
       "      <td>Espanhol ,Inglês</td>\n",
       "      <td>NaN</td>\n",
       "      <td>NaN</td>\n",
       "      <td>1.0</td>\n",
       "      <td>NaN</td>\n",
       "      <td>NaN</td>\n",
       "      <td>NaN</td>\n",
       "      <td>NaN</td>\n",
       "      <td>1.0</td>\n",
       "      <td>NaN</td>\n",
       "      <td>NaN</td>\n",
       "      <td>NaN</td>\n",
       "    </tr>\n",
       "    <tr>\n",
       "      <th>4</th>\n",
       "      <td>SP</td>\n",
       "      <td>19.138.891/0001-75</td>\n",
       "      <td>Em Operação</td>\n",
       "      <td>Nenhuma das Opções</td>\n",
       "      <td>NaN</td>\n",
       "      <td>NaN</td>\n",
       "      <td>NaN</td>\n",
       "      <td>NaN</td>\n",
       "      <td>NaN</td>\n",
       "      <td>NaN</td>\n",
       "      <td>NaN</td>\n",
       "      <td>NaN</td>\n",
       "      <td>NaN</td>\n",
       "      <td>NaN</td>\n",
       "      <td>NaN</td>\n",
       "    </tr>\n",
       "  </tbody>\n",
       "</table>\n",
       "</div>"
      ],
      "text/plain": [
       "   UF                CNPJ     SITUAÇÃO                    LINGUAS  Hebraico  \\\n",
       "0  MA  13.458.024/0001-30  Em Operação  Italiano ,Francês ,Inglês       NaN   \n",
       "1  SP  19.179.682/0001-70  Em Operação           Espanhol ,Inglês       NaN   \n",
       "2  SP  19.138.838/0001-74  Em Operação           Espanhol ,Inglês       NaN   \n",
       "3  SP  19.138.796/0001-71  Em Operação           Espanhol ,Inglês       NaN   \n",
       "4  SP  19.138.891/0001-75  Em Operação         Nenhuma das Opções       NaN   \n",
       "\n",
       "   Eslovaco  Espanhol  Alemão  Italiano  Japonês  Catalão  Inglês  Francês  \\\n",
       "0       NaN       NaN     NaN       1.0      NaN      NaN     1.0      1.0   \n",
       "1       NaN       1.0     NaN       NaN      NaN      NaN     1.0      NaN   \n",
       "2       NaN       1.0     NaN       NaN      NaN      NaN     1.0      NaN   \n",
       "3       NaN       1.0     NaN       NaN      NaN      NaN     1.0      NaN   \n",
       "4       NaN       NaN     NaN       NaN      NaN      NaN     NaN      NaN   \n",
       "\n",
       "   Mandarim  Russo  \n",
       "0       NaN    NaN  \n",
       "1       NaN    NaN  \n",
       "2       NaN    NaN  \n",
       "3       NaN    NaN  \n",
       "4       NaN    NaN  "
      ]
     },
     "metadata": {},
     "output_type": "display_data"
    }
   ],
   "source": [
    "# dados 4-rimestre 2016\n",
    "dados_2016_04 = AnaliseDadosHospedagens(dados_2016_04)\n",
    "display(dados_2016_04.head())"
   ]
  },
  {
   "cell_type": "code",
   "execution_count": 14,
   "metadata": {},
   "outputs": [
    {
     "name": "stdout",
     "output_type": "stream",
     "text": [
      "{'Hebraico', 'Eslovaco', 'Espanhol', 'Alemão', 'Italiano', 'Japonês', 'Catalão', 'Inglês', 'Francês', 'Mandarim', 'Russo'}\n"
     ]
    },
    {
     "data": {
      "text/html": [
       "<div>\n",
       "<style scoped>\n",
       "    .dataframe tbody tr th:only-of-type {\n",
       "        vertical-align: middle;\n",
       "    }\n",
       "\n",
       "    .dataframe tbody tr th {\n",
       "        vertical-align: top;\n",
       "    }\n",
       "\n",
       "    .dataframe thead th {\n",
       "        text-align: right;\n",
       "    }\n",
       "</style>\n",
       "<table border=\"1\" class=\"dataframe\">\n",
       "  <thead>\n",
       "    <tr style=\"text-align: right;\">\n",
       "      <th></th>\n",
       "      <th>UF</th>\n",
       "      <th>CNPJ</th>\n",
       "      <th>SITUAÇÃO</th>\n",
       "      <th>LINGUAS</th>\n",
       "      <th>Hebraico</th>\n",
       "      <th>Eslovaco</th>\n",
       "      <th>Espanhol</th>\n",
       "      <th>Alemão</th>\n",
       "      <th>Italiano</th>\n",
       "      <th>Japonês</th>\n",
       "      <th>Catalão</th>\n",
       "      <th>Inglês</th>\n",
       "      <th>Francês</th>\n",
       "      <th>Mandarim</th>\n",
       "      <th>Russo</th>\n",
       "    </tr>\n",
       "  </thead>\n",
       "  <tbody>\n",
       "    <tr>\n",
       "      <th>0</th>\n",
       "      <td>GO</td>\n",
       "      <td>26.672.631/0001-40</td>\n",
       "      <td>Em Operação</td>\n",
       "      <td>Espanhol ,Inglês</td>\n",
       "      <td>NaN</td>\n",
       "      <td>NaN</td>\n",
       "      <td>1.0</td>\n",
       "      <td>NaN</td>\n",
       "      <td>NaN</td>\n",
       "      <td>NaN</td>\n",
       "      <td>NaN</td>\n",
       "      <td>1.0</td>\n",
       "      <td>NaN</td>\n",
       "      <td>NaN</td>\n",
       "      <td>NaN</td>\n",
       "    </tr>\n",
       "    <tr>\n",
       "      <th>1</th>\n",
       "      <td>MA</td>\n",
       "      <td>13.458.024/0001-30</td>\n",
       "      <td>Em Operação</td>\n",
       "      <td>Italiano ,Francês ,Inglês</td>\n",
       "      <td>NaN</td>\n",
       "      <td>NaN</td>\n",
       "      <td>NaN</td>\n",
       "      <td>NaN</td>\n",
       "      <td>1.0</td>\n",
       "      <td>NaN</td>\n",
       "      <td>NaN</td>\n",
       "      <td>1.0</td>\n",
       "      <td>1.0</td>\n",
       "      <td>NaN</td>\n",
       "      <td>NaN</td>\n",
       "    </tr>\n",
       "    <tr>\n",
       "      <th>2</th>\n",
       "      <td>BA</td>\n",
       "      <td>17.498.787/0001-66</td>\n",
       "      <td>Em Operação</td>\n",
       "      <td>Inglês</td>\n",
       "      <td>NaN</td>\n",
       "      <td>NaN</td>\n",
       "      <td>NaN</td>\n",
       "      <td>NaN</td>\n",
       "      <td>NaN</td>\n",
       "      <td>NaN</td>\n",
       "      <td>NaN</td>\n",
       "      <td>1.0</td>\n",
       "      <td>NaN</td>\n",
       "      <td>NaN</td>\n",
       "      <td>NaN</td>\n",
       "    </tr>\n",
       "    <tr>\n",
       "      <th>3</th>\n",
       "      <td>SP</td>\n",
       "      <td>19.179.682/0001-70</td>\n",
       "      <td>Em Operação</td>\n",
       "      <td>Espanhol ,Inglês</td>\n",
       "      <td>NaN</td>\n",
       "      <td>NaN</td>\n",
       "      <td>1.0</td>\n",
       "      <td>NaN</td>\n",
       "      <td>NaN</td>\n",
       "      <td>NaN</td>\n",
       "      <td>NaN</td>\n",
       "      <td>1.0</td>\n",
       "      <td>NaN</td>\n",
       "      <td>NaN</td>\n",
       "      <td>NaN</td>\n",
       "    </tr>\n",
       "    <tr>\n",
       "      <th>4</th>\n",
       "      <td>SP</td>\n",
       "      <td>19.138.838/0001-74</td>\n",
       "      <td>Em Operação</td>\n",
       "      <td>Espanhol ,Inglês</td>\n",
       "      <td>NaN</td>\n",
       "      <td>NaN</td>\n",
       "      <td>1.0</td>\n",
       "      <td>NaN</td>\n",
       "      <td>NaN</td>\n",
       "      <td>NaN</td>\n",
       "      <td>NaN</td>\n",
       "      <td>1.0</td>\n",
       "      <td>NaN</td>\n",
       "      <td>NaN</td>\n",
       "      <td>NaN</td>\n",
       "    </tr>\n",
       "  </tbody>\n",
       "</table>\n",
       "</div>"
      ],
      "text/plain": [
       "   UF                CNPJ     SITUAÇÃO                    LINGUAS  Hebraico  \\\n",
       "0  GO  26.672.631/0001-40  Em Operação           Espanhol ,Inglês       NaN   \n",
       "1  MA  13.458.024/0001-30  Em Operação  Italiano ,Francês ,Inglês       NaN   \n",
       "2  BA  17.498.787/0001-66  Em Operação                     Inglês       NaN   \n",
       "3  SP  19.179.682/0001-70  Em Operação           Espanhol ,Inglês       NaN   \n",
       "4  SP  19.138.838/0001-74  Em Operação           Espanhol ,Inglês       NaN   \n",
       "\n",
       "   Eslovaco  Espanhol  Alemão  Italiano  Japonês  Catalão  Inglês  Francês  \\\n",
       "0       NaN       1.0     NaN       NaN      NaN      NaN     1.0      NaN   \n",
       "1       NaN       NaN     NaN       1.0      NaN      NaN     1.0      1.0   \n",
       "2       NaN       NaN     NaN       NaN      NaN      NaN     1.0      NaN   \n",
       "3       NaN       1.0     NaN       NaN      NaN      NaN     1.0      NaN   \n",
       "4       NaN       1.0     NaN       NaN      NaN      NaN     1.0      NaN   \n",
       "\n",
       "   Mandarim  Russo  \n",
       "0       NaN    NaN  \n",
       "1       NaN    NaN  \n",
       "2       NaN    NaN  \n",
       "3       NaN    NaN  \n",
       "4       NaN    NaN  "
      ]
     },
     "metadata": {},
     "output_type": "display_data"
    }
   ],
   "source": [
    "# dados 4-rimestre 2017\n",
    "dados_2017_04 = AnaliseDadosHospedagens(dados_2017_04)\n",
    "display(dados_2017_04.head())"
   ]
  },
  {
   "cell_type": "markdown",
   "metadata": {},
   "source": [
    "### Agrupamento dos Dados dos Trimestres 2016-2017"
   ]
  },
  {
   "cell_type": "code",
   "execution_count": 15,
   "metadata": {},
   "outputs": [],
   "source": [
    "def UniaoDataframes(dataFrame1,dataFrame2,dataFrame3,dataFrame4):\n",
    "    dados1 = pd.merge(dataFrame1,dataFrame2,how='outer')\n",
    "    dados2 = pd.merge(dataFrame3,dataFrame4,how='outer')\n",
    "    dados = pd.merge(dados1 , dados2 , how='outer')\n",
    "    return dados"
   ]
  },
  {
   "cell_type": "code",
   "execution_count": 16,
   "metadata": {},
   "outputs": [
    {
     "data": {
      "text/html": [
       "<div>\n",
       "<style scoped>\n",
       "    .dataframe tbody tr th:only-of-type {\n",
       "        vertical-align: middle;\n",
       "    }\n",
       "\n",
       "    .dataframe tbody tr th {\n",
       "        vertical-align: top;\n",
       "    }\n",
       "\n",
       "    .dataframe thead th {\n",
       "        text-align: right;\n",
       "    }\n",
       "</style>\n",
       "<table border=\"1\" class=\"dataframe\">\n",
       "  <thead>\n",
       "    <tr style=\"text-align: right;\">\n",
       "      <th></th>\n",
       "      <th>UF</th>\n",
       "      <th>CNPJ</th>\n",
       "      <th>SITUAÇÃO</th>\n",
       "      <th>LINGUAS</th>\n",
       "      <th>Hebraico</th>\n",
       "      <th>Espanhol</th>\n",
       "      <th>Alemão</th>\n",
       "      <th>Italiano</th>\n",
       "      <th>Japonês</th>\n",
       "      <th>Inglês</th>\n",
       "      <th>Francês</th>\n",
       "      <th>Mandarim</th>\n",
       "      <th>Russo</th>\n",
       "      <th>Eslovaco</th>\n",
       "      <th>Catalão</th>\n",
       "    </tr>\n",
       "  </thead>\n",
       "  <tbody>\n",
       "    <tr>\n",
       "      <th>0</th>\n",
       "      <td>MA</td>\n",
       "      <td>13.458.024/0001-30</td>\n",
       "      <td>Em Operação</td>\n",
       "      <td>(\"Francês,Inglês,Italiano\")</td>\n",
       "      <td>NaN</td>\n",
       "      <td>NaN</td>\n",
       "      <td>NaN</td>\n",
       "      <td>1.0</td>\n",
       "      <td>NaN</td>\n",
       "      <td>1.0</td>\n",
       "      <td>1.0</td>\n",
       "      <td>NaN</td>\n",
       "      <td>NaN</td>\n",
       "      <td>NaN</td>\n",
       "      <td>NaN</td>\n",
       "    </tr>\n",
       "    <tr>\n",
       "      <th>1</th>\n",
       "      <td>RS</td>\n",
       "      <td>10.581.146/0001-21</td>\n",
       "      <td>Em Operação</td>\n",
       "      <td>(\"Nenhuma das Opções\")</td>\n",
       "      <td>NaN</td>\n",
       "      <td>NaN</td>\n",
       "      <td>NaN</td>\n",
       "      <td>NaN</td>\n",
       "      <td>NaN</td>\n",
       "      <td>NaN</td>\n",
       "      <td>NaN</td>\n",
       "      <td>NaN</td>\n",
       "      <td>NaN</td>\n",
       "      <td>NaN</td>\n",
       "      <td>NaN</td>\n",
       "    </tr>\n",
       "    <tr>\n",
       "      <th>2</th>\n",
       "      <td>SP</td>\n",
       "      <td>19.179.682/0001-70</td>\n",
       "      <td>Em Operação</td>\n",
       "      <td>(\"Inglês,Espanhol\")</td>\n",
       "      <td>NaN</td>\n",
       "      <td>1.0</td>\n",
       "      <td>NaN</td>\n",
       "      <td>NaN</td>\n",
       "      <td>NaN</td>\n",
       "      <td>1.0</td>\n",
       "      <td>NaN</td>\n",
       "      <td>NaN</td>\n",
       "      <td>NaN</td>\n",
       "      <td>NaN</td>\n",
       "      <td>NaN</td>\n",
       "    </tr>\n",
       "    <tr>\n",
       "      <th>3</th>\n",
       "      <td>SP</td>\n",
       "      <td>19.138.838/0001-74</td>\n",
       "      <td>Em Operação</td>\n",
       "      <td>(\"Inglês,Espanhol\")</td>\n",
       "      <td>NaN</td>\n",
       "      <td>1.0</td>\n",
       "      <td>NaN</td>\n",
       "      <td>NaN</td>\n",
       "      <td>NaN</td>\n",
       "      <td>1.0</td>\n",
       "      <td>NaN</td>\n",
       "      <td>NaN</td>\n",
       "      <td>NaN</td>\n",
       "      <td>NaN</td>\n",
       "      <td>NaN</td>\n",
       "    </tr>\n",
       "    <tr>\n",
       "      <th>4</th>\n",
       "      <td>SP</td>\n",
       "      <td>19.138.796/0001-71</td>\n",
       "      <td>Em Operação</td>\n",
       "      <td>(\"Inglês,Espanhol\")</td>\n",
       "      <td>NaN</td>\n",
       "      <td>1.0</td>\n",
       "      <td>NaN</td>\n",
       "      <td>NaN</td>\n",
       "      <td>NaN</td>\n",
       "      <td>1.0</td>\n",
       "      <td>NaN</td>\n",
       "      <td>NaN</td>\n",
       "      <td>NaN</td>\n",
       "      <td>NaN</td>\n",
       "      <td>NaN</td>\n",
       "    </tr>\n",
       "  </tbody>\n",
       "</table>\n",
       "</div>"
      ],
      "text/plain": [
       "   UF                CNPJ     SITUAÇÃO                      LINGUAS  Hebraico  \\\n",
       "0  MA  13.458.024/0001-30  Em Operação  (\"Francês,Inglês,Italiano\")       NaN   \n",
       "1  RS  10.581.146/0001-21  Em Operação       (\"Nenhuma das Opções\")       NaN   \n",
       "2  SP  19.179.682/0001-70  Em Operação          (\"Inglês,Espanhol\")       NaN   \n",
       "3  SP  19.138.838/0001-74  Em Operação          (\"Inglês,Espanhol\")       NaN   \n",
       "4  SP  19.138.796/0001-71  Em Operação          (\"Inglês,Espanhol\")       NaN   \n",
       "\n",
       "   Espanhol  Alemão  Italiano  Japonês  Inglês  Francês  Mandarim  Russo  \\\n",
       "0       NaN     NaN       1.0      NaN     1.0      1.0       NaN    NaN   \n",
       "1       NaN     NaN       NaN      NaN     NaN      NaN       NaN    NaN   \n",
       "2       1.0     NaN       NaN      NaN     1.0      NaN       NaN    NaN   \n",
       "3       1.0     NaN       NaN      NaN     1.0      NaN       NaN    NaN   \n",
       "4       1.0     NaN       NaN      NaN     1.0      NaN       NaN    NaN   \n",
       "\n",
       "   Eslovaco  Catalão  \n",
       "0       NaN      NaN  \n",
       "1       NaN      NaN  \n",
       "2       NaN      NaN  \n",
       "3       NaN      NaN  \n",
       "4       NaN      NaN  "
      ]
     },
     "execution_count": 16,
     "metadata": {},
     "output_type": "execute_result"
    }
   ],
   "source": [
    "dados_2016 = UniaoDataframes(dados_2016_01,dados_2016_02,dados_2016_03,dados_2016_04)\n",
    "dados_2016.head()"
   ]
  },
  {
   "cell_type": "code",
   "execution_count": 17,
   "metadata": {},
   "outputs": [
    {
     "data": {
      "text/html": [
       "<div>\n",
       "<style scoped>\n",
       "    .dataframe tbody tr th:only-of-type {\n",
       "        vertical-align: middle;\n",
       "    }\n",
       "\n",
       "    .dataframe tbody tr th {\n",
       "        vertical-align: top;\n",
       "    }\n",
       "\n",
       "    .dataframe thead th {\n",
       "        text-align: right;\n",
       "    }\n",
       "</style>\n",
       "<table border=\"1\" class=\"dataframe\">\n",
       "  <thead>\n",
       "    <tr style=\"text-align: right;\">\n",
       "      <th></th>\n",
       "      <th>UF</th>\n",
       "      <th>CNPJ</th>\n",
       "      <th>SITUAÇÃO</th>\n",
       "      <th>LINGUAS</th>\n",
       "      <th>Hebraico</th>\n",
       "      <th>Eslovaco</th>\n",
       "      <th>Espanhol</th>\n",
       "      <th>Alemão</th>\n",
       "      <th>Italiano</th>\n",
       "      <th>Japonês</th>\n",
       "      <th>Catalão</th>\n",
       "      <th>Inglês</th>\n",
       "      <th>Francês</th>\n",
       "      <th>Mandarim</th>\n",
       "      <th>Russo</th>\n",
       "    </tr>\n",
       "  </thead>\n",
       "  <tbody>\n",
       "    <tr>\n",
       "      <th>0</th>\n",
       "      <td>MA</td>\n",
       "      <td>13.458.024/0001-30</td>\n",
       "      <td>Em Operação</td>\n",
       "      <td>Italiano ,Francês ,Inglês</td>\n",
       "      <td>NaN</td>\n",
       "      <td>NaN</td>\n",
       "      <td>NaN</td>\n",
       "      <td>NaN</td>\n",
       "      <td>1.0</td>\n",
       "      <td>NaN</td>\n",
       "      <td>NaN</td>\n",
       "      <td>1.0</td>\n",
       "      <td>1.0</td>\n",
       "      <td>NaN</td>\n",
       "      <td>NaN</td>\n",
       "    </tr>\n",
       "    <tr>\n",
       "      <th>1</th>\n",
       "      <td>BA</td>\n",
       "      <td>17.498.787/0001-66</td>\n",
       "      <td>Em Operação</td>\n",
       "      <td>Inglês</td>\n",
       "      <td>NaN</td>\n",
       "      <td>NaN</td>\n",
       "      <td>NaN</td>\n",
       "      <td>NaN</td>\n",
       "      <td>NaN</td>\n",
       "      <td>NaN</td>\n",
       "      <td>NaN</td>\n",
       "      <td>1.0</td>\n",
       "      <td>NaN</td>\n",
       "      <td>NaN</td>\n",
       "      <td>NaN</td>\n",
       "    </tr>\n",
       "    <tr>\n",
       "      <th>2</th>\n",
       "      <td>SP</td>\n",
       "      <td>19.179.682/0001-70</td>\n",
       "      <td>Em Operação</td>\n",
       "      <td>Espanhol ,Inglês</td>\n",
       "      <td>NaN</td>\n",
       "      <td>NaN</td>\n",
       "      <td>1.0</td>\n",
       "      <td>NaN</td>\n",
       "      <td>NaN</td>\n",
       "      <td>NaN</td>\n",
       "      <td>NaN</td>\n",
       "      <td>1.0</td>\n",
       "      <td>NaN</td>\n",
       "      <td>NaN</td>\n",
       "      <td>NaN</td>\n",
       "    </tr>\n",
       "    <tr>\n",
       "      <th>3</th>\n",
       "      <td>SP</td>\n",
       "      <td>19.138.838/0001-74</td>\n",
       "      <td>Em Operação</td>\n",
       "      <td>Espanhol ,Inglês</td>\n",
       "      <td>NaN</td>\n",
       "      <td>NaN</td>\n",
       "      <td>1.0</td>\n",
       "      <td>NaN</td>\n",
       "      <td>NaN</td>\n",
       "      <td>NaN</td>\n",
       "      <td>NaN</td>\n",
       "      <td>1.0</td>\n",
       "      <td>NaN</td>\n",
       "      <td>NaN</td>\n",
       "      <td>NaN</td>\n",
       "    </tr>\n",
       "    <tr>\n",
       "      <th>4</th>\n",
       "      <td>SP</td>\n",
       "      <td>19.138.796/0001-71</td>\n",
       "      <td>Em Operação</td>\n",
       "      <td>Espanhol ,Inglês</td>\n",
       "      <td>NaN</td>\n",
       "      <td>NaN</td>\n",
       "      <td>1.0</td>\n",
       "      <td>NaN</td>\n",
       "      <td>NaN</td>\n",
       "      <td>NaN</td>\n",
       "      <td>NaN</td>\n",
       "      <td>1.0</td>\n",
       "      <td>NaN</td>\n",
       "      <td>NaN</td>\n",
       "      <td>NaN</td>\n",
       "    </tr>\n",
       "  </tbody>\n",
       "</table>\n",
       "</div>"
      ],
      "text/plain": [
       "   UF                CNPJ     SITUAÇÃO                    LINGUAS  Hebraico  \\\n",
       "0  MA  13.458.024/0001-30  Em Operação  Italiano ,Francês ,Inglês       NaN   \n",
       "1  BA  17.498.787/0001-66  Em Operação                     Inglês       NaN   \n",
       "2  SP  19.179.682/0001-70  Em Operação           Espanhol ,Inglês       NaN   \n",
       "3  SP  19.138.838/0001-74  Em Operação           Espanhol ,Inglês       NaN   \n",
       "4  SP  19.138.796/0001-71  Em Operação           Espanhol ,Inglês       NaN   \n",
       "\n",
       "   Eslovaco  Espanhol  Alemão  Italiano  Japonês  Catalão  Inglês  Francês  \\\n",
       "0       NaN       NaN     NaN       1.0      NaN      NaN     1.0      1.0   \n",
       "1       NaN       NaN     NaN       NaN      NaN      NaN     1.0      NaN   \n",
       "2       NaN       1.0     NaN       NaN      NaN      NaN     1.0      NaN   \n",
       "3       NaN       1.0     NaN       NaN      NaN      NaN     1.0      NaN   \n",
       "4       NaN       1.0     NaN       NaN      NaN      NaN     1.0      NaN   \n",
       "\n",
       "   Mandarim  Russo  \n",
       "0       NaN    NaN  \n",
       "1       NaN    NaN  \n",
       "2       NaN    NaN  \n",
       "3       NaN    NaN  \n",
       "4       NaN    NaN  "
      ]
     },
     "execution_count": 17,
     "metadata": {},
     "output_type": "execute_result"
    }
   ],
   "source": [
    "dados_2017 = UniaoDataframes(dados_2017_01,dados_2017_02,dados_2017_03,dados_2017_04)\n",
    "dados_2017.head()"
   ]
  },
  {
   "cell_type": "markdown",
   "metadata": {},
   "source": [
    "# Funções - Regiões\n",
    "<p><strong>Filtrando</strong> os dados por <strong>região</strong></p>"
   ]
  },
  {
   "cell_type": "markdown",
   "metadata": {},
   "source": [
    "### Região Norte"
   ]
  },
  {
   "cell_type": "code",
   "execution_count": 18,
   "metadata": {},
   "outputs": [],
   "source": [
    "def RegiaoNorte(data_frame):\n",
    "    # Lista de estados da região norte\n",
    "    regiaoNorte = ['AM','RR','AP','PA','TO','RO','AC']  \n",
    "    \n",
    "    dadosNorte = data_frame[data_frame.UF.isin(regiaoNorte)]\n",
    "   \n",
    "    return dadosNorte"
   ]
  },
  {
   "cell_type": "markdown",
   "metadata": {},
   "source": [
    "### Região Nordeste"
   ]
  },
  {
   "cell_type": "code",
   "execution_count": 19,
   "metadata": {},
   "outputs": [],
   "source": [
    "def RegiaoNordeste(data_frame):\n",
    "    # Lista de estados da região nordeste\n",
    "    regiaoNordeste = ['MA','PI','CE','RN','PE','PB','SE','AL','BA']  \n",
    "    \n",
    "    dadosNordeste = data_frame[data_frame.UF.isin(regiaoNordeste)]\n",
    "   \n",
    "    return dadosNordeste"
   ]
  },
  {
   "cell_type": "markdown",
   "metadata": {},
   "source": [
    "### Região Sul"
   ]
  },
  {
   "cell_type": "code",
   "execution_count": 20,
   "metadata": {},
   "outputs": [],
   "source": [
    "def RegiaoSul(data_frame):\n",
    "    # Lista de estados da região Sul\n",
    "    regiaoSul = ['PR','RS','SC']  \n",
    "    \n",
    "    dadosSul = data_frame[data_frame.UF.isin(regiaoSul)]\n",
    "   \n",
    "    return dadosSul"
   ]
  },
  {
   "cell_type": "markdown",
   "metadata": {},
   "source": [
    "### Região Sudeste"
   ]
  },
  {
   "cell_type": "code",
   "execution_count": 21,
   "metadata": {},
   "outputs": [],
   "source": [
    "def RegiaoSudeste(data_frame):\n",
    "    # Lista de estados da região sudeste\n",
    "    regiaoSudeste = ['SP','RJ','ES','MG']  \n",
    "    \n",
    "    dadosSudeste = data_frame[data_frame.UF.isin(regiaoSudeste)]\n",
    "   \n",
    "    return dadosSudeste"
   ]
  },
  {
   "cell_type": "markdown",
   "metadata": {},
   "source": [
    "### Região Centro-Oeste"
   ]
  },
  {
   "cell_type": "code",
   "execution_count": 22,
   "metadata": {},
   "outputs": [],
   "source": [
    "def RegiaoCentroOeste(data_frame):\n",
    "    # Lista de estados por região centro-oeste\n",
    "    regiaoCentroOeste = ['MT','MS','GO','DF']\n",
    "    \n",
    "    dadosCentroOeste = data_frame[data_frame.UF.isin(regiaoCentroOeste)]\n",
    "    \n",
    "    return dadosCentroOeste"
   ]
  },
  {
   "cell_type": "markdown",
   "metadata": {},
   "source": [
    "# Função - Estados"
   ]
  },
  {
   "cell_type": "markdown",
   "metadata": {},
   "source": [
    "### EstadoUF\n",
    "<p>Função que <strong>filtra</strong> os dados para um dataframe, que contem dados de<strong> um estado</strong></p>"
   ]
  },
  {
   "cell_type": "code",
   "execution_count": 23,
   "metadata": {},
   "outputs": [],
   "source": [
    "def EstadoUF(data_Frame,UF):\n",
    "    dadosEstado = data_Frame[data_Frame.UF == UF]\n",
    "    return dadosEstado"
   ]
  },
  {
   "cell_type": "markdown",
   "metadata": {},
   "source": [
    "<p>Exemplo da função <strong>EstadoUF</strong>, mostrando os dados de <strong>Pernambuco</strong> do <strong>1 trimestre</strong></p>"
   ]
  },
  {
   "cell_type": "code",
   "execution_count": 24,
   "metadata": {},
   "outputs": [
    {
     "data": {
      "text/html": [
       "<div>\n",
       "<style scoped>\n",
       "    .dataframe tbody tr th:only-of-type {\n",
       "        vertical-align: middle;\n",
       "    }\n",
       "\n",
       "    .dataframe tbody tr th {\n",
       "        vertical-align: top;\n",
       "    }\n",
       "\n",
       "    .dataframe thead th {\n",
       "        text-align: right;\n",
       "    }\n",
       "</style>\n",
       "<table border=\"1\" class=\"dataframe\">\n",
       "  <thead>\n",
       "    <tr style=\"text-align: right;\">\n",
       "      <th></th>\n",
       "      <th>UF</th>\n",
       "      <th>CNPJ</th>\n",
       "      <th>SITUAÇÃO</th>\n",
       "      <th>LINGUAS</th>\n",
       "      <th>Hebraico</th>\n",
       "      <th>Espanhol</th>\n",
       "      <th>Alemão</th>\n",
       "      <th>Italiano</th>\n",
       "      <th>Japonês</th>\n",
       "      <th>Inglês</th>\n",
       "      <th>Francês</th>\n",
       "      <th>Mandarim</th>\n",
       "      <th>Russo</th>\n",
       "    </tr>\n",
       "  </thead>\n",
       "  <tbody>\n",
       "    <tr>\n",
       "      <th>21</th>\n",
       "      <td>PE</td>\n",
       "      <td>00.569.739/0001-19</td>\n",
       "      <td>Em Operação</td>\n",
       "      <td>(Inglês)</td>\n",
       "      <td>NaN</td>\n",
       "      <td>NaN</td>\n",
       "      <td>NaN</td>\n",
       "      <td>NaN</td>\n",
       "      <td>NaN</td>\n",
       "      <td>1.0</td>\n",
       "      <td>NaN</td>\n",
       "      <td>NaN</td>\n",
       "      <td>NaN</td>\n",
       "    </tr>\n",
       "    <tr>\n",
       "      <th>145</th>\n",
       "      <td>PE</td>\n",
       "      <td>73.917.528/0001-01</td>\n",
       "      <td>Em Operação</td>\n",
       "      <td>(\"Inglês,Italiano,Espanhol\")</td>\n",
       "      <td>NaN</td>\n",
       "      <td>1.0</td>\n",
       "      <td>NaN</td>\n",
       "      <td>1.0</td>\n",
       "      <td>NaN</td>\n",
       "      <td>1.0</td>\n",
       "      <td>NaN</td>\n",
       "      <td>NaN</td>\n",
       "      <td>NaN</td>\n",
       "    </tr>\n",
       "    <tr>\n",
       "      <th>157</th>\n",
       "      <td>PE</td>\n",
       "      <td>19.945.875/0001-94</td>\n",
       "      <td>Em Operação</td>\n",
       "      <td>(\"Inglês,Espanhol\")</td>\n",
       "      <td>NaN</td>\n",
       "      <td>1.0</td>\n",
       "      <td>NaN</td>\n",
       "      <td>NaN</td>\n",
       "      <td>NaN</td>\n",
       "      <td>1.0</td>\n",
       "      <td>NaN</td>\n",
       "      <td>NaN</td>\n",
       "      <td>NaN</td>\n",
       "    </tr>\n",
       "    <tr>\n",
       "      <th>173</th>\n",
       "      <td>PE</td>\n",
       "      <td>04.012.313/0001-10</td>\n",
       "      <td>Em Operação</td>\n",
       "      <td>(Inglês)</td>\n",
       "      <td>NaN</td>\n",
       "      <td>NaN</td>\n",
       "      <td>NaN</td>\n",
       "      <td>NaN</td>\n",
       "      <td>NaN</td>\n",
       "      <td>1.0</td>\n",
       "      <td>NaN</td>\n",
       "      <td>NaN</td>\n",
       "      <td>NaN</td>\n",
       "    </tr>\n",
       "    <tr>\n",
       "      <th>196</th>\n",
       "      <td>PE</td>\n",
       "      <td>05.034.109/0001-63</td>\n",
       "      <td>Em Operação</td>\n",
       "      <td>(\"Nenhuma das Opções\")</td>\n",
       "      <td>NaN</td>\n",
       "      <td>NaN</td>\n",
       "      <td>NaN</td>\n",
       "      <td>NaN</td>\n",
       "      <td>NaN</td>\n",
       "      <td>NaN</td>\n",
       "      <td>NaN</td>\n",
       "      <td>NaN</td>\n",
       "      <td>NaN</td>\n",
       "    </tr>\n",
       "  </tbody>\n",
       "</table>\n",
       "</div>"
      ],
      "text/plain": [
       "     UF                CNPJ     SITUAÇÃO                       LINGUAS  \\\n",
       "21   PE  00.569.739/0001-19  Em Operação                      (Inglês)   \n",
       "145  PE  73.917.528/0001-01  Em Operação  (\"Inglês,Italiano,Espanhol\")   \n",
       "157  PE  19.945.875/0001-94  Em Operação           (\"Inglês,Espanhol\")   \n",
       "173  PE  04.012.313/0001-10  Em Operação                      (Inglês)   \n",
       "196  PE  05.034.109/0001-63  Em Operação        (\"Nenhuma das Opções\")   \n",
       "\n",
       "     Hebraico  Espanhol  Alemão  Italiano  Japonês  Inglês  Francês  Mandarim  \\\n",
       "21        NaN       NaN     NaN       NaN      NaN     1.0      NaN       NaN   \n",
       "145       NaN       1.0     NaN       1.0      NaN     1.0      NaN       NaN   \n",
       "157       NaN       1.0     NaN       NaN      NaN     1.0      NaN       NaN   \n",
       "173       NaN       NaN     NaN       NaN      NaN     1.0      NaN       NaN   \n",
       "196       NaN       NaN     NaN       NaN      NaN     NaN      NaN       NaN   \n",
       "\n",
       "     Russo  \n",
       "21     NaN  \n",
       "145    NaN  \n",
       "157    NaN  \n",
       "173    NaN  \n",
       "196    NaN  "
      ]
     },
     "execution_count": 24,
     "metadata": {},
     "output_type": "execute_result"
    }
   ],
   "source": [
    "# Exemplo da função EstadoUF - com estado de pernambuco - trimestre 1\n",
    "dados_2016_01_PE = EstadoUF(dados_2016_01,'PE')\n",
    "dados_2016_01_PE.head()"
   ]
  },
  {
   "cell_type": "markdown",
   "metadata": {},
   "source": [
    "### Função Contador\n",
    "<p>Funções <strong>Contador</strong> retornam dicionarios com a <strong>quantidade de hospedagens</strong> que <strong>oferecem x idioma</strong></p>"
   ]
  },
  {
   "cell_type": "code",
   "execution_count": 25,
   "metadata": {},
   "outputs": [],
   "source": [
    "def contador_2016(dataFrame):\n",
    "    linguas = ['Russo','Italiano','Alemão','Francês','Espanhol','Mandarim','Japonês','Hebraico','Inglês','Eslovaco','Catalão']\n",
    "    dicionario = {} \n",
    "    for lingua in linguas:\n",
    "        qtd = dataFrame[lingua].sum().astype(int)\n",
    "        dicionario[lingua] = qtd\n",
    "    return dicionario\n",
    "\n",
    "def contador_2017(dataFrame):\n",
    "    linguas = ['Espanhol', 'Inglês', 'Italiano', 'Francês', 'Alemão', 'Japonês', 'Hebraico', 'Russo', 'Mandarim', 'Eslovaco', 'Catalão']\n",
    "    dicionario = {} \n",
    "    for lingua in linguas:\n",
    "        qtd = dataFrame[lingua].sum().astype(int)\n",
    "        dicionario[lingua] = qtd\n",
    "    return dicionario\n",
    "\n",
    "def contador_2014(dataFrame):\n",
    "    linguas = ['Francês', 'Inglês', 'Italiano', 'Espanhol', 'Alemão', 'Japonês', 'Russo', 'Mandarim', 'Hebraico', 'Sueco', 'Dinamarquês']\n",
    "    dicionario = {} \n",
    "    for lingua in linguas:\n",
    "        qtd = dataFrame[lingua].sum().astype(int)\n",
    "        dicionario[lingua] = qtd\n",
    "    return dicionario\n",
    "\n",
    "def contador_2015(dataFrame):\n",
    "    linguas = ['Francês', 'Inglês', 'Italiano', 'Espanhol', 'Alemão', 'Japonês', 'Hebraico', 'Russo', 'Mandarim']\n",
    "    dicionario = {} \n",
    "    for lingua in linguas:\n",
    "        qtd = dataFrame[lingua].sum().astype(int)\n",
    "        dicionario[lingua] = qtd\n",
    "    return dicionario"
   ]
  },
  {
   "cell_type": "markdown",
   "metadata": {},
   "source": [
    "## Funções - Média e Ano\n",
    "* Média : retorna dataframe com as medias das qtd de hospedagens que oferecem X lingua estrangeira.\n",
    "* Ano: add o ano dos dados."
   ]
  },
  {
   "cell_type": "code",
   "execution_count": 26,
   "metadata": {},
   "outputs": [],
   "source": [
    "# função cria um dataframe com a media dos valores\n",
    "def media(dataFrame):\n",
    "    dados = pd.DataFrame([dataFrame.mean().to_dict()])\n",
    "    return dados\n",
    "    # acrescenta o ano\n",
    "def ano(dados,ano):\n",
    "    dados['Ano'] = pd.Period(ano)\n",
    "    return dados"
   ]
  },
  {
   "cell_type": "markdown",
   "metadata": {},
   "source": [
    "### Funções - Dados\n",
    "<p>Retornam dataframes com os valores discretizados que serão usados para comprovar ou refutar a hipotese</p>"
   ]
  },
  {
   "cell_type": "code",
   "execution_count": 27,
   "metadata": {},
   "outputs": [],
   "source": [
    "def dados2014(dataFrame,uf):\n",
    "    dados = pd.DataFrame([contador_2014(EstadoUF(dataFrame,uf))])\n",
    "    dados = media(dados)\n",
    "    dados = ano(dados,'2014')\n",
    "    return dados\n",
    "\n",
    "def dados2015(dataFrame,uf):\n",
    "    dados = pd.DataFrame([contador_2015(EstadoUF(dataFrame,uf))])\n",
    "    dados = media(dados)\n",
    "    dados = ano(dados,'2015')\n",
    "    return dados\n",
    "\n",
    "def dados2016(dataFrame,uf):\n",
    "    dados = pd.DataFrame([contador_2016(EstadoUF(dataFrame,uf))])\n",
    "    dados = media(dados)\n",
    "    dados = ano(dados,'2016')\n",
    "    return dados\n",
    "\n",
    "def dados2017(dataFrame,uf):\n",
    "    dados = pd.DataFrame([contador_2017(EstadoUF(dataFrame,uf))])\n",
    "    dados = media(dados)\n",
    "    dados = ano(dados,'2017')\n",
    "    return dados"
   ]
  },
  {
   "cell_type": "markdown",
   "metadata": {},
   "source": [
    "### Função Dados\n",
    "<p>Concatena os dados dos anos 2014-2017</p>"
   ]
  },
  {
   "cell_type": "code",
   "execution_count": 28,
   "metadata": {},
   "outputs": [],
   "source": [
    "def Dados(dataFrame1,dataFrame2,dataFrame3,dataFrame4):\n",
    "    lista =  [dataFrame1,dataFrame2,dataFrame3,dataFrame4]\n",
    "    dados = pd.concat(lista)\n",
    "    return dados"
   ]
  },
  {
   "cell_type": "markdown",
   "metadata": {},
   "source": [
    "### Função AnaliseChegadas\n",
    "<p>Retorna o total de Turistas de Y País que chegou em X Estado</p>"
   ]
  },
  {
   "cell_type": "code",
   "execution_count": 29,
   "metadata": {},
   "outputs": [],
   "source": [
    "# retorna apenas a linha do pais com mais turistas.\n",
    "def AnaliseChegadas(dataFrame,nomeEstado):\n",
    "    dados1 = dataFrame[dataFrame.UF == nomeEstado]\n",
    "    dados = pd.DataFrame(dados1.groupby(['País']).Chegadas.sum()).sort_values('Chegadas', ascending=False)\n",
    "    dados = dados.iloc[[0]]\n",
    "    return dados"
   ]
  },
  {
   "cell_type": "markdown",
   "metadata": {},
   "source": [
    "### Países com mais Turistas por Estado(RS,RJ,SP e PR) no intervalo de 2014-2017"
   ]
  },
  {
   "cell_type": "code",
   "execution_count": 30,
   "metadata": {},
   "outputs": [
    {
     "data": {
      "text/html": [
       "<div>\n",
       "<style scoped>\n",
       "    .dataframe tbody tr th:only-of-type {\n",
       "        vertical-align: middle;\n",
       "    }\n",
       "\n",
       "    .dataframe tbody tr th {\n",
       "        vertical-align: top;\n",
       "    }\n",
       "\n",
       "    .dataframe thead th {\n",
       "        text-align: right;\n",
       "    }\n",
       "</style>\n",
       "<table border=\"1\" class=\"dataframe\">\n",
       "  <thead>\n",
       "    <tr style=\"text-align: right;\">\n",
       "      <th></th>\n",
       "      <th>Chegadas</th>\n",
       "    </tr>\n",
       "    <tr>\n",
       "      <th>País</th>\n",
       "      <th></th>\n",
       "    </tr>\n",
       "  </thead>\n",
       "  <tbody>\n",
       "    <tr>\n",
       "      <th>Argentina</th>\n",
       "      <td>284795</td>\n",
       "    </tr>\n",
       "  </tbody>\n",
       "</table>\n",
       "</div>"
      ],
      "text/plain": [
       "           Chegadas\n",
       "País               \n",
       "Argentina    284795"
      ]
     },
     "metadata": {},
     "output_type": "display_data"
    },
    {
     "data": {
      "text/html": [
       "<div>\n",
       "<style scoped>\n",
       "    .dataframe tbody tr th:only-of-type {\n",
       "        vertical-align: middle;\n",
       "    }\n",
       "\n",
       "    .dataframe tbody tr th {\n",
       "        vertical-align: top;\n",
       "    }\n",
       "\n",
       "    .dataframe thead th {\n",
       "        text-align: right;\n",
       "    }\n",
       "</style>\n",
       "<table border=\"1\" class=\"dataframe\">\n",
       "  <thead>\n",
       "    <tr style=\"text-align: right;\">\n",
       "      <th></th>\n",
       "      <th>Chegadas</th>\n",
       "    </tr>\n",
       "    <tr>\n",
       "      <th>País</th>\n",
       "      <th></th>\n",
       "    </tr>\n",
       "  </thead>\n",
       "  <tbody>\n",
       "    <tr>\n",
       "      <th>Argentina</th>\n",
       "      <td>342765</td>\n",
       "    </tr>\n",
       "  </tbody>\n",
       "</table>\n",
       "</div>"
      ],
      "text/plain": [
       "           Chegadas\n",
       "País               \n",
       "Argentina    342765"
      ]
     },
     "metadata": {},
     "output_type": "display_data"
    },
    {
     "data": {
      "text/html": [
       "<div>\n",
       "<style scoped>\n",
       "    .dataframe tbody tr th:only-of-type {\n",
       "        vertical-align: middle;\n",
       "    }\n",
       "\n",
       "    .dataframe tbody tr th {\n",
       "        vertical-align: top;\n",
       "    }\n",
       "\n",
       "    .dataframe thead th {\n",
       "        text-align: right;\n",
       "    }\n",
       "</style>\n",
       "<table border=\"1\" class=\"dataframe\">\n",
       "  <thead>\n",
       "    <tr style=\"text-align: right;\">\n",
       "      <th></th>\n",
       "      <th>Chegadas</th>\n",
       "    </tr>\n",
       "    <tr>\n",
       "      <th>País</th>\n",
       "      <th></th>\n",
       "    </tr>\n",
       "  </thead>\n",
       "  <tbody>\n",
       "    <tr>\n",
       "      <th>Argentina</th>\n",
       "      <td>377677</td>\n",
       "    </tr>\n",
       "  </tbody>\n",
       "</table>\n",
       "</div>"
      ],
      "text/plain": [
       "           Chegadas\n",
       "País               \n",
       "Argentina    377677"
      ]
     },
     "metadata": {},
     "output_type": "display_data"
    },
    {
     "data": {
      "text/html": [
       "<div>\n",
       "<style scoped>\n",
       "    .dataframe tbody tr th:only-of-type {\n",
       "        vertical-align: middle;\n",
       "    }\n",
       "\n",
       "    .dataframe tbody tr th {\n",
       "        vertical-align: top;\n",
       "    }\n",
       "\n",
       "    .dataframe thead th {\n",
       "        text-align: right;\n",
       "    }\n",
       "</style>\n",
       "<table border=\"1\" class=\"dataframe\">\n",
       "  <thead>\n",
       "    <tr style=\"text-align: right;\">\n",
       "      <th></th>\n",
       "      <th>Chegadas</th>\n",
       "    </tr>\n",
       "    <tr>\n",
       "      <th>País</th>\n",
       "      <th></th>\n",
       "    </tr>\n",
       "  </thead>\n",
       "  <tbody>\n",
       "    <tr>\n",
       "      <th>Argentina</th>\n",
       "      <td>452842</td>\n",
       "    </tr>\n",
       "  </tbody>\n",
       "</table>\n",
       "</div>"
      ],
      "text/plain": [
       "           Chegadas\n",
       "País               \n",
       "Argentina    452842"
      ]
     },
     "metadata": {},
     "output_type": "display_data"
    }
   ],
   "source": [
    "rj2014 = AnaliseChegadas(chegadas2014,'Rio de Janeiro')\n",
    "rj2015 = AnaliseChegadas(chegadas2015,'Rio de Janeiro')\n",
    "rj2016 = AnaliseChegadas(chegadas2016,'Rio de Janeiro')\n",
    "rj2017 = AnaliseChegadas(chegadas2017,'Rio de Janeiro')\n",
    "\n",
    "display(rj2014,rj2015,rj2016,rj2017)"
   ]
  },
  {
   "cell_type": "code",
   "execution_count": 31,
   "metadata": {},
   "outputs": [
    {
     "data": {
      "text/html": [
       "<div>\n",
       "<style scoped>\n",
       "    .dataframe tbody tr th:only-of-type {\n",
       "        vertical-align: middle;\n",
       "    }\n",
       "\n",
       "    .dataframe tbody tr th {\n",
       "        vertical-align: top;\n",
       "    }\n",
       "\n",
       "    .dataframe thead th {\n",
       "        text-align: right;\n",
       "    }\n",
       "</style>\n",
       "<table border=\"1\" class=\"dataframe\">\n",
       "  <thead>\n",
       "    <tr style=\"text-align: right;\">\n",
       "      <th></th>\n",
       "      <th>Chegadas</th>\n",
       "    </tr>\n",
       "    <tr>\n",
       "      <th>País</th>\n",
       "      <th></th>\n",
       "    </tr>\n",
       "  </thead>\n",
       "  <tbody>\n",
       "    <tr>\n",
       "      <th>Argentina</th>\n",
       "      <td>679138</td>\n",
       "    </tr>\n",
       "  </tbody>\n",
       "</table>\n",
       "</div>"
      ],
      "text/plain": [
       "           Chegadas\n",
       "País               \n",
       "Argentina    679138"
      ]
     },
     "metadata": {},
     "output_type": "display_data"
    },
    {
     "data": {
      "text/html": [
       "<div>\n",
       "<style scoped>\n",
       "    .dataframe tbody tr th:only-of-type {\n",
       "        vertical-align: middle;\n",
       "    }\n",
       "\n",
       "    .dataframe tbody tr th {\n",
       "        vertical-align: top;\n",
       "    }\n",
       "\n",
       "    .dataframe thead th {\n",
       "        text-align: right;\n",
       "    }\n",
       "</style>\n",
       "<table border=\"1\" class=\"dataframe\">\n",
       "  <thead>\n",
       "    <tr style=\"text-align: right;\">\n",
       "      <th></th>\n",
       "      <th>Chegadas</th>\n",
       "    </tr>\n",
       "    <tr>\n",
       "      <th>País</th>\n",
       "      <th></th>\n",
       "    </tr>\n",
       "  </thead>\n",
       "  <tbody>\n",
       "    <tr>\n",
       "      <th>Argentina</th>\n",
       "      <td>856645</td>\n",
       "    </tr>\n",
       "  </tbody>\n",
       "</table>\n",
       "</div>"
      ],
      "text/plain": [
       "           Chegadas\n",
       "País               \n",
       "Argentina    856645"
      ]
     },
     "metadata": {},
     "output_type": "display_data"
    },
    {
     "data": {
      "text/html": [
       "<div>\n",
       "<style scoped>\n",
       "    .dataframe tbody tr th:only-of-type {\n",
       "        vertical-align: middle;\n",
       "    }\n",
       "\n",
       "    .dataframe tbody tr th {\n",
       "        vertical-align: top;\n",
       "    }\n",
       "\n",
       "    .dataframe thead th {\n",
       "        text-align: right;\n",
       "    }\n",
       "</style>\n",
       "<table border=\"1\" class=\"dataframe\">\n",
       "  <thead>\n",
       "    <tr style=\"text-align: right;\">\n",
       "      <th></th>\n",
       "      <th>Chegadas</th>\n",
       "    </tr>\n",
       "    <tr>\n",
       "      <th>País</th>\n",
       "      <th></th>\n",
       "    </tr>\n",
       "  </thead>\n",
       "  <tbody>\n",
       "    <tr>\n",
       "      <th>Argentina</th>\n",
       "      <td>895937</td>\n",
       "    </tr>\n",
       "  </tbody>\n",
       "</table>\n",
       "</div>"
      ],
      "text/plain": [
       "           Chegadas\n",
       "País               \n",
       "Argentina    895937"
      ]
     },
     "metadata": {},
     "output_type": "display_data"
    },
    {
     "data": {
      "text/html": [
       "<div>\n",
       "<style scoped>\n",
       "    .dataframe tbody tr th:only-of-type {\n",
       "        vertical-align: middle;\n",
       "    }\n",
       "\n",
       "    .dataframe tbody tr th {\n",
       "        vertical-align: top;\n",
       "    }\n",
       "\n",
       "    .dataframe thead th {\n",
       "        text-align: right;\n",
       "    }\n",
       "</style>\n",
       "<table border=\"1\" class=\"dataframe\">\n",
       "  <thead>\n",
       "    <tr style=\"text-align: right;\">\n",
       "      <th></th>\n",
       "      <th>Chegadas</th>\n",
       "    </tr>\n",
       "    <tr>\n",
       "      <th>País</th>\n",
       "      <th></th>\n",
       "    </tr>\n",
       "  </thead>\n",
       "  <tbody>\n",
       "    <tr>\n",
       "      <th>Argentina</th>\n",
       "      <td>1021639</td>\n",
       "    </tr>\n",
       "  </tbody>\n",
       "</table>\n",
       "</div>"
      ],
      "text/plain": [
       "           Chegadas\n",
       "País               \n",
       "Argentina   1021639"
      ]
     },
     "metadata": {},
     "output_type": "display_data"
    }
   ],
   "source": [
    "rs2014 = AnaliseChegadas(chegadas2014,'Rio Grande do Sul')\n",
    "rs2015 = AnaliseChegadas(chegadas2015,'Rio Grande do Sul')\n",
    "rs2016 = AnaliseChegadas(chegadas2016,'Rio Grande do Sul')\n",
    "rs2017 = AnaliseChegadas(chegadas2017,'Rio Grande do Sul')\n",
    "display(rs2014,rs2015,rs2016,rs2017)"
   ]
  },
  {
   "cell_type": "code",
   "execution_count": 32,
   "metadata": {},
   "outputs": [
    {
     "data": {
      "text/html": [
       "<div>\n",
       "<style scoped>\n",
       "    .dataframe tbody tr th:only-of-type {\n",
       "        vertical-align: middle;\n",
       "    }\n",
       "\n",
       "    .dataframe tbody tr th {\n",
       "        vertical-align: top;\n",
       "    }\n",
       "\n",
       "    .dataframe thead th {\n",
       "        text-align: right;\n",
       "    }\n",
       "</style>\n",
       "<table border=\"1\" class=\"dataframe\">\n",
       "  <thead>\n",
       "    <tr style=\"text-align: right;\">\n",
       "      <th></th>\n",
       "      <th>Chegadas</th>\n",
       "    </tr>\n",
       "    <tr>\n",
       "      <th>País</th>\n",
       "      <th></th>\n",
       "    </tr>\n",
       "  </thead>\n",
       "  <tbody>\n",
       "    <tr>\n",
       "      <th>Argentina</th>\n",
       "      <td>339756</td>\n",
       "    </tr>\n",
       "  </tbody>\n",
       "</table>\n",
       "</div>"
      ],
      "text/plain": [
       "           Chegadas\n",
       "País               \n",
       "Argentina    339756"
      ]
     },
     "metadata": {},
     "output_type": "display_data"
    },
    {
     "data": {
      "text/html": [
       "<div>\n",
       "<style scoped>\n",
       "    .dataframe tbody tr th:only-of-type {\n",
       "        vertical-align: middle;\n",
       "    }\n",
       "\n",
       "    .dataframe tbody tr th {\n",
       "        vertical-align: top;\n",
       "    }\n",
       "\n",
       "    .dataframe thead th {\n",
       "        text-align: right;\n",
       "    }\n",
       "</style>\n",
       "<table border=\"1\" class=\"dataframe\">\n",
       "  <thead>\n",
       "    <tr style=\"text-align: right;\">\n",
       "      <th></th>\n",
       "      <th>Chegadas</th>\n",
       "    </tr>\n",
       "    <tr>\n",
       "      <th>País</th>\n",
       "      <th></th>\n",
       "    </tr>\n",
       "  </thead>\n",
       "  <tbody>\n",
       "    <tr>\n",
       "      <th>Argentina</th>\n",
       "      <td>376133</td>\n",
       "    </tr>\n",
       "  </tbody>\n",
       "</table>\n",
       "</div>"
      ],
      "text/plain": [
       "           Chegadas\n",
       "País               \n",
       "Argentina    376133"
      ]
     },
     "metadata": {},
     "output_type": "display_data"
    },
    {
     "data": {
      "text/html": [
       "<div>\n",
       "<style scoped>\n",
       "    .dataframe tbody tr th:only-of-type {\n",
       "        vertical-align: middle;\n",
       "    }\n",
       "\n",
       "    .dataframe tbody tr th {\n",
       "        vertical-align: top;\n",
       "    }\n",
       "\n",
       "    .dataframe thead th {\n",
       "        text-align: right;\n",
       "    }\n",
       "</style>\n",
       "<table border=\"1\" class=\"dataframe\">\n",
       "  <thead>\n",
       "    <tr style=\"text-align: right;\">\n",
       "      <th></th>\n",
       "      <th>Chegadas</th>\n",
       "    </tr>\n",
       "    <tr>\n",
       "      <th>País</th>\n",
       "      <th></th>\n",
       "    </tr>\n",
       "  </thead>\n",
       "  <tbody>\n",
       "    <tr>\n",
       "      <th>Argentina</th>\n",
       "      <td>399092</td>\n",
       "    </tr>\n",
       "  </tbody>\n",
       "</table>\n",
       "</div>"
      ],
      "text/plain": [
       "           Chegadas\n",
       "País               \n",
       "Argentina    399092"
      ]
     },
     "metadata": {},
     "output_type": "display_data"
    },
    {
     "data": {
      "text/html": [
       "<div>\n",
       "<style scoped>\n",
       "    .dataframe tbody tr th:only-of-type {\n",
       "        vertical-align: middle;\n",
       "    }\n",
       "\n",
       "    .dataframe tbody tr th {\n",
       "        vertical-align: top;\n",
       "    }\n",
       "\n",
       "    .dataframe thead th {\n",
       "        text-align: right;\n",
       "    }\n",
       "</style>\n",
       "<table border=\"1\" class=\"dataframe\">\n",
       "  <thead>\n",
       "    <tr style=\"text-align: right;\">\n",
       "      <th></th>\n",
       "      <th>Chegadas</th>\n",
       "    </tr>\n",
       "    <tr>\n",
       "      <th>País</th>\n",
       "      <th></th>\n",
       "    </tr>\n",
       "  </thead>\n",
       "  <tbody>\n",
       "    <tr>\n",
       "      <th>Argentina</th>\n",
       "      <td>398926</td>\n",
       "    </tr>\n",
       "  </tbody>\n",
       "</table>\n",
       "</div>"
      ],
      "text/plain": [
       "           Chegadas\n",
       "País               \n",
       "Argentina    398926"
      ]
     },
     "metadata": {},
     "output_type": "display_data"
    }
   ],
   "source": [
    "sp2014 = AnaliseChegadas(chegadas2014,'São Paulo')\n",
    "sp2015 = AnaliseChegadas(chegadas2015,'São Paulo')\n",
    "sp2016 = AnaliseChegadas(chegadas2016,'São Paulo')\n",
    "sp2017 = AnaliseChegadas(chegadas2017,'São Paulo')\n",
    "display(sp2014,sp2015,sp2016,sp2017)"
   ]
  },
  {
   "cell_type": "code",
   "execution_count": 33,
   "metadata": {},
   "outputs": [
    {
     "data": {
      "text/html": [
       "<div>\n",
       "<style scoped>\n",
       "    .dataframe tbody tr th:only-of-type {\n",
       "        vertical-align: middle;\n",
       "    }\n",
       "\n",
       "    .dataframe tbody tr th {\n",
       "        vertical-align: top;\n",
       "    }\n",
       "\n",
       "    .dataframe thead th {\n",
       "        text-align: right;\n",
       "    }\n",
       "</style>\n",
       "<table border=\"1\" class=\"dataframe\">\n",
       "  <thead>\n",
       "    <tr style=\"text-align: right;\">\n",
       "      <th></th>\n",
       "      <th>Chegadas</th>\n",
       "    </tr>\n",
       "    <tr>\n",
       "      <th>País</th>\n",
       "      <th></th>\n",
       "    </tr>\n",
       "  </thead>\n",
       "  <tbody>\n",
       "    <tr>\n",
       "      <th>Argentina</th>\n",
       "      <td>273817</td>\n",
       "    </tr>\n",
       "  </tbody>\n",
       "</table>\n",
       "</div>"
      ],
      "text/plain": [
       "           Chegadas\n",
       "País               \n",
       "Argentina    273817"
      ]
     },
     "metadata": {},
     "output_type": "display_data"
    },
    {
     "data": {
      "text/html": [
       "<div>\n",
       "<style scoped>\n",
       "    .dataframe tbody tr th:only-of-type {\n",
       "        vertical-align: middle;\n",
       "    }\n",
       "\n",
       "    .dataframe tbody tr th {\n",
       "        vertical-align: top;\n",
       "    }\n",
       "\n",
       "    .dataframe thead th {\n",
       "        text-align: right;\n",
       "    }\n",
       "</style>\n",
       "<table border=\"1\" class=\"dataframe\">\n",
       "  <thead>\n",
       "    <tr style=\"text-align: right;\">\n",
       "      <th></th>\n",
       "      <th>Chegadas</th>\n",
       "    </tr>\n",
       "    <tr>\n",
       "      <th>País</th>\n",
       "      <th></th>\n",
       "    </tr>\n",
       "  </thead>\n",
       "  <tbody>\n",
       "    <tr>\n",
       "      <th>Argentina</th>\n",
       "      <td>257355</td>\n",
       "    </tr>\n",
       "  </tbody>\n",
       "</table>\n",
       "</div>"
      ],
      "text/plain": [
       "           Chegadas\n",
       "País               \n",
       "Argentina    257355"
      ]
     },
     "metadata": {},
     "output_type": "display_data"
    },
    {
     "data": {
      "text/html": [
       "<div>\n",
       "<style scoped>\n",
       "    .dataframe tbody tr th:only-of-type {\n",
       "        vertical-align: middle;\n",
       "    }\n",
       "\n",
       "    .dataframe tbody tr th {\n",
       "        vertical-align: top;\n",
       "    }\n",
       "\n",
       "    .dataframe thead th {\n",
       "        text-align: right;\n",
       "    }\n",
       "</style>\n",
       "<table border=\"1\" class=\"dataframe\">\n",
       "  <thead>\n",
       "    <tr style=\"text-align: right;\">\n",
       "      <th></th>\n",
       "      <th>Chegadas</th>\n",
       "    </tr>\n",
       "    <tr>\n",
       "      <th>País</th>\n",
       "      <th></th>\n",
       "    </tr>\n",
       "  </thead>\n",
       "  <tbody>\n",
       "    <tr>\n",
       "      <th>Argentina</th>\n",
       "      <td>274811</td>\n",
       "    </tr>\n",
       "  </tbody>\n",
       "</table>\n",
       "</div>"
      ],
      "text/plain": [
       "           Chegadas\n",
       "País               \n",
       "Argentina    274811"
      ]
     },
     "metadata": {},
     "output_type": "display_data"
    },
    {
     "data": {
      "text/html": [
       "<div>\n",
       "<style scoped>\n",
       "    .dataframe tbody tr th:only-of-type {\n",
       "        vertical-align: middle;\n",
       "    }\n",
       "\n",
       "    .dataframe tbody tr th {\n",
       "        vertical-align: top;\n",
       "    }\n",
       "\n",
       "    .dataframe thead th {\n",
       "        text-align: right;\n",
       "    }\n",
       "</style>\n",
       "<table border=\"1\" class=\"dataframe\">\n",
       "  <thead>\n",
       "    <tr style=\"text-align: right;\">\n",
       "      <th></th>\n",
       "      <th>Chegadas</th>\n",
       "    </tr>\n",
       "    <tr>\n",
       "      <th>País</th>\n",
       "      <th></th>\n",
       "    </tr>\n",
       "  </thead>\n",
       "  <tbody>\n",
       "    <tr>\n",
       "      <th>Argentina</th>\n",
       "      <td>351206</td>\n",
       "    </tr>\n",
       "  </tbody>\n",
       "</table>\n",
       "</div>"
      ],
      "text/plain": [
       "           Chegadas\n",
       "País               \n",
       "Argentina    351206"
      ]
     },
     "metadata": {},
     "output_type": "display_data"
    }
   ],
   "source": [
    "pr2014 = AnaliseChegadas(chegadas2014,'Paraná')\n",
    "pr2015 = AnaliseChegadas(chegadas2015,'Paraná')\n",
    "pr2016 = AnaliseChegadas(chegadas2016,'Paraná')\n",
    "pr2017 = AnaliseChegadas(chegadas2017,'Paraná')\n",
    "display(pr2014,pr2015,pr2016,pr2017)"
   ]
  },
  {
   "cell_type": "markdown",
   "metadata": {},
   "source": [
    "## Análise dos Dados Rio Grande do Sul"
   ]
  },
  {
   "cell_type": "markdown",
   "metadata": {},
   "source": [
    "## 2014\n",
    "<p><strong>Média da quantia</strong> de <strong>Hospedagens</strong> que oferecem <strong>X idioma estrangeiro</strong> em <strong>RS</strong></p>"
   ]
  },
  {
   "cell_type": "code",
   "execution_count": 34,
   "metadata": {},
   "outputs": [
    {
     "data": {
      "text/html": [
       "<div>\n",
       "<style scoped>\n",
       "    .dataframe tbody tr th:only-of-type {\n",
       "        vertical-align: middle;\n",
       "    }\n",
       "\n",
       "    .dataframe tbody tr th {\n",
       "        vertical-align: top;\n",
       "    }\n",
       "\n",
       "    .dataframe thead th {\n",
       "        text-align: right;\n",
       "    }\n",
       "</style>\n",
       "<table border=\"1\" class=\"dataframe\">\n",
       "  <thead>\n",
       "    <tr style=\"text-align: right;\">\n",
       "      <th></th>\n",
       "      <th>Alemão</th>\n",
       "      <th>Dinamarquês</th>\n",
       "      <th>Espanhol</th>\n",
       "      <th>Francês</th>\n",
       "      <th>Hebraico</th>\n",
       "      <th>Inglês</th>\n",
       "      <th>Italiano</th>\n",
       "      <th>Japonês</th>\n",
       "      <th>Mandarim</th>\n",
       "      <th>Russo</th>\n",
       "      <th>Sueco</th>\n",
       "      <th>Ano</th>\n",
       "    </tr>\n",
       "  </thead>\n",
       "  <tbody>\n",
       "    <tr>\n",
       "      <th>0</th>\n",
       "      <td>80.0</td>\n",
       "      <td>0.0</td>\n",
       "      <td>360.0</td>\n",
       "      <td>25.0</td>\n",
       "      <td>0.0</td>\n",
       "      <td>310.0</td>\n",
       "      <td>51.0</td>\n",
       "      <td>1.0</td>\n",
       "      <td>2.0</td>\n",
       "      <td>2.0</td>\n",
       "      <td>0.0</td>\n",
       "      <td>2014</td>\n",
       "    </tr>\n",
       "  </tbody>\n",
       "</table>\n",
       "</div>"
      ],
      "text/plain": [
       "   Alemão  Dinamarquês  Espanhol  Francês  Hebraico  Inglês  Italiano  \\\n",
       "0    80.0          0.0     360.0     25.0       0.0   310.0      51.0   \n",
       "\n",
       "   Japonês  Mandarim  Russo  Sueco  Ano  \n",
       "0      1.0       2.0    2.0    0.0 2014  "
      ]
     },
     "execution_count": 34,
     "metadata": {},
     "output_type": "execute_result"
    }
   ],
   "source": [
    "dadosRS_2014 = dados2014(dados_2014,'RS')\n",
    "dadosRS_2014"
   ]
  },
  {
   "cell_type": "markdown",
   "metadata": {},
   "source": [
    "<p><strong>Média da quantidade</strong> de <strong>Turistas</strong> que chegaram em <strong>RS</strong></p>"
   ]
  },
  {
   "cell_type": "code",
   "execution_count": 35,
   "metadata": {},
   "outputs": [
    {
     "data": {
      "text/html": [
       "<div>\n",
       "<style scoped>\n",
       "    .dataframe tbody tr th:only-of-type {\n",
       "        vertical-align: middle;\n",
       "    }\n",
       "\n",
       "    .dataframe tbody tr th {\n",
       "        vertical-align: top;\n",
       "    }\n",
       "\n",
       "    .dataframe thead th {\n",
       "        text-align: right;\n",
       "    }\n",
       "</style>\n",
       "<table border=\"1\" class=\"dataframe\">\n",
       "  <thead>\n",
       "    <tr style=\"text-align: right;\">\n",
       "      <th></th>\n",
       "      <th>Chegadas</th>\n",
       "      <th>Ano</th>\n",
       "    </tr>\n",
       "  </thead>\n",
       "  <tbody>\n",
       "    <tr>\n",
       "      <th>0</th>\n",
       "      <td>679138.0</td>\n",
       "      <td>2014</td>\n",
       "    </tr>\n",
       "  </tbody>\n",
       "</table>\n",
       "</div>"
      ],
      "text/plain": [
       "   Chegadas  Ano\n",
       "0  679138.0 2014"
      ]
     },
     "execution_count": 35,
     "metadata": {},
     "output_type": "execute_result"
    }
   ],
   "source": [
    "chegadas2014RS = ano(media(AnaliseChegadas(chegadas2014,'Rio Grande do Sul')),'2014')\n",
    "chegadas2014RS"
   ]
  },
  {
   "cell_type": "markdown",
   "metadata": {},
   "source": [
    "## 2015\n",
    "<p><strong>Média da quantia</strong> de <strong>Hospedagens</strong> que oferecem <strong>X idioma estrangeiro</strong> em <strong>RS</strong></p>"
   ]
  },
  {
   "cell_type": "code",
   "execution_count": 36,
   "metadata": {},
   "outputs": [
    {
     "data": {
      "text/html": [
       "<div>\n",
       "<style scoped>\n",
       "    .dataframe tbody tr th:only-of-type {\n",
       "        vertical-align: middle;\n",
       "    }\n",
       "\n",
       "    .dataframe tbody tr th {\n",
       "        vertical-align: top;\n",
       "    }\n",
       "\n",
       "    .dataframe thead th {\n",
       "        text-align: right;\n",
       "    }\n",
       "</style>\n",
       "<table border=\"1\" class=\"dataframe\">\n",
       "  <thead>\n",
       "    <tr style=\"text-align: right;\">\n",
       "      <th></th>\n",
       "      <th>Alemão</th>\n",
       "      <th>Espanhol</th>\n",
       "      <th>Francês</th>\n",
       "      <th>Hebraico</th>\n",
       "      <th>Inglês</th>\n",
       "      <th>Italiano</th>\n",
       "      <th>Japonês</th>\n",
       "      <th>Mandarim</th>\n",
       "      <th>Russo</th>\n",
       "      <th>Ano</th>\n",
       "    </tr>\n",
       "  </thead>\n",
       "  <tbody>\n",
       "    <tr>\n",
       "      <th>0</th>\n",
       "      <td>61.0</td>\n",
       "      <td>281.0</td>\n",
       "      <td>20.0</td>\n",
       "      <td>0.0</td>\n",
       "      <td>262.0</td>\n",
       "      <td>41.0</td>\n",
       "      <td>1.0</td>\n",
       "      <td>3.0</td>\n",
       "      <td>2.0</td>\n",
       "      <td>2015</td>\n",
       "    </tr>\n",
       "  </tbody>\n",
       "</table>\n",
       "</div>"
      ],
      "text/plain": [
       "   Alemão  Espanhol  Francês  Hebraico  Inglês  Italiano  Japonês  Mandarim  \\\n",
       "0    61.0     281.0     20.0       0.0   262.0      41.0      1.0       3.0   \n",
       "\n",
       "   Russo  Ano  \n",
       "0    2.0 2015  "
      ]
     },
     "execution_count": 36,
     "metadata": {},
     "output_type": "execute_result"
    }
   ],
   "source": [
    "dadosRS_2015 = dados2015(dados_2015,'RS')\n",
    "dadosRS_2015"
   ]
  },
  {
   "cell_type": "markdown",
   "metadata": {},
   "source": [
    "<p><strong>Média da quantidade</strong> de <strong>Turistas</strong> que chegaram em <strong>RS</strong></p>"
   ]
  },
  {
   "cell_type": "code",
   "execution_count": 37,
   "metadata": {},
   "outputs": [
    {
     "data": {
      "text/html": [
       "<div>\n",
       "<style scoped>\n",
       "    .dataframe tbody tr th:only-of-type {\n",
       "        vertical-align: middle;\n",
       "    }\n",
       "\n",
       "    .dataframe tbody tr th {\n",
       "        vertical-align: top;\n",
       "    }\n",
       "\n",
       "    .dataframe thead th {\n",
       "        text-align: right;\n",
       "    }\n",
       "</style>\n",
       "<table border=\"1\" class=\"dataframe\">\n",
       "  <thead>\n",
       "    <tr style=\"text-align: right;\">\n",
       "      <th></th>\n",
       "      <th>Chegadas</th>\n",
       "      <th>Ano</th>\n",
       "    </tr>\n",
       "  </thead>\n",
       "  <tbody>\n",
       "    <tr>\n",
       "      <th>0</th>\n",
       "      <td>856645.0</td>\n",
       "      <td>2015</td>\n",
       "    </tr>\n",
       "  </tbody>\n",
       "</table>\n",
       "</div>"
      ],
      "text/plain": [
       "   Chegadas  Ano\n",
       "0  856645.0 2015"
      ]
     },
     "execution_count": 37,
     "metadata": {},
     "output_type": "execute_result"
    }
   ],
   "source": [
    "chegadas2015RS = ano(media(AnaliseChegadas(chegadas2015,'Rio Grande do Sul')),'2015')\n",
    "chegadas2015RS"
   ]
  },
  {
   "cell_type": "markdown",
   "metadata": {},
   "source": [
    "## 2016\n",
    "<p><strong>Quantidade</strong> de <strong>Hospedagens</strong> que oferecem <strong>X idioma estrangeiro</strong> em <strong>RS</strong></p>"
   ]
  },
  {
   "cell_type": "code",
   "execution_count": 38,
   "metadata": {},
   "outputs": [
    {
     "data": {
      "text/html": [
       "<div>\n",
       "<style scoped>\n",
       "    .dataframe tbody tr th:only-of-type {\n",
       "        vertical-align: middle;\n",
       "    }\n",
       "\n",
       "    .dataframe tbody tr th {\n",
       "        vertical-align: top;\n",
       "    }\n",
       "\n",
       "    .dataframe thead th {\n",
       "        text-align: right;\n",
       "    }\n",
       "</style>\n",
       "<table border=\"1\" class=\"dataframe\">\n",
       "  <thead>\n",
       "    <tr style=\"text-align: right;\">\n",
       "      <th></th>\n",
       "      <th>Alemão</th>\n",
       "      <th>Catalão</th>\n",
       "      <th>Eslovaco</th>\n",
       "      <th>Espanhol</th>\n",
       "      <th>Francês</th>\n",
       "      <th>Hebraico</th>\n",
       "      <th>Inglês</th>\n",
       "      <th>Italiano</th>\n",
       "      <th>Japonês</th>\n",
       "      <th>Mandarim</th>\n",
       "      <th>Russo</th>\n",
       "      <th>Ano</th>\n",
       "    </tr>\n",
       "  </thead>\n",
       "  <tbody>\n",
       "    <tr>\n",
       "      <th>0</th>\n",
       "      <td>116.0</td>\n",
       "      <td>0.0</td>\n",
       "      <td>0.0</td>\n",
       "      <td>534.0</td>\n",
       "      <td>36.0</td>\n",
       "      <td>0.0</td>\n",
       "      <td>512.0</td>\n",
       "      <td>75.0</td>\n",
       "      <td>2.0</td>\n",
       "      <td>5.0</td>\n",
       "      <td>4.0</td>\n",
       "      <td>2016</td>\n",
       "    </tr>\n",
       "  </tbody>\n",
       "</table>\n",
       "</div>"
      ],
      "text/plain": [
       "   Alemão  Catalão  Eslovaco  Espanhol  Francês  Hebraico  Inglês  Italiano  \\\n",
       "0   116.0      0.0       0.0     534.0     36.0       0.0   512.0      75.0   \n",
       "\n",
       "   Japonês  Mandarim  Russo  Ano  \n",
       "0      2.0       5.0    4.0 2016  "
      ]
     },
     "execution_count": 38,
     "metadata": {},
     "output_type": "execute_result"
    }
   ],
   "source": [
    "dadosRS_2016 = dados2016(dados_2016,'RS')\n",
    "dadosRS_2016"
   ]
  },
  {
   "cell_type": "markdown",
   "metadata": {},
   "source": [
    "<p><strong>Média da quantidade</strong> de <strong>Turistas</strong> que chegaram em <strong>RS</strong></p>"
   ]
  },
  {
   "cell_type": "code",
   "execution_count": 39,
   "metadata": {},
   "outputs": [
    {
     "data": {
      "text/html": [
       "<div>\n",
       "<style scoped>\n",
       "    .dataframe tbody tr th:only-of-type {\n",
       "        vertical-align: middle;\n",
       "    }\n",
       "\n",
       "    .dataframe tbody tr th {\n",
       "        vertical-align: top;\n",
       "    }\n",
       "\n",
       "    .dataframe thead th {\n",
       "        text-align: right;\n",
       "    }\n",
       "</style>\n",
       "<table border=\"1\" class=\"dataframe\">\n",
       "  <thead>\n",
       "    <tr style=\"text-align: right;\">\n",
       "      <th></th>\n",
       "      <th>Chegadas</th>\n",
       "      <th>Ano</th>\n",
       "    </tr>\n",
       "  </thead>\n",
       "  <tbody>\n",
       "    <tr>\n",
       "      <th>0</th>\n",
       "      <td>895937.0</td>\n",
       "      <td>2016</td>\n",
       "    </tr>\n",
       "  </tbody>\n",
       "</table>\n",
       "</div>"
      ],
      "text/plain": [
       "   Chegadas  Ano\n",
       "0  895937.0 2016"
      ]
     },
     "execution_count": 39,
     "metadata": {},
     "output_type": "execute_result"
    }
   ],
   "source": [
    "chegadas2016RS = ano(media(AnaliseChegadas(chegadas2016,'Rio Grande do Sul')),'2016')\n",
    "chegadas2016RS"
   ]
  },
  {
   "cell_type": "markdown",
   "metadata": {},
   "source": [
    "## 2017\n",
    "<p><strong>Quantidade</strong> de <strong>Hospedagens</strong> que oferecem <strong>X idioma estrangeiro</strong> em <strong>RS</strong></p>"
   ]
  },
  {
   "cell_type": "code",
   "execution_count": 40,
   "metadata": {},
   "outputs": [
    {
     "data": {
      "text/html": [
       "<div>\n",
       "<style scoped>\n",
       "    .dataframe tbody tr th:only-of-type {\n",
       "        vertical-align: middle;\n",
       "    }\n",
       "\n",
       "    .dataframe tbody tr th {\n",
       "        vertical-align: top;\n",
       "    }\n",
       "\n",
       "    .dataframe thead th {\n",
       "        text-align: right;\n",
       "    }\n",
       "</style>\n",
       "<table border=\"1\" class=\"dataframe\">\n",
       "  <thead>\n",
       "    <tr style=\"text-align: right;\">\n",
       "      <th></th>\n",
       "      <th>Alemão</th>\n",
       "      <th>Catalão</th>\n",
       "      <th>Eslovaco</th>\n",
       "      <th>Espanhol</th>\n",
       "      <th>Francês</th>\n",
       "      <th>Hebraico</th>\n",
       "      <th>Inglês</th>\n",
       "      <th>Italiano</th>\n",
       "      <th>Japonês</th>\n",
       "      <th>Mandarim</th>\n",
       "      <th>Russo</th>\n",
       "      <th>Ano</th>\n",
       "    </tr>\n",
       "  </thead>\n",
       "  <tbody>\n",
       "    <tr>\n",
       "      <th>0</th>\n",
       "      <td>72.0</td>\n",
       "      <td>0.0</td>\n",
       "      <td>0.0</td>\n",
       "      <td>301.0</td>\n",
       "      <td>21.0</td>\n",
       "      <td>0.0</td>\n",
       "      <td>288.0</td>\n",
       "      <td>40.0</td>\n",
       "      <td>1.0</td>\n",
       "      <td>2.0</td>\n",
       "      <td>2.0</td>\n",
       "      <td>2017</td>\n",
       "    </tr>\n",
       "  </tbody>\n",
       "</table>\n",
       "</div>"
      ],
      "text/plain": [
       "   Alemão  Catalão  Eslovaco  Espanhol  Francês  Hebraico  Inglês  Italiano  \\\n",
       "0    72.0      0.0       0.0     301.0     21.0       0.0   288.0      40.0   \n",
       "\n",
       "   Japonês  Mandarim  Russo  Ano  \n",
       "0      1.0       2.0    2.0 2017  "
      ]
     },
     "execution_count": 40,
     "metadata": {},
     "output_type": "execute_result"
    }
   ],
   "source": [
    "dadosRS_2017 = dados2017(dados_2017,'RS')\n",
    "dadosRS_2017"
   ]
  },
  {
   "cell_type": "markdown",
   "metadata": {},
   "source": [
    "<p><strong>Média da quantidade</strong> de <strong>Turistas</strong> que chegaram em <strong>RS</strong></p>"
   ]
  },
  {
   "cell_type": "code",
   "execution_count": 41,
   "metadata": {},
   "outputs": [
    {
     "data": {
      "text/html": [
       "<div>\n",
       "<style scoped>\n",
       "    .dataframe tbody tr th:only-of-type {\n",
       "        vertical-align: middle;\n",
       "    }\n",
       "\n",
       "    .dataframe tbody tr th {\n",
       "        vertical-align: top;\n",
       "    }\n",
       "\n",
       "    .dataframe thead th {\n",
       "        text-align: right;\n",
       "    }\n",
       "</style>\n",
       "<table border=\"1\" class=\"dataframe\">\n",
       "  <thead>\n",
       "    <tr style=\"text-align: right;\">\n",
       "      <th></th>\n",
       "      <th>Chegadas</th>\n",
       "      <th>Ano</th>\n",
       "    </tr>\n",
       "  </thead>\n",
       "  <tbody>\n",
       "    <tr>\n",
       "      <th>0</th>\n",
       "      <td>1021639.0</td>\n",
       "      <td>2017</td>\n",
       "    </tr>\n",
       "  </tbody>\n",
       "</table>\n",
       "</div>"
      ],
      "text/plain": [
       "    Chegadas  Ano\n",
       "0  1021639.0 2017"
      ]
     },
     "execution_count": 41,
     "metadata": {},
     "output_type": "execute_result"
    }
   ],
   "source": [
    "chegadas2017RS = ano(media(AnaliseChegadas(chegadas2017,'Rio Grande do Sul')),'2017')\n",
    "chegadas2017RS"
   ]
  },
  {
   "cell_type": "markdown",
   "metadata": {},
   "source": [
    "### Dataframe com os valores dos anos 2014-2017 | RS"
   ]
  },
  {
   "cell_type": "code",
   "execution_count": 42,
   "metadata": {},
   "outputs": [
    {
     "name": "stderr",
     "output_type": "stream",
     "text": [
      "C:\\Users\\Usuário\\Anaconda3\\lib\\site-packages\\ipykernel_launcher.py:3: FutureWarning: Sorting because non-concatenation axis is not aligned. A future version\n",
      "of pandas will change to not sort by default.\n",
      "\n",
      "To accept the future behavior, pass 'sort=True'.\n",
      "\n",
      "To retain the current behavior and silence the warning, pass sort=False\n",
      "\n",
      "  This is separate from the ipykernel package so we can avoid doing imports until\n"
     ]
    },
    {
     "data": {
      "text/html": [
       "<div>\n",
       "<style scoped>\n",
       "    .dataframe tbody tr th:only-of-type {\n",
       "        vertical-align: middle;\n",
       "    }\n",
       "\n",
       "    .dataframe tbody tr th {\n",
       "        vertical-align: top;\n",
       "    }\n",
       "\n",
       "    .dataframe thead th {\n",
       "        text-align: right;\n",
       "    }\n",
       "</style>\n",
       "<table border=\"1\" class=\"dataframe\">\n",
       "  <thead>\n",
       "    <tr style=\"text-align: right;\">\n",
       "      <th></th>\n",
       "      <th>Alemão</th>\n",
       "      <th>Ano</th>\n",
       "      <th>Catalão</th>\n",
       "      <th>Dinamarquês</th>\n",
       "      <th>Eslovaco</th>\n",
       "      <th>Espanhol</th>\n",
       "      <th>Francês</th>\n",
       "      <th>Hebraico</th>\n",
       "      <th>Inglês</th>\n",
       "      <th>Italiano</th>\n",
       "      <th>Japonês</th>\n",
       "      <th>Mandarim</th>\n",
       "      <th>Russo</th>\n",
       "      <th>Sueco</th>\n",
       "    </tr>\n",
       "  </thead>\n",
       "  <tbody>\n",
       "    <tr>\n",
       "      <th>0</th>\n",
       "      <td>80.0</td>\n",
       "      <td>2014</td>\n",
       "      <td>NaN</td>\n",
       "      <td>0.0</td>\n",
       "      <td>NaN</td>\n",
       "      <td>360.0</td>\n",
       "      <td>25.0</td>\n",
       "      <td>0.0</td>\n",
       "      <td>310.0</td>\n",
       "      <td>51.0</td>\n",
       "      <td>1.0</td>\n",
       "      <td>2.0</td>\n",
       "      <td>2.0</td>\n",
       "      <td>0.0</td>\n",
       "    </tr>\n",
       "    <tr>\n",
       "      <th>0</th>\n",
       "      <td>61.0</td>\n",
       "      <td>2015</td>\n",
       "      <td>NaN</td>\n",
       "      <td>NaN</td>\n",
       "      <td>NaN</td>\n",
       "      <td>281.0</td>\n",
       "      <td>20.0</td>\n",
       "      <td>0.0</td>\n",
       "      <td>262.0</td>\n",
       "      <td>41.0</td>\n",
       "      <td>1.0</td>\n",
       "      <td>3.0</td>\n",
       "      <td>2.0</td>\n",
       "      <td>NaN</td>\n",
       "    </tr>\n",
       "    <tr>\n",
       "      <th>0</th>\n",
       "      <td>116.0</td>\n",
       "      <td>2016</td>\n",
       "      <td>0.0</td>\n",
       "      <td>NaN</td>\n",
       "      <td>0.0</td>\n",
       "      <td>534.0</td>\n",
       "      <td>36.0</td>\n",
       "      <td>0.0</td>\n",
       "      <td>512.0</td>\n",
       "      <td>75.0</td>\n",
       "      <td>2.0</td>\n",
       "      <td>5.0</td>\n",
       "      <td>4.0</td>\n",
       "      <td>NaN</td>\n",
       "    </tr>\n",
       "    <tr>\n",
       "      <th>0</th>\n",
       "      <td>72.0</td>\n",
       "      <td>2017</td>\n",
       "      <td>0.0</td>\n",
       "      <td>NaN</td>\n",
       "      <td>0.0</td>\n",
       "      <td>301.0</td>\n",
       "      <td>21.0</td>\n",
       "      <td>0.0</td>\n",
       "      <td>288.0</td>\n",
       "      <td>40.0</td>\n",
       "      <td>1.0</td>\n",
       "      <td>2.0</td>\n",
       "      <td>2.0</td>\n",
       "      <td>NaN</td>\n",
       "    </tr>\n",
       "  </tbody>\n",
       "</table>\n",
       "</div>"
      ],
      "text/plain": [
       "   Alemão  Ano  Catalão  Dinamarquês  Eslovaco  Espanhol  Francês  Hebraico  \\\n",
       "0    80.0 2014      NaN          0.0       NaN     360.0     25.0       0.0   \n",
       "0    61.0 2015      NaN          NaN       NaN     281.0     20.0       0.0   \n",
       "0   116.0 2016      0.0          NaN       0.0     534.0     36.0       0.0   \n",
       "0    72.0 2017      0.0          NaN       0.0     301.0     21.0       0.0   \n",
       "\n",
       "   Inglês  Italiano  Japonês  Mandarim  Russo  Sueco  \n",
       "0   310.0      51.0      1.0       2.0    2.0    0.0  \n",
       "0   262.0      41.0      1.0       3.0    2.0    NaN  \n",
       "0   512.0      75.0      2.0       5.0    4.0    NaN  \n",
       "0   288.0      40.0      1.0       2.0    2.0    NaN  "
      ]
     },
     "execution_count": 42,
     "metadata": {},
     "output_type": "execute_result"
    }
   ],
   "source": [
    "dados_Hospedagens_RS = Dados(dadosRS_2014,dadosRS_2015,dadosRS_2016,dadosRS_2017)\n",
    "dados_Hospedagens_RS"
   ]
  },
  {
   "cell_type": "code",
   "execution_count": 43,
   "metadata": {},
   "outputs": [
    {
     "data": {
      "text/html": [
       "<div>\n",
       "<style scoped>\n",
       "    .dataframe tbody tr th:only-of-type {\n",
       "        vertical-align: middle;\n",
       "    }\n",
       "\n",
       "    .dataframe tbody tr th {\n",
       "        vertical-align: top;\n",
       "    }\n",
       "\n",
       "    .dataframe thead th {\n",
       "        text-align: right;\n",
       "    }\n",
       "</style>\n",
       "<table border=\"1\" class=\"dataframe\">\n",
       "  <thead>\n",
       "    <tr style=\"text-align: right;\">\n",
       "      <th></th>\n",
       "      <th>Chegadas</th>\n",
       "      <th>Ano</th>\n",
       "    </tr>\n",
       "  </thead>\n",
       "  <tbody>\n",
       "    <tr>\n",
       "      <th>0</th>\n",
       "      <td>679138.0</td>\n",
       "      <td>2014</td>\n",
       "    </tr>\n",
       "    <tr>\n",
       "      <th>0</th>\n",
       "      <td>856645.0</td>\n",
       "      <td>2015</td>\n",
       "    </tr>\n",
       "    <tr>\n",
       "      <th>0</th>\n",
       "      <td>895937.0</td>\n",
       "      <td>2016</td>\n",
       "    </tr>\n",
       "    <tr>\n",
       "      <th>0</th>\n",
       "      <td>1021639.0</td>\n",
       "      <td>2017</td>\n",
       "    </tr>\n",
       "  </tbody>\n",
       "</table>\n",
       "</div>"
      ],
      "text/plain": [
       "    Chegadas  Ano\n",
       "0   679138.0 2014\n",
       "0   856645.0 2015\n",
       "0   895937.0 2016\n",
       "0  1021639.0 2017"
      ]
     },
     "execution_count": 43,
     "metadata": {},
     "output_type": "execute_result"
    }
   ],
   "source": [
    "dados_Chegadas_RS = Dados(chegadas2014RS,chegadas2015RS,chegadas2016RS,chegadas2017RS)\n",
    "dados_Chegadas_RS"
   ]
  },
  {
   "cell_type": "code",
   "execution_count": 44,
   "metadata": {},
   "outputs": [
    {
     "data": {
      "text/html": [
       "<div>\n",
       "<style scoped>\n",
       "    .dataframe tbody tr th:only-of-type {\n",
       "        vertical-align: middle;\n",
       "    }\n",
       "\n",
       "    .dataframe tbody tr th {\n",
       "        vertical-align: top;\n",
       "    }\n",
       "\n",
       "    .dataframe thead th {\n",
       "        text-align: right;\n",
       "    }\n",
       "</style>\n",
       "<table border=\"1\" class=\"dataframe\">\n",
       "  <thead>\n",
       "    <tr style=\"text-align: right;\">\n",
       "      <th></th>\n",
       "      <th>Alemão</th>\n",
       "      <th>Ano</th>\n",
       "      <th>Catalão</th>\n",
       "      <th>Dinamarquês</th>\n",
       "      <th>Eslovaco</th>\n",
       "      <th>Espanhol</th>\n",
       "      <th>Francês</th>\n",
       "      <th>Hebraico</th>\n",
       "      <th>Inglês</th>\n",
       "      <th>Italiano</th>\n",
       "      <th>Japonês</th>\n",
       "      <th>Mandarim</th>\n",
       "      <th>Russo</th>\n",
       "      <th>Sueco</th>\n",
       "      <th>Chegadas_Argentina</th>\n",
       "    </tr>\n",
       "  </thead>\n",
       "  <tbody>\n",
       "    <tr>\n",
       "      <th>0</th>\n",
       "      <td>80.0</td>\n",
       "      <td>2014</td>\n",
       "      <td>NaN</td>\n",
       "      <td>0.0</td>\n",
       "      <td>NaN</td>\n",
       "      <td>360.0</td>\n",
       "      <td>25.0</td>\n",
       "      <td>0.0</td>\n",
       "      <td>310.0</td>\n",
       "      <td>51.0</td>\n",
       "      <td>1.0</td>\n",
       "      <td>2.0</td>\n",
       "      <td>2.0</td>\n",
       "      <td>0.0</td>\n",
       "      <td>679138.0</td>\n",
       "    </tr>\n",
       "    <tr>\n",
       "      <th>1</th>\n",
       "      <td>61.0</td>\n",
       "      <td>2015</td>\n",
       "      <td>NaN</td>\n",
       "      <td>NaN</td>\n",
       "      <td>NaN</td>\n",
       "      <td>281.0</td>\n",
       "      <td>20.0</td>\n",
       "      <td>0.0</td>\n",
       "      <td>262.0</td>\n",
       "      <td>41.0</td>\n",
       "      <td>1.0</td>\n",
       "      <td>3.0</td>\n",
       "      <td>2.0</td>\n",
       "      <td>NaN</td>\n",
       "      <td>856645.0</td>\n",
       "    </tr>\n",
       "    <tr>\n",
       "      <th>2</th>\n",
       "      <td>116.0</td>\n",
       "      <td>2016</td>\n",
       "      <td>0.0</td>\n",
       "      <td>NaN</td>\n",
       "      <td>0.0</td>\n",
       "      <td>534.0</td>\n",
       "      <td>36.0</td>\n",
       "      <td>0.0</td>\n",
       "      <td>512.0</td>\n",
       "      <td>75.0</td>\n",
       "      <td>2.0</td>\n",
       "      <td>5.0</td>\n",
       "      <td>4.0</td>\n",
       "      <td>NaN</td>\n",
       "      <td>895937.0</td>\n",
       "    </tr>\n",
       "    <tr>\n",
       "      <th>3</th>\n",
       "      <td>72.0</td>\n",
       "      <td>2017</td>\n",
       "      <td>0.0</td>\n",
       "      <td>NaN</td>\n",
       "      <td>0.0</td>\n",
       "      <td>301.0</td>\n",
       "      <td>21.0</td>\n",
       "      <td>0.0</td>\n",
       "      <td>288.0</td>\n",
       "      <td>40.0</td>\n",
       "      <td>1.0</td>\n",
       "      <td>2.0</td>\n",
       "      <td>2.0</td>\n",
       "      <td>NaN</td>\n",
       "      <td>1021639.0</td>\n",
       "    </tr>\n",
       "  </tbody>\n",
       "</table>\n",
       "</div>"
      ],
      "text/plain": [
       "   Alemão  Ano  Catalão  Dinamarquês  Eslovaco  Espanhol  Francês  Hebraico  \\\n",
       "0    80.0 2014      NaN          0.0       NaN     360.0     25.0       0.0   \n",
       "1    61.0 2015      NaN          NaN       NaN     281.0     20.0       0.0   \n",
       "2   116.0 2016      0.0          NaN       0.0     534.0     36.0       0.0   \n",
       "3    72.0 2017      0.0          NaN       0.0     301.0     21.0       0.0   \n",
       "\n",
       "   Inglês  Italiano  Japonês  Mandarim  Russo  Sueco  Chegadas_Argentina  \n",
       "0   310.0      51.0      1.0       2.0    2.0    0.0            679138.0  \n",
       "1   262.0      41.0      1.0       3.0    2.0    NaN            856645.0  \n",
       "2   512.0      75.0      2.0       5.0    4.0    NaN            895937.0  \n",
       "3   288.0      40.0      1.0       2.0    2.0    NaN           1021639.0  "
      ]
     },
     "execution_count": 44,
     "metadata": {},
     "output_type": "execute_result"
    }
   ],
   "source": [
    "dadosRS = pd.merge(dados_Hospedagens_RS,dados_Chegadas_RS,how='outer')\n",
    "dadosRS.rename(columns={'Chegadas': 'Chegadas_Argentina'}, inplace=True)\n",
    "dadosRS"
   ]
  },
  {
   "cell_type": "code",
   "execution_count": 45,
   "metadata": {},
   "outputs": [
    {
     "data": {
      "text/plain": [
       "<matplotlib.axes._subplots.AxesSubplot at 0x284ae378400>"
      ]
     },
     "execution_count": 45,
     "metadata": {},
     "output_type": "execute_result"
    },
    {
     "data": {
      "image/png": "[encoded data removed]",
      "text/plain": [
       "<Figure size 432x288 with 1 Axes>"
      ]
     },
     "metadata": {},
     "output_type": "display_data"
    }
   ],
   "source": [
    "dadosRS.groupby(dadosRS.Ano.dt.year).Espanhol.mean().plot()"
   ]
  },
  {
   "cell_type": "code",
   "execution_count": 46,
   "metadata": {},
   "outputs": [
    {
     "data": {
      "text/plain": [
       "<matplotlib.axes._subplots.AxesSubplot at 0x284ae3ceba8>"
      ]
     },
     "execution_count": 46,
     "metadata": {},
     "output_type": "execute_result"
    },
    {
     "data": {
      "image/png": "[encoded data removed]",
      "text/plain": [
       "<Figure size 432x288 with 1 Axes>"
      ]
     },
     "metadata": {},
     "output_type": "display_data"
    }
   ],
   "source": [
    "dadosRS.groupby(dadosRS.Ano.dt.year).Chegadas_Argentina.mean().plot()"
   ]
  },
  {
   "cell_type": "markdown",
   "metadata": {},
   "source": [
    "## Análise dos Dados Rio de Janeiro"
   ]
  },
  {
   "cell_type": "markdown",
   "metadata": {},
   "source": [
    "## 2014\n",
    "<p><strong>Quantidade</strong> de <strong>Hospedagens</strong> que oferecem <strong>X idioma estrangeiro</strong> em <strong>RJ</strong></p>"
   ]
  },
  {
   "cell_type": "code",
   "execution_count": 47,
   "metadata": {},
   "outputs": [
    {
     "data": {
      "text/html": [
       "<div>\n",
       "<style scoped>\n",
       "    .dataframe tbody tr th:only-of-type {\n",
       "        vertical-align: middle;\n",
       "    }\n",
       "\n",
       "    .dataframe tbody tr th {\n",
       "        vertical-align: top;\n",
       "    }\n",
       "\n",
       "    .dataframe thead th {\n",
       "        text-align: right;\n",
       "    }\n",
       "</style>\n",
       "<table border=\"1\" class=\"dataframe\">\n",
       "  <thead>\n",
       "    <tr style=\"text-align: right;\">\n",
       "      <th></th>\n",
       "      <th>Alemão</th>\n",
       "      <th>Dinamarquês</th>\n",
       "      <th>Espanhol</th>\n",
       "      <th>Francês</th>\n",
       "      <th>Hebraico</th>\n",
       "      <th>Inglês</th>\n",
       "      <th>Italiano</th>\n",
       "      <th>Japonês</th>\n",
       "      <th>Mandarim</th>\n",
       "      <th>Russo</th>\n",
       "      <th>Sueco</th>\n",
       "      <th>Ano</th>\n",
       "    </tr>\n",
       "  </thead>\n",
       "  <tbody>\n",
       "    <tr>\n",
       "      <th>0</th>\n",
       "      <td>57.0</td>\n",
       "      <td>0.0</td>\n",
       "      <td>450.0</td>\n",
       "      <td>146.0</td>\n",
       "      <td>3.0</td>\n",
       "      <td>564.0</td>\n",
       "      <td>79.0</td>\n",
       "      <td>6.0</td>\n",
       "      <td>1.0</td>\n",
       "      <td>9.0</td>\n",
       "      <td>0.0</td>\n",
       "      <td>2014</td>\n",
       "    </tr>\n",
       "  </tbody>\n",
       "</table>\n",
       "</div>"
      ],
      "text/plain": [
       "   Alemão  Dinamarquês  Espanhol  Francês  Hebraico  Inglês  Italiano  \\\n",
       "0    57.0          0.0     450.0    146.0       3.0   564.0      79.0   \n",
       "\n",
       "   Japonês  Mandarim  Russo  Sueco  Ano  \n",
       "0      6.0       1.0    9.0    0.0 2014  "
      ]
     },
     "execution_count": 47,
     "metadata": {},
     "output_type": "execute_result"
    }
   ],
   "source": [
    "dadosRJ_2014 = dados2014(dados_2014,'RJ')\n",
    "dadosRJ_2014"
   ]
  },
  {
   "cell_type": "markdown",
   "metadata": {},
   "source": [
    "<p><strong>Média da quantidade</strong> de <strong>Turistas</strong> que chegaram em <strong>RJ</strong></p>"
   ]
  },
  {
   "cell_type": "code",
   "execution_count": 48,
   "metadata": {},
   "outputs": [
    {
     "data": {
      "text/html": [
       "<div>\n",
       "<style scoped>\n",
       "    .dataframe tbody tr th:only-of-type {\n",
       "        vertical-align: middle;\n",
       "    }\n",
       "\n",
       "    .dataframe tbody tr th {\n",
       "        vertical-align: top;\n",
       "    }\n",
       "\n",
       "    .dataframe thead th {\n",
       "        text-align: right;\n",
       "    }\n",
       "</style>\n",
       "<table border=\"1\" class=\"dataframe\">\n",
       "  <thead>\n",
       "    <tr style=\"text-align: right;\">\n",
       "      <th></th>\n",
       "      <th>Chegadas</th>\n",
       "      <th>Ano</th>\n",
       "    </tr>\n",
       "  </thead>\n",
       "  <tbody>\n",
       "    <tr>\n",
       "      <th>0</th>\n",
       "      <td>284795.0</td>\n",
       "      <td>2014</td>\n",
       "    </tr>\n",
       "  </tbody>\n",
       "</table>\n",
       "</div>"
      ],
      "text/plain": [
       "   Chegadas  Ano\n",
       "0  284795.0 2014"
      ]
     },
     "execution_count": 48,
     "metadata": {},
     "output_type": "execute_result"
    }
   ],
   "source": [
    "chegadas2014RJ = ano(media(AnaliseChegadas(chegadas2014,'Rio de Janeiro')),'2014')\n",
    "chegadas2014RJ"
   ]
  },
  {
   "cell_type": "markdown",
   "metadata": {},
   "source": [
    "## 2015\n",
    "<p><strong>Quantidade</strong> de <strong>Hospedagens</strong> que oferecem <strong>X idioma estrangeiro</strong> em <strong>RJ</strong></p>"
   ]
  },
  {
   "cell_type": "code",
   "execution_count": 49,
   "metadata": {},
   "outputs": [
    {
     "data": {
      "text/html": [
       "<div>\n",
       "<style scoped>\n",
       "    .dataframe tbody tr th:only-of-type {\n",
       "        vertical-align: middle;\n",
       "    }\n",
       "\n",
       "    .dataframe tbody tr th {\n",
       "        vertical-align: top;\n",
       "    }\n",
       "\n",
       "    .dataframe thead th {\n",
       "        text-align: right;\n",
       "    }\n",
       "</style>\n",
       "<table border=\"1\" class=\"dataframe\">\n",
       "  <thead>\n",
       "    <tr style=\"text-align: right;\">\n",
       "      <th></th>\n",
       "      <th>Alemão</th>\n",
       "      <th>Espanhol</th>\n",
       "      <th>Francês</th>\n",
       "      <th>Hebraico</th>\n",
       "      <th>Inglês</th>\n",
       "      <th>Italiano</th>\n",
       "      <th>Japonês</th>\n",
       "      <th>Mandarim</th>\n",
       "      <th>Russo</th>\n",
       "      <th>Ano</th>\n",
       "    </tr>\n",
       "  </thead>\n",
       "  <tbody>\n",
       "    <tr>\n",
       "      <th>0</th>\n",
       "      <td>52.0</td>\n",
       "      <td>434.0</td>\n",
       "      <td>135.0</td>\n",
       "      <td>5.0</td>\n",
       "      <td>534.0</td>\n",
       "      <td>75.0</td>\n",
       "      <td>5.0</td>\n",
       "      <td>1.0</td>\n",
       "      <td>9.0</td>\n",
       "      <td>2015</td>\n",
       "    </tr>\n",
       "  </tbody>\n",
       "</table>\n",
       "</div>"
      ],
      "text/plain": [
       "   Alemão  Espanhol  Francês  Hebraico  Inglês  Italiano  Japonês  Mandarim  \\\n",
       "0    52.0     434.0    135.0       5.0   534.0      75.0      5.0       1.0   \n",
       "\n",
       "   Russo  Ano  \n",
       "0    9.0 2015  "
      ]
     },
     "execution_count": 49,
     "metadata": {},
     "output_type": "execute_result"
    }
   ],
   "source": [
    "dadosRJ_2015 = dados2015(dados_2015,'RJ')\n",
    "dadosRJ_2015"
   ]
  },
  {
   "cell_type": "markdown",
   "metadata": {},
   "source": [
    "<p><strong>Média da quantidade</strong> de <strong>Turistas</strong> que chegaram em <strong>RJ</strong></p>"
   ]
  },
  {
   "cell_type": "code",
   "execution_count": 50,
   "metadata": {},
   "outputs": [
    {
     "data": {
      "text/html": [
       "<div>\n",
       "<style scoped>\n",
       "    .dataframe tbody tr th:only-of-type {\n",
       "        vertical-align: middle;\n",
       "    }\n",
       "\n",
       "    .dataframe tbody tr th {\n",
       "        vertical-align: top;\n",
       "    }\n",
       "\n",
       "    .dataframe thead th {\n",
       "        text-align: right;\n",
       "    }\n",
       "</style>\n",
       "<table border=\"1\" class=\"dataframe\">\n",
       "  <thead>\n",
       "    <tr style=\"text-align: right;\">\n",
       "      <th></th>\n",
       "      <th>Chegadas</th>\n",
       "      <th>Ano</th>\n",
       "    </tr>\n",
       "  </thead>\n",
       "  <tbody>\n",
       "    <tr>\n",
       "      <th>0</th>\n",
       "      <td>342765.0</td>\n",
       "      <td>2015</td>\n",
       "    </tr>\n",
       "  </tbody>\n",
       "</table>\n",
       "</div>"
      ],
      "text/plain": [
       "   Chegadas  Ano\n",
       "0  342765.0 2015"
      ]
     },
     "execution_count": 50,
     "metadata": {},
     "output_type": "execute_result"
    }
   ],
   "source": [
    "chegadas2015RJ = ano(media(AnaliseChegadas(chegadas2015,'Rio de Janeiro')),'2015')\n",
    "chegadas2015RJ"
   ]
  },
  {
   "cell_type": "markdown",
   "metadata": {},
   "source": [
    "## 2016\n",
    "<p><strong>Quantidade</strong> de <strong>Hospedagens</strong> que oferecem <strong>X idioma estrangeiro</strong> em <strong>RJ</strong></p>"
   ]
  },
  {
   "cell_type": "code",
   "execution_count": 51,
   "metadata": {},
   "outputs": [
    {
     "data": {
      "text/html": [
       "<div>\n",
       "<style scoped>\n",
       "    .dataframe tbody tr th:only-of-type {\n",
       "        vertical-align: middle;\n",
       "    }\n",
       "\n",
       "    .dataframe tbody tr th {\n",
       "        vertical-align: top;\n",
       "    }\n",
       "\n",
       "    .dataframe thead th {\n",
       "        text-align: right;\n",
       "    }\n",
       "</style>\n",
       "<table border=\"1\" class=\"dataframe\">\n",
       "  <thead>\n",
       "    <tr style=\"text-align: right;\">\n",
       "      <th></th>\n",
       "      <th>Alemão</th>\n",
       "      <th>Catalão</th>\n",
       "      <th>Eslovaco</th>\n",
       "      <th>Espanhol</th>\n",
       "      <th>Francês</th>\n",
       "      <th>Hebraico</th>\n",
       "      <th>Inglês</th>\n",
       "      <th>Italiano</th>\n",
       "      <th>Japonês</th>\n",
       "      <th>Mandarim</th>\n",
       "      <th>Russo</th>\n",
       "      <th>Ano</th>\n",
       "    </tr>\n",
       "  </thead>\n",
       "  <tbody>\n",
       "    <tr>\n",
       "      <th>0</th>\n",
       "      <td>107.0</td>\n",
       "      <td>0.0</td>\n",
       "      <td>0.0</td>\n",
       "      <td>952.0</td>\n",
       "      <td>301.0</td>\n",
       "      <td>9.0</td>\n",
       "      <td>1197.0</td>\n",
       "      <td>162.0</td>\n",
       "      <td>18.0</td>\n",
       "      <td>5.0</td>\n",
       "      <td>21.0</td>\n",
       "      <td>2016</td>\n",
       "    </tr>\n",
       "  </tbody>\n",
       "</table>\n",
       "</div>"
      ],
      "text/plain": [
       "   Alemão  Catalão  Eslovaco  Espanhol  Francês  Hebraico  Inglês  Italiano  \\\n",
       "0   107.0      0.0       0.0     952.0    301.0       9.0  1197.0     162.0   \n",
       "\n",
       "   Japonês  Mandarim  Russo  Ano  \n",
       "0     18.0       5.0   21.0 2016  "
      ]
     },
     "execution_count": 51,
     "metadata": {},
     "output_type": "execute_result"
    }
   ],
   "source": [
    "dadosRJ_2016 = dados2016(dados_2016,'RJ')\n",
    "dadosRJ_2016"
   ]
  },
  {
   "cell_type": "markdown",
   "metadata": {},
   "source": [
    "<p><strong>Média da quantidade</strong> de <strong>Turistas</strong> que chegaram em <strong>RJ</strong></p>"
   ]
  },
  {
   "cell_type": "code",
   "execution_count": 52,
   "metadata": {},
   "outputs": [
    {
     "data": {
      "text/html": [
       "<div>\n",
       "<style scoped>\n",
       "    .dataframe tbody tr th:only-of-type {\n",
       "        vertical-align: middle;\n",
       "    }\n",
       "\n",
       "    .dataframe tbody tr th {\n",
       "        vertical-align: top;\n",
       "    }\n",
       "\n",
       "    .dataframe thead th {\n",
       "        text-align: right;\n",
       "    }\n",
       "</style>\n",
       "<table border=\"1\" class=\"dataframe\">\n",
       "  <thead>\n",
       "    <tr style=\"text-align: right;\">\n",
       "      <th></th>\n",
       "      <th>Chegadas</th>\n",
       "      <th>Ano</th>\n",
       "    </tr>\n",
       "  </thead>\n",
       "  <tbody>\n",
       "    <tr>\n",
       "      <th>0</th>\n",
       "      <td>377677.0</td>\n",
       "      <td>2016</td>\n",
       "    </tr>\n",
       "  </tbody>\n",
       "</table>\n",
       "</div>"
      ],
      "text/plain": [
       "   Chegadas  Ano\n",
       "0  377677.0 2016"
      ]
     },
     "execution_count": 52,
     "metadata": {},
     "output_type": "execute_result"
    }
   ],
   "source": [
    "chegadas2016RJ = ano(media(AnaliseChegadas(chegadas2016,'Rio de Janeiro')),'2016')\n",
    "chegadas2016RJ"
   ]
  },
  {
   "cell_type": "markdown",
   "metadata": {},
   "source": [
    "## 2017\n",
    "<p><strong>Quantidade</strong> de <strong>Hospedagens</strong> que oferecem <strong>X idioma estrangeiro</strong> em <strong>RJ</strong></p>"
   ]
  },
  {
   "cell_type": "code",
   "execution_count": 53,
   "metadata": {},
   "outputs": [
    {
     "data": {
      "text/html": [
       "<div>\n",
       "<style scoped>\n",
       "    .dataframe tbody tr th:only-of-type {\n",
       "        vertical-align: middle;\n",
       "    }\n",
       "\n",
       "    .dataframe tbody tr th {\n",
       "        vertical-align: top;\n",
       "    }\n",
       "\n",
       "    .dataframe thead th {\n",
       "        text-align: right;\n",
       "    }\n",
       "</style>\n",
       "<table border=\"1\" class=\"dataframe\">\n",
       "  <thead>\n",
       "    <tr style=\"text-align: right;\">\n",
       "      <th></th>\n",
       "      <th>Alemão</th>\n",
       "      <th>Catalão</th>\n",
       "      <th>Eslovaco</th>\n",
       "      <th>Espanhol</th>\n",
       "      <th>Francês</th>\n",
       "      <th>Hebraico</th>\n",
       "      <th>Inglês</th>\n",
       "      <th>Italiano</th>\n",
       "      <th>Japonês</th>\n",
       "      <th>Mandarim</th>\n",
       "      <th>Russo</th>\n",
       "      <th>Ano</th>\n",
       "    </tr>\n",
       "  </thead>\n",
       "  <tbody>\n",
       "    <tr>\n",
       "      <th>0</th>\n",
       "      <td>56.0</td>\n",
       "      <td>0.0</td>\n",
       "      <td>0.0</td>\n",
       "      <td>616.0</td>\n",
       "      <td>186.0</td>\n",
       "      <td>4.0</td>\n",
       "      <td>764.0</td>\n",
       "      <td>94.0</td>\n",
       "      <td>12.0</td>\n",
       "      <td>3.0</td>\n",
       "      <td>12.0</td>\n",
       "      <td>2017</td>\n",
       "    </tr>\n",
       "  </tbody>\n",
       "</table>\n",
       "</div>"
      ],
      "text/plain": [
       "   Alemão  Catalão  Eslovaco  Espanhol  Francês  Hebraico  Inglês  Italiano  \\\n",
       "0    56.0      0.0       0.0     616.0    186.0       4.0   764.0      94.0   \n",
       "\n",
       "   Japonês  Mandarim  Russo  Ano  \n",
       "0     12.0       3.0   12.0 2017  "
      ]
     },
     "execution_count": 53,
     "metadata": {},
     "output_type": "execute_result"
    }
   ],
   "source": [
    "dadosRJ_2017 = dados2017(dados_2017,'RJ')\n",
    "dadosRJ_2017"
   ]
  },
  {
   "cell_type": "markdown",
   "metadata": {},
   "source": [
    "<p><strong>Média da quantidade</strong> de <strong>Turistas</strong> que chegaram em <strong>RJ</strong></p>"
   ]
  },
  {
   "cell_type": "code",
   "execution_count": 54,
   "metadata": {},
   "outputs": [
    {
     "data": {
      "text/html": [
       "<div>\n",
       "<style scoped>\n",
       "    .dataframe tbody tr th:only-of-type {\n",
       "        vertical-align: middle;\n",
       "    }\n",
       "\n",
       "    .dataframe tbody tr th {\n",
       "        vertical-align: top;\n",
       "    }\n",
       "\n",
       "    .dataframe thead th {\n",
       "        text-align: right;\n",
       "    }\n",
       "</style>\n",
       "<table border=\"1\" class=\"dataframe\">\n",
       "  <thead>\n",
       "    <tr style=\"text-align: right;\">\n",
       "      <th></th>\n",
       "      <th>Chegadas</th>\n",
       "      <th>Ano</th>\n",
       "    </tr>\n",
       "  </thead>\n",
       "  <tbody>\n",
       "    <tr>\n",
       "      <th>0</th>\n",
       "      <td>452842.0</td>\n",
       "      <td>2017</td>\n",
       "    </tr>\n",
       "  </tbody>\n",
       "</table>\n",
       "</div>"
      ],
      "text/plain": [
       "   Chegadas  Ano\n",
       "0  452842.0 2017"
      ]
     },
     "execution_count": 54,
     "metadata": {},
     "output_type": "execute_result"
    }
   ],
   "source": [
    "chegadas2017RJ = ano(media(AnaliseChegadas(chegadas2017,'Rio de Janeiro')),'2017')\n",
    "chegadas2017RJ"
   ]
  },
  {
   "cell_type": "markdown",
   "metadata": {},
   "source": [
    "### Dataframe com os valores dos anos 2014-2017 | RJ"
   ]
  },
  {
   "cell_type": "code",
   "execution_count": 55,
   "metadata": {},
   "outputs": [
    {
     "name": "stderr",
     "output_type": "stream",
     "text": [
      "C:\\Users\\Usuário\\Anaconda3\\lib\\site-packages\\ipykernel_launcher.py:3: FutureWarning: Sorting because non-concatenation axis is not aligned. A future version\n",
      "of pandas will change to not sort by default.\n",
      "\n",
      "To accept the future behavior, pass 'sort=True'.\n",
      "\n",
      "To retain the current behavior and silence the warning, pass sort=False\n",
      "\n",
      "  This is separate from the ipykernel package so we can avoid doing imports until\n"
     ]
    },
    {
     "data": {
      "text/html": [
       "<div>\n",
       "<style scoped>\n",
       "    .dataframe tbody tr th:only-of-type {\n",
       "        vertical-align: middle;\n",
       "    }\n",
       "\n",
       "    .dataframe tbody tr th {\n",
       "        vertical-align: top;\n",
       "    }\n",
       "\n",
       "    .dataframe thead th {\n",
       "        text-align: right;\n",
       "    }\n",
       "</style>\n",
       "<table border=\"1\" class=\"dataframe\">\n",
       "  <thead>\n",
       "    <tr style=\"text-align: right;\">\n",
       "      <th></th>\n",
       "      <th>Alemão</th>\n",
       "      <th>Ano</th>\n",
       "      <th>Catalão</th>\n",
       "      <th>Dinamarquês</th>\n",
       "      <th>Eslovaco</th>\n",
       "      <th>Espanhol</th>\n",
       "      <th>Francês</th>\n",
       "      <th>Hebraico</th>\n",
       "      <th>Inglês</th>\n",
       "      <th>Italiano</th>\n",
       "      <th>Japonês</th>\n",
       "      <th>Mandarim</th>\n",
       "      <th>Russo</th>\n",
       "      <th>Sueco</th>\n",
       "    </tr>\n",
       "  </thead>\n",
       "  <tbody>\n",
       "    <tr>\n",
       "      <th>0</th>\n",
       "      <td>57.0</td>\n",
       "      <td>2014</td>\n",
       "      <td>NaN</td>\n",
       "      <td>0.0</td>\n",
       "      <td>NaN</td>\n",
       "      <td>450.0</td>\n",
       "      <td>146.0</td>\n",
       "      <td>3.0</td>\n",
       "      <td>564.0</td>\n",
       "      <td>79.0</td>\n",
       "      <td>6.0</td>\n",
       "      <td>1.0</td>\n",
       "      <td>9.0</td>\n",
       "      <td>0.0</td>\n",
       "    </tr>\n",
       "    <tr>\n",
       "      <th>0</th>\n",
       "      <td>52.0</td>\n",
       "      <td>2015</td>\n",
       "      <td>NaN</td>\n",
       "      <td>NaN</td>\n",
       "      <td>NaN</td>\n",
       "      <td>434.0</td>\n",
       "      <td>135.0</td>\n",
       "      <td>5.0</td>\n",
       "      <td>534.0</td>\n",
       "      <td>75.0</td>\n",
       "      <td>5.0</td>\n",
       "      <td>1.0</td>\n",
       "      <td>9.0</td>\n",
       "      <td>NaN</td>\n",
       "    </tr>\n",
       "    <tr>\n",
       "      <th>0</th>\n",
       "      <td>107.0</td>\n",
       "      <td>2016</td>\n",
       "      <td>0.0</td>\n",
       "      <td>NaN</td>\n",
       "      <td>0.0</td>\n",
       "      <td>952.0</td>\n",
       "      <td>301.0</td>\n",
       "      <td>9.0</td>\n",
       "      <td>1197.0</td>\n",
       "      <td>162.0</td>\n",
       "      <td>18.0</td>\n",
       "      <td>5.0</td>\n",
       "      <td>21.0</td>\n",
       "      <td>NaN</td>\n",
       "    </tr>\n",
       "    <tr>\n",
       "      <th>0</th>\n",
       "      <td>56.0</td>\n",
       "      <td>2017</td>\n",
       "      <td>0.0</td>\n",
       "      <td>NaN</td>\n",
       "      <td>0.0</td>\n",
       "      <td>616.0</td>\n",
       "      <td>186.0</td>\n",
       "      <td>4.0</td>\n",
       "      <td>764.0</td>\n",
       "      <td>94.0</td>\n",
       "      <td>12.0</td>\n",
       "      <td>3.0</td>\n",
       "      <td>12.0</td>\n",
       "      <td>NaN</td>\n",
       "    </tr>\n",
       "  </tbody>\n",
       "</table>\n",
       "</div>"
      ],
      "text/plain": [
       "   Alemão  Ano  Catalão  Dinamarquês  Eslovaco  Espanhol  Francês  Hebraico  \\\n",
       "0    57.0 2014      NaN          0.0       NaN     450.0    146.0       3.0   \n",
       "0    52.0 2015      NaN          NaN       NaN     434.0    135.0       5.0   \n",
       "0   107.0 2016      0.0          NaN       0.0     952.0    301.0       9.0   \n",
       "0    56.0 2017      0.0          NaN       0.0     616.0    186.0       4.0   \n",
       "\n",
       "   Inglês  Italiano  Japonês  Mandarim  Russo  Sueco  \n",
       "0   564.0      79.0      6.0       1.0    9.0    0.0  \n",
       "0   534.0      75.0      5.0       1.0    9.0    NaN  \n",
       "0  1197.0     162.0     18.0       5.0   21.0    NaN  \n",
       "0   764.0      94.0     12.0       3.0   12.0    NaN  "
      ]
     },
     "execution_count": 55,
     "metadata": {},
     "output_type": "execute_result"
    }
   ],
   "source": [
    "dados_Hospedagens_RJ = Dados(dadosRJ_2014,dadosRJ_2015,dadosRJ_2016,dadosRJ_2017)\n",
    "dados_Hospedagens_RJ"
   ]
  },
  {
   "cell_type": "code",
   "execution_count": 56,
   "metadata": {},
   "outputs": [
    {
     "data": {
      "text/html": [
       "<div>\n",
       "<style scoped>\n",
       "    .dataframe tbody tr th:only-of-type {\n",
       "        vertical-align: middle;\n",
       "    }\n",
       "\n",
       "    .dataframe tbody tr th {\n",
       "        vertical-align: top;\n",
       "    }\n",
       "\n",
       "    .dataframe thead th {\n",
       "        text-align: right;\n",
       "    }\n",
       "</style>\n",
       "<table border=\"1\" class=\"dataframe\">\n",
       "  <thead>\n",
       "    <tr style=\"text-align: right;\">\n",
       "      <th></th>\n",
       "      <th>Chegadas</th>\n",
       "      <th>Ano</th>\n",
       "    </tr>\n",
       "  </thead>\n",
       "  <tbody>\n",
       "    <tr>\n",
       "      <th>0</th>\n",
       "      <td>284795.0</td>\n",
       "      <td>2014</td>\n",
       "    </tr>\n",
       "    <tr>\n",
       "      <th>0</th>\n",
       "      <td>342765.0</td>\n",
       "      <td>2015</td>\n",
       "    </tr>\n",
       "    <tr>\n",
       "      <th>0</th>\n",
       "      <td>377677.0</td>\n",
       "      <td>2016</td>\n",
       "    </tr>\n",
       "    <tr>\n",
       "      <th>0</th>\n",
       "      <td>452842.0</td>\n",
       "      <td>2017</td>\n",
       "    </tr>\n",
       "  </tbody>\n",
       "</table>\n",
       "</div>"
      ],
      "text/plain": [
       "   Chegadas  Ano\n",
       "0  284795.0 2014\n",
       "0  342765.0 2015\n",
       "0  377677.0 2016\n",
       "0  452842.0 2017"
      ]
     },
     "execution_count": 56,
     "metadata": {},
     "output_type": "execute_result"
    }
   ],
   "source": [
    "dados_Chegadas_RJ = Dados(chegadas2014RJ,chegadas2015RJ,chegadas2016RJ,chegadas2017RJ)\n",
    "dados_Chegadas_RJ"
   ]
  },
  {
   "cell_type": "code",
   "execution_count": 57,
   "metadata": {},
   "outputs": [
    {
     "data": {
      "text/html": [
       "<div>\n",
       "<style scoped>\n",
       "    .dataframe tbody tr th:only-of-type {\n",
       "        vertical-align: middle;\n",
       "    }\n",
       "\n",
       "    .dataframe tbody tr th {\n",
       "        vertical-align: top;\n",
       "    }\n",
       "\n",
       "    .dataframe thead th {\n",
       "        text-align: right;\n",
       "    }\n",
       "</style>\n",
       "<table border=\"1\" class=\"dataframe\">\n",
       "  <thead>\n",
       "    <tr style=\"text-align: right;\">\n",
       "      <th></th>\n",
       "      <th>Alemão</th>\n",
       "      <th>Ano</th>\n",
       "      <th>Catalão</th>\n",
       "      <th>Dinamarquês</th>\n",
       "      <th>Eslovaco</th>\n",
       "      <th>Espanhol</th>\n",
       "      <th>Francês</th>\n",
       "      <th>Hebraico</th>\n",
       "      <th>Inglês</th>\n",
       "      <th>Italiano</th>\n",
       "      <th>Japonês</th>\n",
       "      <th>Mandarim</th>\n",
       "      <th>Russo</th>\n",
       "      <th>Sueco</th>\n",
       "      <th>Chegadas_Argentina</th>\n",
       "    </tr>\n",
       "  </thead>\n",
       "  <tbody>\n",
       "    <tr>\n",
       "      <th>0</th>\n",
       "      <td>57.0</td>\n",
       "      <td>2014</td>\n",
       "      <td>NaN</td>\n",
       "      <td>0.0</td>\n",
       "      <td>NaN</td>\n",
       "      <td>450.0</td>\n",
       "      <td>146.0</td>\n",
       "      <td>3.0</td>\n",
       "      <td>564.0</td>\n",
       "      <td>79.0</td>\n",
       "      <td>6.0</td>\n",
       "      <td>1.0</td>\n",
       "      <td>9.0</td>\n",
       "      <td>0.0</td>\n",
       "      <td>284795.0</td>\n",
       "    </tr>\n",
       "    <tr>\n",
       "      <th>1</th>\n",
       "      <td>52.0</td>\n",
       "      <td>2015</td>\n",
       "      <td>NaN</td>\n",
       "      <td>NaN</td>\n",
       "      <td>NaN</td>\n",
       "      <td>434.0</td>\n",
       "      <td>135.0</td>\n",
       "      <td>5.0</td>\n",
       "      <td>534.0</td>\n",
       "      <td>75.0</td>\n",
       "      <td>5.0</td>\n",
       "      <td>1.0</td>\n",
       "      <td>9.0</td>\n",
       "      <td>NaN</td>\n",
       "      <td>342765.0</td>\n",
       "    </tr>\n",
       "    <tr>\n",
       "      <th>2</th>\n",
       "      <td>107.0</td>\n",
       "      <td>2016</td>\n",
       "      <td>0.0</td>\n",
       "      <td>NaN</td>\n",
       "      <td>0.0</td>\n",
       "      <td>952.0</td>\n",
       "      <td>301.0</td>\n",
       "      <td>9.0</td>\n",
       "      <td>1197.0</td>\n",
       "      <td>162.0</td>\n",
       "      <td>18.0</td>\n",
       "      <td>5.0</td>\n",
       "      <td>21.0</td>\n",
       "      <td>NaN</td>\n",
       "      <td>377677.0</td>\n",
       "    </tr>\n",
       "    <tr>\n",
       "      <th>3</th>\n",
       "      <td>56.0</td>\n",
       "      <td>2017</td>\n",
       "      <td>0.0</td>\n",
       "      <td>NaN</td>\n",
       "      <td>0.0</td>\n",
       "      <td>616.0</td>\n",
       "      <td>186.0</td>\n",
       "      <td>4.0</td>\n",
       "      <td>764.0</td>\n",
       "      <td>94.0</td>\n",
       "      <td>12.0</td>\n",
       "      <td>3.0</td>\n",
       "      <td>12.0</td>\n",
       "      <td>NaN</td>\n",
       "      <td>452842.0</td>\n",
       "    </tr>\n",
       "  </tbody>\n",
       "</table>\n",
       "</div>"
      ],
      "text/plain": [
       "   Alemão  Ano  Catalão  Dinamarquês  Eslovaco  Espanhol  Francês  Hebraico  \\\n",
       "0    57.0 2014      NaN          0.0       NaN     450.0    146.0       3.0   \n",
       "1    52.0 2015      NaN          NaN       NaN     434.0    135.0       5.0   \n",
       "2   107.0 2016      0.0          NaN       0.0     952.0    301.0       9.0   \n",
       "3    56.0 2017      0.0          NaN       0.0     616.0    186.0       4.0   \n",
       "\n",
       "   Inglês  Italiano  Japonês  Mandarim  Russo  Sueco  Chegadas_Argentina  \n",
       "0   564.0      79.0      6.0       1.0    9.0    0.0            284795.0  \n",
       "1   534.0      75.0      5.0       1.0    9.0    NaN            342765.0  \n",
       "2  1197.0     162.0     18.0       5.0   21.0    NaN            377677.0  \n",
       "3   764.0      94.0     12.0       3.0   12.0    NaN            452842.0  "
      ]
     },
     "execution_count": 57,
     "metadata": {},
     "output_type": "execute_result"
    }
   ],
   "source": [
    "dadosRJ = pd.merge(dados_Hospedagens_RJ,dados_Chegadas_RJ,how='outer')\n",
    "dadosRJ.rename(columns={'Chegadas': 'Chegadas_Argentina'}, inplace=True)\n",
    "dadosRJ"
   ]
  },
  {
   "cell_type": "code",
   "execution_count": 58,
   "metadata": {},
   "outputs": [
    {
     "data": {
      "text/plain": [
       "<matplotlib.axes._subplots.AxesSubplot at 0x284afa210f0>"
      ]
     },
     "execution_count": 58,
     "metadata": {},
     "output_type": "execute_result"
    },
    {
     "data": {
      "image/png": "[encoded data removed]",
      "text/plain": [
       "<Figure size 432x288 with 1 Axes>"
      ]
     },
     "metadata": {},
     "output_type": "display_data"
    }
   ],
   "source": [
    "dadosRJ.groupby(dadosRJ.Ano.dt.year).Espanhol.mean().plot()"
   ]
  },
  {
   "cell_type": "code",
   "execution_count": 59,
   "metadata": {},
   "outputs": [
    {
     "data": {
      "text/plain": [
       "<matplotlib.axes._subplots.AxesSubplot at 0x284af020dd8>"
      ]
     },
     "execution_count": 59,
     "metadata": {},
     "output_type": "execute_result"
    },
    {
     "data": {
      "image/png": "[encoded data removed]",
      "text/plain": [
       "<Figure size 432x288 with 1 Axes>"
      ]
     },
     "metadata": {},
     "output_type": "display_data"
    }
   ],
   "source": [
    "dadosRJ.groupby(dadosRJ.Ano.dt.year).Chegadas_Argentina.mean().plot()"
   ]
  },
  {
   "cell_type": "markdown",
   "metadata": {},
   "source": [
    "## Análise dos Dados São Paulo"
   ]
  },
  {
   "cell_type": "markdown",
   "metadata": {},
   "source": [
    "## 2014\n",
    "<p><strong>Quantidade</strong> de <strong>Hospedagens</strong> que oferecem <strong>X idioma estrangeiro</strong> em <strong>SP</strong></p>"
   ]
  },
  {
   "cell_type": "code",
   "execution_count": 60,
   "metadata": {},
   "outputs": [
    {
     "data": {
      "text/html": [
       "<div>\n",
       "<style scoped>\n",
       "    .dataframe tbody tr th:only-of-type {\n",
       "        vertical-align: middle;\n",
       "    }\n",
       "\n",
       "    .dataframe tbody tr th {\n",
       "        vertical-align: top;\n",
       "    }\n",
       "\n",
       "    .dataframe thead th {\n",
       "        text-align: right;\n",
       "    }\n",
       "</style>\n",
       "<table border=\"1\" class=\"dataframe\">\n",
       "  <thead>\n",
       "    <tr style=\"text-align: right;\">\n",
       "      <th></th>\n",
       "      <th>Alemão</th>\n",
       "      <th>Dinamarquês</th>\n",
       "      <th>Espanhol</th>\n",
       "      <th>Francês</th>\n",
       "      <th>Hebraico</th>\n",
       "      <th>Inglês</th>\n",
       "      <th>Italiano</th>\n",
       "      <th>Japonês</th>\n",
       "      <th>Mandarim</th>\n",
       "      <th>Russo</th>\n",
       "      <th>Sueco</th>\n",
       "      <th>Ano</th>\n",
       "    </tr>\n",
       "  </thead>\n",
       "  <tbody>\n",
       "    <tr>\n",
       "      <th>0</th>\n",
       "      <td>33.0</td>\n",
       "      <td>0.0</td>\n",
       "      <td>453.0</td>\n",
       "      <td>70.0</td>\n",
       "      <td>3.0</td>\n",
       "      <td>648.0</td>\n",
       "      <td>52.0</td>\n",
       "      <td>41.0</td>\n",
       "      <td>4.0</td>\n",
       "      <td>4.0</td>\n",
       "      <td>0.0</td>\n",
       "      <td>2014</td>\n",
       "    </tr>\n",
       "  </tbody>\n",
       "</table>\n",
       "</div>"
      ],
      "text/plain": [
       "   Alemão  Dinamarquês  Espanhol  Francês  Hebraico  Inglês  Italiano  \\\n",
       "0    33.0          0.0     453.0     70.0       3.0   648.0      52.0   \n",
       "\n",
       "   Japonês  Mandarim  Russo  Sueco  Ano  \n",
       "0     41.0       4.0    4.0    0.0 2014  "
      ]
     },
     "execution_count": 60,
     "metadata": {},
     "output_type": "execute_result"
    }
   ],
   "source": [
    "dadosSP_2014 = dados2014(dados_2014,'SP')\n",
    "dadosSP_2014"
   ]
  },
  {
   "cell_type": "markdown",
   "metadata": {},
   "source": [
    "<p><strong>Média da quantidade</strong> de <strong>Turistas</strong> que chegaram em <strong>SP</strong></p>"
   ]
  },
  {
   "cell_type": "code",
   "execution_count": 61,
   "metadata": {},
   "outputs": [
    {
     "data": {
      "text/html": [
       "<div>\n",
       "<style scoped>\n",
       "    .dataframe tbody tr th:only-of-type {\n",
       "        vertical-align: middle;\n",
       "    }\n",
       "\n",
       "    .dataframe tbody tr th {\n",
       "        vertical-align: top;\n",
       "    }\n",
       "\n",
       "    .dataframe thead th {\n",
       "        text-align: right;\n",
       "    }\n",
       "</style>\n",
       "<table border=\"1\" class=\"dataframe\">\n",
       "  <thead>\n",
       "    <tr style=\"text-align: right;\">\n",
       "      <th></th>\n",
       "      <th>Chegadas</th>\n",
       "      <th>Ano</th>\n",
       "    </tr>\n",
       "  </thead>\n",
       "  <tbody>\n",
       "    <tr>\n",
       "      <th>0</th>\n",
       "      <td>339756.0</td>\n",
       "      <td>2014</td>\n",
       "    </tr>\n",
       "  </tbody>\n",
       "</table>\n",
       "</div>"
      ],
      "text/plain": [
       "   Chegadas  Ano\n",
       "0  339756.0 2014"
      ]
     },
     "execution_count": 61,
     "metadata": {},
     "output_type": "execute_result"
    }
   ],
   "source": [
    "chegadas2014SP = ano(media(AnaliseChegadas(chegadas2014,'São Paulo')),'2014')\n",
    "chegadas2014SP"
   ]
  },
  {
   "cell_type": "markdown",
   "metadata": {},
   "source": [
    "## 2015\n",
    "<p><strong>Quantidade</strong> de <strong>Hospedagens</strong> que oferecem <strong>X idioma estrangeiro</strong> em <strong>SP</strong></p>"
   ]
  },
  {
   "cell_type": "code",
   "execution_count": 62,
   "metadata": {},
   "outputs": [
    {
     "data": {
      "text/html": [
       "<div>\n",
       "<style scoped>\n",
       "    .dataframe tbody tr th:only-of-type {\n",
       "        vertical-align: middle;\n",
       "    }\n",
       "\n",
       "    .dataframe tbody tr th {\n",
       "        vertical-align: top;\n",
       "    }\n",
       "\n",
       "    .dataframe thead th {\n",
       "        text-align: right;\n",
       "    }\n",
       "</style>\n",
       "<table border=\"1\" class=\"dataframe\">\n",
       "  <thead>\n",
       "    <tr style=\"text-align: right;\">\n",
       "      <th></th>\n",
       "      <th>Alemão</th>\n",
       "      <th>Espanhol</th>\n",
       "      <th>Francês</th>\n",
       "      <th>Hebraico</th>\n",
       "      <th>Inglês</th>\n",
       "      <th>Italiano</th>\n",
       "      <th>Japonês</th>\n",
       "      <th>Mandarim</th>\n",
       "      <th>Russo</th>\n",
       "      <th>Ano</th>\n",
       "    </tr>\n",
       "  </thead>\n",
       "  <tbody>\n",
       "    <tr>\n",
       "      <th>0</th>\n",
       "      <td>29.0</td>\n",
       "      <td>476.0</td>\n",
       "      <td>78.0</td>\n",
       "      <td>2.0</td>\n",
       "      <td>687.0</td>\n",
       "      <td>50.0</td>\n",
       "      <td>39.0</td>\n",
       "      <td>5.0</td>\n",
       "      <td>6.0</td>\n",
       "      <td>2015</td>\n",
       "    </tr>\n",
       "  </tbody>\n",
       "</table>\n",
       "</div>"
      ],
      "text/plain": [
       "   Alemão  Espanhol  Francês  Hebraico  Inglês  Italiano  Japonês  Mandarim  \\\n",
       "0    29.0     476.0     78.0       2.0   687.0      50.0     39.0       5.0   \n",
       "\n",
       "   Russo  Ano  \n",
       "0    6.0 2015  "
      ]
     },
     "execution_count": 62,
     "metadata": {},
     "output_type": "execute_result"
    }
   ],
   "source": [
    "dadosSP_2015 = dados2015(dados_2015,'SP')\n",
    "dadosSP_2015"
   ]
  },
  {
   "cell_type": "markdown",
   "metadata": {},
   "source": [
    "<p><strong>Média da quantidade</strong> de <strong>Turistas</strong> que chegaram em <strong>SP</strong></p>"
   ]
  },
  {
   "cell_type": "code",
   "execution_count": 63,
   "metadata": {},
   "outputs": [
    {
     "data": {
      "text/html": [
       "<div>\n",
       "<style scoped>\n",
       "    .dataframe tbody tr th:only-of-type {\n",
       "        vertical-align: middle;\n",
       "    }\n",
       "\n",
       "    .dataframe tbody tr th {\n",
       "        vertical-align: top;\n",
       "    }\n",
       "\n",
       "    .dataframe thead th {\n",
       "        text-align: right;\n",
       "    }\n",
       "</style>\n",
       "<table border=\"1\" class=\"dataframe\">\n",
       "  <thead>\n",
       "    <tr style=\"text-align: right;\">\n",
       "      <th></th>\n",
       "      <th>Chegadas</th>\n",
       "      <th>Ano</th>\n",
       "    </tr>\n",
       "  </thead>\n",
       "  <tbody>\n",
       "    <tr>\n",
       "      <th>0</th>\n",
       "      <td>376133.0</td>\n",
       "      <td>2015</td>\n",
       "    </tr>\n",
       "  </tbody>\n",
       "</table>\n",
       "</div>"
      ],
      "text/plain": [
       "   Chegadas  Ano\n",
       "0  376133.0 2015"
      ]
     },
     "execution_count": 63,
     "metadata": {},
     "output_type": "execute_result"
    }
   ],
   "source": [
    "chegadas2015SP = ano(media(AnaliseChegadas(chegadas2015,'São Paulo')),'2015')\n",
    "chegadas2015SP"
   ]
  },
  {
   "cell_type": "markdown",
   "metadata": {},
   "source": [
    "## 2016\n",
    "<p><strong>Quantidade</strong> de <strong>Hospedagens</strong> que oferecem <strong>X idioma estrangeiro</strong> em <strong>SP</strong></p>"
   ]
  },
  {
   "cell_type": "code",
   "execution_count": 64,
   "metadata": {},
   "outputs": [
    {
     "data": {
      "text/html": [
       "<div>\n",
       "<style scoped>\n",
       "    .dataframe tbody tr th:only-of-type {\n",
       "        vertical-align: middle;\n",
       "    }\n",
       "\n",
       "    .dataframe tbody tr th {\n",
       "        vertical-align: top;\n",
       "    }\n",
       "\n",
       "    .dataframe thead th {\n",
       "        text-align: right;\n",
       "    }\n",
       "</style>\n",
       "<table border=\"1\" class=\"dataframe\">\n",
       "  <thead>\n",
       "    <tr style=\"text-align: right;\">\n",
       "      <th></th>\n",
       "      <th>Alemão</th>\n",
       "      <th>Catalão</th>\n",
       "      <th>Eslovaco</th>\n",
       "      <th>Espanhol</th>\n",
       "      <th>Francês</th>\n",
       "      <th>Hebraico</th>\n",
       "      <th>Inglês</th>\n",
       "      <th>Italiano</th>\n",
       "      <th>Japonês</th>\n",
       "      <th>Mandarim</th>\n",
       "      <th>Russo</th>\n",
       "      <th>Ano</th>\n",
       "    </tr>\n",
       "  </thead>\n",
       "  <tbody>\n",
       "    <tr>\n",
       "      <th>0</th>\n",
       "      <td>63.0</td>\n",
       "      <td>0.0</td>\n",
       "      <td>0.0</td>\n",
       "      <td>1027.0</td>\n",
       "      <td>165.0</td>\n",
       "      <td>4.0</td>\n",
       "      <td>1478.0</td>\n",
       "      <td>119.0</td>\n",
       "      <td>87.0</td>\n",
       "      <td>9.0</td>\n",
       "      <td>11.0</td>\n",
       "      <td>2016</td>\n",
       "    </tr>\n",
       "  </tbody>\n",
       "</table>\n",
       "</div>"
      ],
      "text/plain": [
       "   Alemão  Catalão  Eslovaco  Espanhol  Francês  Hebraico  Inglês  Italiano  \\\n",
       "0    63.0      0.0       0.0    1027.0    165.0       4.0  1478.0     119.0   \n",
       "\n",
       "   Japonês  Mandarim  Russo  Ano  \n",
       "0     87.0       9.0   11.0 2016  "
      ]
     },
     "execution_count": 64,
     "metadata": {},
     "output_type": "execute_result"
    }
   ],
   "source": [
    "dadosSP_2016 = dados2016(dados_2016,'SP')\n",
    "dadosSP_2016"
   ]
  },
  {
   "cell_type": "markdown",
   "metadata": {},
   "source": [
    "<p><strong>Média da quantidade</strong> de <strong>Turistas</strong> que chegaram em <strong>SP</strong></p>"
   ]
  },
  {
   "cell_type": "code",
   "execution_count": 65,
   "metadata": {},
   "outputs": [
    {
     "data": {
      "text/html": [
       "<div>\n",
       "<style scoped>\n",
       "    .dataframe tbody tr th:only-of-type {\n",
       "        vertical-align: middle;\n",
       "    }\n",
       "\n",
       "    .dataframe tbody tr th {\n",
       "        vertical-align: top;\n",
       "    }\n",
       "\n",
       "    .dataframe thead th {\n",
       "        text-align: right;\n",
       "    }\n",
       "</style>\n",
       "<table border=\"1\" class=\"dataframe\">\n",
       "  <thead>\n",
       "    <tr style=\"text-align: right;\">\n",
       "      <th></th>\n",
       "      <th>Chegadas</th>\n",
       "      <th>Ano</th>\n",
       "    </tr>\n",
       "  </thead>\n",
       "  <tbody>\n",
       "    <tr>\n",
       "      <th>0</th>\n",
       "      <td>399092.0</td>\n",
       "      <td>2016</td>\n",
       "    </tr>\n",
       "  </tbody>\n",
       "</table>\n",
       "</div>"
      ],
      "text/plain": [
       "   Chegadas  Ano\n",
       "0  399092.0 2016"
      ]
     },
     "execution_count": 65,
     "metadata": {},
     "output_type": "execute_result"
    }
   ],
   "source": [
    "chegadas2016SP = ano(media(AnaliseChegadas(chegadas2016,'São Paulo')),'2016')\n",
    "chegadas2016SP"
   ]
  },
  {
   "cell_type": "markdown",
   "metadata": {},
   "source": [
    "## 2017\n",
    "<p><strong>Quantidade</strong> de <strong>Hospedagens</strong> que oferecem <strong>X idioma estrangeiro</strong> em <strong>SP</strong></p>"
   ]
  },
  {
   "cell_type": "code",
   "execution_count": 66,
   "metadata": {},
   "outputs": [
    {
     "data": {
      "text/html": [
       "<div>\n",
       "<style scoped>\n",
       "    .dataframe tbody tr th:only-of-type {\n",
       "        vertical-align: middle;\n",
       "    }\n",
       "\n",
       "    .dataframe tbody tr th {\n",
       "        vertical-align: top;\n",
       "    }\n",
       "\n",
       "    .dataframe thead th {\n",
       "        text-align: right;\n",
       "    }\n",
       "</style>\n",
       "<table border=\"1\" class=\"dataframe\">\n",
       "  <thead>\n",
       "    <tr style=\"text-align: right;\">\n",
       "      <th></th>\n",
       "      <th>Alemão</th>\n",
       "      <th>Catalão</th>\n",
       "      <th>Eslovaco</th>\n",
       "      <th>Espanhol</th>\n",
       "      <th>Francês</th>\n",
       "      <th>Hebraico</th>\n",
       "      <th>Inglês</th>\n",
       "      <th>Italiano</th>\n",
       "      <th>Japonês</th>\n",
       "      <th>Mandarim</th>\n",
       "      <th>Russo</th>\n",
       "      <th>Ano</th>\n",
       "    </tr>\n",
       "  </thead>\n",
       "  <tbody>\n",
       "    <tr>\n",
       "      <th>0</th>\n",
       "      <td>42.0</td>\n",
       "      <td>0.0</td>\n",
       "      <td>0.0</td>\n",
       "      <td>620.0</td>\n",
       "      <td>99.0</td>\n",
       "      <td>3.0</td>\n",
       "      <td>891.0</td>\n",
       "      <td>76.0</td>\n",
       "      <td>48.0</td>\n",
       "      <td>4.0</td>\n",
       "      <td>8.0</td>\n",
       "      <td>2017</td>\n",
       "    </tr>\n",
       "  </tbody>\n",
       "</table>\n",
       "</div>"
      ],
      "text/plain": [
       "   Alemão  Catalão  Eslovaco  Espanhol  Francês  Hebraico  Inglês  Italiano  \\\n",
       "0    42.0      0.0       0.0     620.0     99.0       3.0   891.0      76.0   \n",
       "\n",
       "   Japonês  Mandarim  Russo  Ano  \n",
       "0     48.0       4.0    8.0 2017  "
      ]
     },
     "execution_count": 66,
     "metadata": {},
     "output_type": "execute_result"
    }
   ],
   "source": [
    "dadosSP_2017 = dados2017(dados_2017,'SP')\n",
    "dadosSP_2017"
   ]
  },
  {
   "cell_type": "markdown",
   "metadata": {},
   "source": [
    "<p><strong>Média da quantidade</strong> de <strong>Turistas</strong> que chegaram em <strong>SP</strong></p>"
   ]
  },
  {
   "cell_type": "code",
   "execution_count": 67,
   "metadata": {},
   "outputs": [
    {
     "data": {
      "text/html": [
       "<div>\n",
       "<style scoped>\n",
       "    .dataframe tbody tr th:only-of-type {\n",
       "        vertical-align: middle;\n",
       "    }\n",
       "\n",
       "    .dataframe tbody tr th {\n",
       "        vertical-align: top;\n",
       "    }\n",
       "\n",
       "    .dataframe thead th {\n",
       "        text-align: right;\n",
       "    }\n",
       "</style>\n",
       "<table border=\"1\" class=\"dataframe\">\n",
       "  <thead>\n",
       "    <tr style=\"text-align: right;\">\n",
       "      <th></th>\n",
       "      <th>Chegadas</th>\n",
       "      <th>Ano</th>\n",
       "    </tr>\n",
       "  </thead>\n",
       "  <tbody>\n",
       "    <tr>\n",
       "      <th>0</th>\n",
       "      <td>398926.0</td>\n",
       "      <td>2017</td>\n",
       "    </tr>\n",
       "  </tbody>\n",
       "</table>\n",
       "</div>"
      ],
      "text/plain": [
       "   Chegadas  Ano\n",
       "0  398926.0 2017"
      ]
     },
     "execution_count": 67,
     "metadata": {},
     "output_type": "execute_result"
    }
   ],
   "source": [
    "chegadas2017SP = ano(media(AnaliseChegadas(chegadas2017,'São Paulo')),'2017')\n",
    "chegadas2017SP"
   ]
  },
  {
   "cell_type": "markdown",
   "metadata": {},
   "source": [
    "### Dataframe com os valores dos anos 2014-2017 | SP"
   ]
  },
  {
   "cell_type": "code",
   "execution_count": 68,
   "metadata": {},
   "outputs": [
    {
     "name": "stderr",
     "output_type": "stream",
     "text": [
      "C:\\Users\\Usuário\\Anaconda3\\lib\\site-packages\\ipykernel_launcher.py:3: FutureWarning: Sorting because non-concatenation axis is not aligned. A future version\n",
      "of pandas will change to not sort by default.\n",
      "\n",
      "To accept the future behavior, pass 'sort=True'.\n",
      "\n",
      "To retain the current behavior and silence the warning, pass sort=False\n",
      "\n",
      "  This is separate from the ipykernel package so we can avoid doing imports until\n"
     ]
    },
    {
     "data": {
      "text/html": [
       "<div>\n",
       "<style scoped>\n",
       "    .dataframe tbody tr th:only-of-type {\n",
       "        vertical-align: middle;\n",
       "    }\n",
       "\n",
       "    .dataframe tbody tr th {\n",
       "        vertical-align: top;\n",
       "    }\n",
       "\n",
       "    .dataframe thead th {\n",
       "        text-align: right;\n",
       "    }\n",
       "</style>\n",
       "<table border=\"1\" class=\"dataframe\">\n",
       "  <thead>\n",
       "    <tr style=\"text-align: right;\">\n",
       "      <th></th>\n",
       "      <th>Alemão</th>\n",
       "      <th>Ano</th>\n",
       "      <th>Catalão</th>\n",
       "      <th>Dinamarquês</th>\n",
       "      <th>Eslovaco</th>\n",
       "      <th>Espanhol</th>\n",
       "      <th>Francês</th>\n",
       "      <th>Hebraico</th>\n",
       "      <th>Inglês</th>\n",
       "      <th>Italiano</th>\n",
       "      <th>Japonês</th>\n",
       "      <th>Mandarim</th>\n",
       "      <th>Russo</th>\n",
       "      <th>Sueco</th>\n",
       "    </tr>\n",
       "  </thead>\n",
       "  <tbody>\n",
       "    <tr>\n",
       "      <th>0</th>\n",
       "      <td>33.0</td>\n",
       "      <td>2014</td>\n",
       "      <td>NaN</td>\n",
       "      <td>0.0</td>\n",
       "      <td>NaN</td>\n",
       "      <td>453.0</td>\n",
       "      <td>70.0</td>\n",
       "      <td>3.0</td>\n",
       "      <td>648.0</td>\n",
       "      <td>52.0</td>\n",
       "      <td>41.0</td>\n",
       "      <td>4.0</td>\n",
       "      <td>4.0</td>\n",
       "      <td>0.0</td>\n",
       "    </tr>\n",
       "    <tr>\n",
       "      <th>0</th>\n",
       "      <td>29.0</td>\n",
       "      <td>2015</td>\n",
       "      <td>NaN</td>\n",
       "      <td>NaN</td>\n",
       "      <td>NaN</td>\n",
       "      <td>476.0</td>\n",
       "      <td>78.0</td>\n",
       "      <td>2.0</td>\n",
       "      <td>687.0</td>\n",
       "      <td>50.0</td>\n",
       "      <td>39.0</td>\n",
       "      <td>5.0</td>\n",
       "      <td>6.0</td>\n",
       "      <td>NaN</td>\n",
       "    </tr>\n",
       "    <tr>\n",
       "      <th>0</th>\n",
       "      <td>63.0</td>\n",
       "      <td>2016</td>\n",
       "      <td>0.0</td>\n",
       "      <td>NaN</td>\n",
       "      <td>0.0</td>\n",
       "      <td>1027.0</td>\n",
       "      <td>165.0</td>\n",
       "      <td>4.0</td>\n",
       "      <td>1478.0</td>\n",
       "      <td>119.0</td>\n",
       "      <td>87.0</td>\n",
       "      <td>9.0</td>\n",
       "      <td>11.0</td>\n",
       "      <td>NaN</td>\n",
       "    </tr>\n",
       "    <tr>\n",
       "      <th>0</th>\n",
       "      <td>42.0</td>\n",
       "      <td>2017</td>\n",
       "      <td>0.0</td>\n",
       "      <td>NaN</td>\n",
       "      <td>0.0</td>\n",
       "      <td>620.0</td>\n",
       "      <td>99.0</td>\n",
       "      <td>3.0</td>\n",
       "      <td>891.0</td>\n",
       "      <td>76.0</td>\n",
       "      <td>48.0</td>\n",
       "      <td>4.0</td>\n",
       "      <td>8.0</td>\n",
       "      <td>NaN</td>\n",
       "    </tr>\n",
       "  </tbody>\n",
       "</table>\n",
       "</div>"
      ],
      "text/plain": [
       "   Alemão  Ano  Catalão  Dinamarquês  Eslovaco  Espanhol  Francês  Hebraico  \\\n",
       "0    33.0 2014      NaN          0.0       NaN     453.0     70.0       3.0   \n",
       "0    29.0 2015      NaN          NaN       NaN     476.0     78.0       2.0   \n",
       "0    63.0 2016      0.0          NaN       0.0    1027.0    165.0       4.0   \n",
       "0    42.0 2017      0.0          NaN       0.0     620.0     99.0       3.0   \n",
       "\n",
       "   Inglês  Italiano  Japonês  Mandarim  Russo  Sueco  \n",
       "0   648.0      52.0     41.0       4.0    4.0    0.0  \n",
       "0   687.0      50.0     39.0       5.0    6.0    NaN  \n",
       "0  1478.0     119.0     87.0       9.0   11.0    NaN  \n",
       "0   891.0      76.0     48.0       4.0    8.0    NaN  "
      ]
     },
     "execution_count": 68,
     "metadata": {},
     "output_type": "execute_result"
    }
   ],
   "source": [
    "dados_Hospedagens_SP = Dados(dadosSP_2014,dadosSP_2015,dadosSP_2016,dadosSP_2017)\n",
    "dados_Hospedagens_SP"
   ]
  },
  {
   "cell_type": "code",
   "execution_count": 69,
   "metadata": {},
   "outputs": [
    {
     "data": {
      "text/html": [
       "<div>\n",
       "<style scoped>\n",
       "    .dataframe tbody tr th:only-of-type {\n",
       "        vertical-align: middle;\n",
       "    }\n",
       "\n",
       "    .dataframe tbody tr th {\n",
       "        vertical-align: top;\n",
       "    }\n",
       "\n",
       "    .dataframe thead th {\n",
       "        text-align: right;\n",
       "    }\n",
       "</style>\n",
       "<table border=\"1\" class=\"dataframe\">\n",
       "  <thead>\n",
       "    <tr style=\"text-align: right;\">\n",
       "      <th></th>\n",
       "      <th>Chegadas</th>\n",
       "      <th>Ano</th>\n",
       "    </tr>\n",
       "  </thead>\n",
       "  <tbody>\n",
       "    <tr>\n",
       "      <th>0</th>\n",
       "      <td>339756.0</td>\n",
       "      <td>2014</td>\n",
       "    </tr>\n",
       "    <tr>\n",
       "      <th>0</th>\n",
       "      <td>376133.0</td>\n",
       "      <td>2015</td>\n",
       "    </tr>\n",
       "    <tr>\n",
       "      <th>0</th>\n",
       "      <td>399092.0</td>\n",
       "      <td>2016</td>\n",
       "    </tr>\n",
       "    <tr>\n",
       "      <th>0</th>\n",
       "      <td>398926.0</td>\n",
       "      <td>2017</td>\n",
       "    </tr>\n",
       "  </tbody>\n",
       "</table>\n",
       "</div>"
      ],
      "text/plain": [
       "   Chegadas  Ano\n",
       "0  339756.0 2014\n",
       "0  376133.0 2015\n",
       "0  399092.0 2016\n",
       "0  398926.0 2017"
      ]
     },
     "execution_count": 69,
     "metadata": {},
     "output_type": "execute_result"
    }
   ],
   "source": [
    "dados_Chegadas_SP = Dados(chegadas2014SP,chegadas2015SP,chegadas2016SP,chegadas2017SP)\n",
    "dados_Chegadas_SP"
   ]
  },
  {
   "cell_type": "code",
   "execution_count": 70,
   "metadata": {},
   "outputs": [
    {
     "data": {
      "text/html": [
       "<div>\n",
       "<style scoped>\n",
       "    .dataframe tbody tr th:only-of-type {\n",
       "        vertical-align: middle;\n",
       "    }\n",
       "\n",
       "    .dataframe tbody tr th {\n",
       "        vertical-align: top;\n",
       "    }\n",
       "\n",
       "    .dataframe thead th {\n",
       "        text-align: right;\n",
       "    }\n",
       "</style>\n",
       "<table border=\"1\" class=\"dataframe\">\n",
       "  <thead>\n",
       "    <tr style=\"text-align: right;\">\n",
       "      <th></th>\n",
       "      <th>Alemão</th>\n",
       "      <th>Ano</th>\n",
       "      <th>Catalão</th>\n",
       "      <th>Dinamarquês</th>\n",
       "      <th>Eslovaco</th>\n",
       "      <th>Espanhol</th>\n",
       "      <th>Francês</th>\n",
       "      <th>Hebraico</th>\n",
       "      <th>Inglês</th>\n",
       "      <th>Italiano</th>\n",
       "      <th>Japonês</th>\n",
       "      <th>Mandarim</th>\n",
       "      <th>Russo</th>\n",
       "      <th>Sueco</th>\n",
       "      <th>Chegadas_Argentina</th>\n",
       "    </tr>\n",
       "  </thead>\n",
       "  <tbody>\n",
       "    <tr>\n",
       "      <th>0</th>\n",
       "      <td>33.0</td>\n",
       "      <td>2014</td>\n",
       "      <td>NaN</td>\n",
       "      <td>0.0</td>\n",
       "      <td>NaN</td>\n",
       "      <td>453.0</td>\n",
       "      <td>70.0</td>\n",
       "      <td>3.0</td>\n",
       "      <td>648.0</td>\n",
       "      <td>52.0</td>\n",
       "      <td>41.0</td>\n",
       "      <td>4.0</td>\n",
       "      <td>4.0</td>\n",
       "      <td>0.0</td>\n",
       "      <td>339756.0</td>\n",
       "    </tr>\n",
       "    <tr>\n",
       "      <th>1</th>\n",
       "      <td>29.0</td>\n",
       "      <td>2015</td>\n",
       "      <td>NaN</td>\n",
       "      <td>NaN</td>\n",
       "      <td>NaN</td>\n",
       "      <td>476.0</td>\n",
       "      <td>78.0</td>\n",
       "      <td>2.0</td>\n",
       "      <td>687.0</td>\n",
       "      <td>50.0</td>\n",
       "      <td>39.0</td>\n",
       "      <td>5.0</td>\n",
       "      <td>6.0</td>\n",
       "      <td>NaN</td>\n",
       "      <td>376133.0</td>\n",
       "    </tr>\n",
       "    <tr>\n",
       "      <th>2</th>\n",
       "      <td>63.0</td>\n",
       "      <td>2016</td>\n",
       "      <td>0.0</td>\n",
       "      <td>NaN</td>\n",
       "      <td>0.0</td>\n",
       "      <td>1027.0</td>\n",
       "      <td>165.0</td>\n",
       "      <td>4.0</td>\n",
       "      <td>1478.0</td>\n",
       "      <td>119.0</td>\n",
       "      <td>87.0</td>\n",
       "      <td>9.0</td>\n",
       "      <td>11.0</td>\n",
       "      <td>NaN</td>\n",
       "      <td>399092.0</td>\n",
       "    </tr>\n",
       "    <tr>\n",
       "      <th>3</th>\n",
       "      <td>42.0</td>\n",
       "      <td>2017</td>\n",
       "      <td>0.0</td>\n",
       "      <td>NaN</td>\n",
       "      <td>0.0</td>\n",
       "      <td>620.0</td>\n",
       "      <td>99.0</td>\n",
       "      <td>3.0</td>\n",
       "      <td>891.0</td>\n",
       "      <td>76.0</td>\n",
       "      <td>48.0</td>\n",
       "      <td>4.0</td>\n",
       "      <td>8.0</td>\n",
       "      <td>NaN</td>\n",
       "      <td>398926.0</td>\n",
       "    </tr>\n",
       "  </tbody>\n",
       "</table>\n",
       "</div>"
      ],
      "text/plain": [
       "   Alemão  Ano  Catalão  Dinamarquês  Eslovaco  Espanhol  Francês  Hebraico  \\\n",
       "0    33.0 2014      NaN          0.0       NaN     453.0     70.0       3.0   \n",
       "1    29.0 2015      NaN          NaN       NaN     476.0     78.0       2.0   \n",
       "2    63.0 2016      0.0          NaN       0.0    1027.0    165.0       4.0   \n",
       "3    42.0 2017      0.0          NaN       0.0     620.0     99.0       3.0   \n",
       "\n",
       "   Inglês  Italiano  Japonês  Mandarim  Russo  Sueco  Chegadas_Argentina  \n",
       "0   648.0      52.0     41.0       4.0    4.0    0.0            339756.0  \n",
       "1   687.0      50.0     39.0       5.0    6.0    NaN            376133.0  \n",
       "2  1478.0     119.0     87.0       9.0   11.0    NaN            399092.0  \n",
       "3   891.0      76.0     48.0       4.0    8.0    NaN            398926.0  "
      ]
     },
     "execution_count": 70,
     "metadata": {},
     "output_type": "execute_result"
    }
   ],
   "source": [
    "dadosSP = pd.merge(dados_Hospedagens_SP,dados_Chegadas_SP,how='outer')\n",
    "dadosSP.rename(columns={'Chegadas': 'Chegadas_Argentina'}, inplace=True)\n",
    "dadosSP"
   ]
  },
  {
   "cell_type": "code",
   "execution_count": 71,
   "metadata": {},
   "outputs": [
    {
     "data": {
      "text/plain": [
       "<matplotlib.axes._subplots.AxesSubplot at 0x284b12acbe0>"
      ]
     },
     "execution_count": 71,
     "metadata": {},
     "output_type": "execute_result"
    },
    {
     "data": {
      "image/png": "[encoded data removed]",
      "text/plain": [
       "<Figure size 432x288 with 1 Axes>"
      ]
     },
     "metadata": {},
     "output_type": "display_data"
    }
   ],
   "source": [
    "dadosSP.groupby(dadosSP.Ano.dt.year).Espanhol.mean().plot()"
   ]
  },
  {
   "cell_type": "code",
   "execution_count": 72,
   "metadata": {},
   "outputs": [
    {
     "data": {
      "text/plain": [
       "<matplotlib.axes._subplots.AxesSubplot at 0x284b05aaa90>"
      ]
     },
     "execution_count": 72,
     "metadata": {},
     "output_type": "execute_result"
    },
    {
     "data": {
      "image/png": "[encoded data removed]",
      "text/plain": [
       "<Figure size 432x288 with 1 Axes>"
      ]
     },
     "metadata": {},
     "output_type": "display_data"
    }
   ],
   "source": [
    "dadosSP.groupby(dadosSP.Ano.dt.year).Chegadas_Argentina.mean().plot()"
   ]
  },
  {
   "cell_type": "markdown",
   "metadata": {},
   "source": [
    "## Análise dos Dados Paraná"
   ]
  },
  {
   "cell_type": "markdown",
   "metadata": {},
   "source": [
    "## 2014\n",
    "<p><strong>Quantidade</strong> de <strong>Hospedagens</strong> que oferecem <strong>X idioma estrangeiro</strong> em <strong>PR</strong></p>"
   ]
  },
  {
   "cell_type": "code",
   "execution_count": 73,
   "metadata": {},
   "outputs": [
    {
     "data": {
      "text/html": [
       "<div>\n",
       "<style scoped>\n",
       "    .dataframe tbody tr th:only-of-type {\n",
       "        vertical-align: middle;\n",
       "    }\n",
       "\n",
       "    .dataframe tbody tr th {\n",
       "        vertical-align: top;\n",
       "    }\n",
       "\n",
       "    .dataframe thead th {\n",
       "        text-align: right;\n",
       "    }\n",
       "</style>\n",
       "<table border=\"1\" class=\"dataframe\">\n",
       "  <thead>\n",
       "    <tr style=\"text-align: right;\">\n",
       "      <th></th>\n",
       "      <th>Alemão</th>\n",
       "      <th>Dinamarquês</th>\n",
       "      <th>Espanhol</th>\n",
       "      <th>Francês</th>\n",
       "      <th>Hebraico</th>\n",
       "      <th>Inglês</th>\n",
       "      <th>Italiano</th>\n",
       "      <th>Japonês</th>\n",
       "      <th>Mandarim</th>\n",
       "      <th>Russo</th>\n",
       "      <th>Sueco</th>\n",
       "      <th>Ano</th>\n",
       "    </tr>\n",
       "  </thead>\n",
       "  <tbody>\n",
       "    <tr>\n",
       "      <th>0</th>\n",
       "      <td>37.0</td>\n",
       "      <td>0.0</td>\n",
       "      <td>246.0</td>\n",
       "      <td>30.0</td>\n",
       "      <td>0.0</td>\n",
       "      <td>271.0</td>\n",
       "      <td>31.0</td>\n",
       "      <td>17.0</td>\n",
       "      <td>2.0</td>\n",
       "      <td>2.0</td>\n",
       "      <td>0.0</td>\n",
       "      <td>2014</td>\n",
       "    </tr>\n",
       "  </tbody>\n",
       "</table>\n",
       "</div>"
      ],
      "text/plain": [
       "   Alemão  Dinamarquês  Espanhol  Francês  Hebraico  Inglês  Italiano  \\\n",
       "0    37.0          0.0     246.0     30.0       0.0   271.0      31.0   \n",
       "\n",
       "   Japonês  Mandarim  Russo  Sueco  Ano  \n",
       "0     17.0       2.0    2.0    0.0 2014  "
      ]
     },
     "execution_count": 73,
     "metadata": {},
     "output_type": "execute_result"
    }
   ],
   "source": [
    "dadosPR_2014 = dados2014(dados_2014,'PR')\n",
    "dadosPR_2014"
   ]
  },
  {
   "cell_type": "markdown",
   "metadata": {},
   "source": [
    "<p><strong>Média da quantidade</strong> de <strong>Turistas</strong> que chegaram em <strong>PR</strong></p>"
   ]
  },
  {
   "cell_type": "code",
   "execution_count": 74,
   "metadata": {},
   "outputs": [
    {
     "data": {
      "text/html": [
       "<div>\n",
       "<style scoped>\n",
       "    .dataframe tbody tr th:only-of-type {\n",
       "        vertical-align: middle;\n",
       "    }\n",
       "\n",
       "    .dataframe tbody tr th {\n",
       "        vertical-align: top;\n",
       "    }\n",
       "\n",
       "    .dataframe thead th {\n",
       "        text-align: right;\n",
       "    }\n",
       "</style>\n",
       "<table border=\"1\" class=\"dataframe\">\n",
       "  <thead>\n",
       "    <tr style=\"text-align: right;\">\n",
       "      <th></th>\n",
       "      <th>Chegadas</th>\n",
       "      <th>Ano</th>\n",
       "    </tr>\n",
       "  </thead>\n",
       "  <tbody>\n",
       "    <tr>\n",
       "      <th>0</th>\n",
       "      <td>273817.0</td>\n",
       "      <td>2014</td>\n",
       "    </tr>\n",
       "  </tbody>\n",
       "</table>\n",
       "</div>"
      ],
      "text/plain": [
       "   Chegadas  Ano\n",
       "0  273817.0 2014"
      ]
     },
     "execution_count": 74,
     "metadata": {},
     "output_type": "execute_result"
    }
   ],
   "source": [
    "chegadas2014PR = ano(media(AnaliseChegadas(chegadas2014,'Paraná')),'2014')\n",
    "chegadas2014PR"
   ]
  },
  {
   "cell_type": "markdown",
   "metadata": {},
   "source": [
    "## 2015\n",
    "<p><strong>Quantidade</strong> de <strong>Hospedagens</strong> que oferecem <strong>X idioma estrangeiro</strong> em <strong>PR</strong></p>"
   ]
  },
  {
   "cell_type": "code",
   "execution_count": 75,
   "metadata": {},
   "outputs": [
    {
     "data": {
      "text/html": [
       "<div>\n",
       "<style scoped>\n",
       "    .dataframe tbody tr th:only-of-type {\n",
       "        vertical-align: middle;\n",
       "    }\n",
       "\n",
       "    .dataframe tbody tr th {\n",
       "        vertical-align: top;\n",
       "    }\n",
       "\n",
       "    .dataframe thead th {\n",
       "        text-align: right;\n",
       "    }\n",
       "</style>\n",
       "<table border=\"1\" class=\"dataframe\">\n",
       "  <thead>\n",
       "    <tr style=\"text-align: right;\">\n",
       "      <th></th>\n",
       "      <th>Alemão</th>\n",
       "      <th>Espanhol</th>\n",
       "      <th>Francês</th>\n",
       "      <th>Hebraico</th>\n",
       "      <th>Inglês</th>\n",
       "      <th>Italiano</th>\n",
       "      <th>Japonês</th>\n",
       "      <th>Mandarim</th>\n",
       "      <th>Russo</th>\n",
       "      <th>Ano</th>\n",
       "    </tr>\n",
       "  </thead>\n",
       "  <tbody>\n",
       "    <tr>\n",
       "      <th>0</th>\n",
       "      <td>34.0</td>\n",
       "      <td>261.0</td>\n",
       "      <td>31.0</td>\n",
       "      <td>2.0</td>\n",
       "      <td>275.0</td>\n",
       "      <td>35.0</td>\n",
       "      <td>18.0</td>\n",
       "      <td>4.0</td>\n",
       "      <td>5.0</td>\n",
       "      <td>2015</td>\n",
       "    </tr>\n",
       "  </tbody>\n",
       "</table>\n",
       "</div>"
      ],
      "text/plain": [
       "   Alemão  Espanhol  Francês  Hebraico  Inglês  Italiano  Japonês  Mandarim  \\\n",
       "0    34.0     261.0     31.0       2.0   275.0      35.0     18.0       4.0   \n",
       "\n",
       "   Russo  Ano  \n",
       "0    5.0 2015  "
      ]
     },
     "execution_count": 75,
     "metadata": {},
     "output_type": "execute_result"
    }
   ],
   "source": [
    "dadosPR_2015 = dados2015(dados_2015,'PR')\n",
    "dadosPR_2015"
   ]
  },
  {
   "cell_type": "markdown",
   "metadata": {},
   "source": [
    "<p><strong>Média da quantidade</strong> de <strong>Turistas</strong> que chegaram em <strong>PR</strong></p>"
   ]
  },
  {
   "cell_type": "code",
   "execution_count": 76,
   "metadata": {},
   "outputs": [
    {
     "data": {
      "text/html": [
       "<div>\n",
       "<style scoped>\n",
       "    .dataframe tbody tr th:only-of-type {\n",
       "        vertical-align: middle;\n",
       "    }\n",
       "\n",
       "    .dataframe tbody tr th {\n",
       "        vertical-align: top;\n",
       "    }\n",
       "\n",
       "    .dataframe thead th {\n",
       "        text-align: right;\n",
       "    }\n",
       "</style>\n",
       "<table border=\"1\" class=\"dataframe\">\n",
       "  <thead>\n",
       "    <tr style=\"text-align: right;\">\n",
       "      <th></th>\n",
       "      <th>Chegadas</th>\n",
       "      <th>Ano</th>\n",
       "    </tr>\n",
       "  </thead>\n",
       "  <tbody>\n",
       "    <tr>\n",
       "      <th>0</th>\n",
       "      <td>257355.0</td>\n",
       "      <td>2015</td>\n",
       "    </tr>\n",
       "  </tbody>\n",
       "</table>\n",
       "</div>"
      ],
      "text/plain": [
       "   Chegadas  Ano\n",
       "0  257355.0 2015"
      ]
     },
     "execution_count": 76,
     "metadata": {},
     "output_type": "execute_result"
    }
   ],
   "source": [
    "chegadas2015PR = ano(media(AnaliseChegadas(chegadas2015,'Paraná')),'2015')\n",
    "chegadas2015PR"
   ]
  },
  {
   "cell_type": "markdown",
   "metadata": {},
   "source": [
    "## 2016\n",
    "<p><strong>Quantidade</strong> de <strong>Hospedagens</strong> que oferecem <strong>X idioma estrangeiro</strong> em <strong>PR</strong></p>"
   ]
  },
  {
   "cell_type": "code",
   "execution_count": 77,
   "metadata": {},
   "outputs": [
    {
     "data": {
      "text/html": [
       "<div>\n",
       "<style scoped>\n",
       "    .dataframe tbody tr th:only-of-type {\n",
       "        vertical-align: middle;\n",
       "    }\n",
       "\n",
       "    .dataframe tbody tr th {\n",
       "        vertical-align: top;\n",
       "    }\n",
       "\n",
       "    .dataframe thead th {\n",
       "        text-align: right;\n",
       "    }\n",
       "</style>\n",
       "<table border=\"1\" class=\"dataframe\">\n",
       "  <thead>\n",
       "    <tr style=\"text-align: right;\">\n",
       "      <th></th>\n",
       "      <th>Alemão</th>\n",
       "      <th>Catalão</th>\n",
       "      <th>Eslovaco</th>\n",
       "      <th>Espanhol</th>\n",
       "      <th>Francês</th>\n",
       "      <th>Hebraico</th>\n",
       "      <th>Inglês</th>\n",
       "      <th>Italiano</th>\n",
       "      <th>Japonês</th>\n",
       "      <th>Mandarim</th>\n",
       "      <th>Russo</th>\n",
       "      <th>Ano</th>\n",
       "    </tr>\n",
       "  </thead>\n",
       "  <tbody>\n",
       "    <tr>\n",
       "      <th>0</th>\n",
       "      <td>79.0</td>\n",
       "      <td>0.0</td>\n",
       "      <td>1.0</td>\n",
       "      <td>562.0</td>\n",
       "      <td>65.0</td>\n",
       "      <td>4.0</td>\n",
       "      <td>598.0</td>\n",
       "      <td>80.0</td>\n",
       "      <td>34.0</td>\n",
       "      <td>8.0</td>\n",
       "      <td>11.0</td>\n",
       "      <td>2016</td>\n",
       "    </tr>\n",
       "  </tbody>\n",
       "</table>\n",
       "</div>"
      ],
      "text/plain": [
       "   Alemão  Catalão  Eslovaco  Espanhol  Francês  Hebraico  Inglês  Italiano  \\\n",
       "0    79.0      0.0       1.0     562.0     65.0       4.0   598.0      80.0   \n",
       "\n",
       "   Japonês  Mandarim  Russo  Ano  \n",
       "0     34.0       8.0   11.0 2016  "
      ]
     },
     "execution_count": 77,
     "metadata": {},
     "output_type": "execute_result"
    }
   ],
   "source": [
    "dadosPR_2016 = dados2016(dados_2016,'PR')\n",
    "dadosPR_2016"
   ]
  },
  {
   "cell_type": "markdown",
   "metadata": {},
   "source": [
    "<p><strong>Média da quantidade</strong> de <strong>Turistas</strong> que chegaram em <strong>PR</strong></p>"
   ]
  },
  {
   "cell_type": "code",
   "execution_count": 78,
   "metadata": {},
   "outputs": [
    {
     "data": {
      "text/html": [
       "<div>\n",
       "<style scoped>\n",
       "    .dataframe tbody tr th:only-of-type {\n",
       "        vertical-align: middle;\n",
       "    }\n",
       "\n",
       "    .dataframe tbody tr th {\n",
       "        vertical-align: top;\n",
       "    }\n",
       "\n",
       "    .dataframe thead th {\n",
       "        text-align: right;\n",
       "    }\n",
       "</style>\n",
       "<table border=\"1\" class=\"dataframe\">\n",
       "  <thead>\n",
       "    <tr style=\"text-align: right;\">\n",
       "      <th></th>\n",
       "      <th>Chegadas</th>\n",
       "      <th>Ano</th>\n",
       "    </tr>\n",
       "  </thead>\n",
       "  <tbody>\n",
       "    <tr>\n",
       "      <th>0</th>\n",
       "      <td>274811.0</td>\n",
       "      <td>2016</td>\n",
       "    </tr>\n",
       "  </tbody>\n",
       "</table>\n",
       "</div>"
      ],
      "text/plain": [
       "   Chegadas  Ano\n",
       "0  274811.0 2016"
      ]
     },
     "execution_count": 78,
     "metadata": {},
     "output_type": "execute_result"
    }
   ],
   "source": [
    "chegadas2016PR = ano(media(AnaliseChegadas(chegadas2016,'Paraná')),'2016')\n",
    "chegadas2016PR"
   ]
  },
  {
   "cell_type": "markdown",
   "metadata": {},
   "source": [
    "## 2017\n",
    "<p><strong>Quantidade</strong> de <strong>Hospedagens</strong> que oferecem <strong>X idioma estrangeiro</strong> em <strong>PR</strong></p>"
   ]
  },
  {
   "cell_type": "code",
   "execution_count": 79,
   "metadata": {},
   "outputs": [
    {
     "data": {
      "text/html": [
       "<div>\n",
       "<style scoped>\n",
       "    .dataframe tbody tr th:only-of-type {\n",
       "        vertical-align: middle;\n",
       "    }\n",
       "\n",
       "    .dataframe tbody tr th {\n",
       "        vertical-align: top;\n",
       "    }\n",
       "\n",
       "    .dataframe thead th {\n",
       "        text-align: right;\n",
       "    }\n",
       "</style>\n",
       "<table border=\"1\" class=\"dataframe\">\n",
       "  <thead>\n",
       "    <tr style=\"text-align: right;\">\n",
       "      <th></th>\n",
       "      <th>Alemão</th>\n",
       "      <th>Catalão</th>\n",
       "      <th>Eslovaco</th>\n",
       "      <th>Espanhol</th>\n",
       "      <th>Francês</th>\n",
       "      <th>Hebraico</th>\n",
       "      <th>Inglês</th>\n",
       "      <th>Italiano</th>\n",
       "      <th>Japonês</th>\n",
       "      <th>Mandarim</th>\n",
       "      <th>Russo</th>\n",
       "      <th>Ano</th>\n",
       "    </tr>\n",
       "  </thead>\n",
       "  <tbody>\n",
       "    <tr>\n",
       "      <th>0</th>\n",
       "      <td>47.0</td>\n",
       "      <td>0.0</td>\n",
       "      <td>1.0</td>\n",
       "      <td>323.0</td>\n",
       "      <td>40.0</td>\n",
       "      <td>3.0</td>\n",
       "      <td>354.0</td>\n",
       "      <td>51.0</td>\n",
       "      <td>21.0</td>\n",
       "      <td>4.0</td>\n",
       "      <td>6.0</td>\n",
       "      <td>2017</td>\n",
       "    </tr>\n",
       "  </tbody>\n",
       "</table>\n",
       "</div>"
      ],
      "text/plain": [
       "   Alemão  Catalão  Eslovaco  Espanhol  Francês  Hebraico  Inglês  Italiano  \\\n",
       "0    47.0      0.0       1.0     323.0     40.0       3.0   354.0      51.0   \n",
       "\n",
       "   Japonês  Mandarim  Russo  Ano  \n",
       "0     21.0       4.0    6.0 2017  "
      ]
     },
     "execution_count": 79,
     "metadata": {},
     "output_type": "execute_result"
    }
   ],
   "source": [
    "dadosPR_2017 = dados2017(dados_2017,'PR')\n",
    "dadosPR_2017"
   ]
  },
  {
   "cell_type": "markdown",
   "metadata": {},
   "source": [
    "<p><strong>Média da quantidade</strong> de <strong>Turistas</strong> que chegaram em <strong>PR</strong></p>"
   ]
  },
  {
   "cell_type": "code",
   "execution_count": 80,
   "metadata": {},
   "outputs": [
    {
     "data": {
      "text/html": [
       "<div>\n",
       "<style scoped>\n",
       "    .dataframe tbody tr th:only-of-type {\n",
       "        vertical-align: middle;\n",
       "    }\n",
       "\n",
       "    .dataframe tbody tr th {\n",
       "        vertical-align: top;\n",
       "    }\n",
       "\n",
       "    .dataframe thead th {\n",
       "        text-align: right;\n",
       "    }\n",
       "</style>\n",
       "<table border=\"1\" class=\"dataframe\">\n",
       "  <thead>\n",
       "    <tr style=\"text-align: right;\">\n",
       "      <th></th>\n",
       "      <th>Chegadas</th>\n",
       "      <th>Ano</th>\n",
       "    </tr>\n",
       "  </thead>\n",
       "  <tbody>\n",
       "    <tr>\n",
       "      <th>0</th>\n",
       "      <td>351206.0</td>\n",
       "      <td>2017</td>\n",
       "    </tr>\n",
       "  </tbody>\n",
       "</table>\n",
       "</div>"
      ],
      "text/plain": [
       "   Chegadas  Ano\n",
       "0  351206.0 2017"
      ]
     },
     "execution_count": 80,
     "metadata": {},
     "output_type": "execute_result"
    }
   ],
   "source": [
    "chegadas2017PR = ano(media(AnaliseChegadas(chegadas2017,'Paraná')),'2017')\n",
    "chegadas2017PR"
   ]
  },
  {
   "cell_type": "markdown",
   "metadata": {},
   "source": [
    "### Dataframe com os valores dos anos 2014-2017 | PR"
   ]
  },
  {
   "cell_type": "code",
   "execution_count": 81,
   "metadata": {},
   "outputs": [
    {
     "name": "stderr",
     "output_type": "stream",
     "text": [
      "C:\\Users\\Usuário\\Anaconda3\\lib\\site-packages\\ipykernel_launcher.py:3: FutureWarning: Sorting because non-concatenation axis is not aligned. A future version\n",
      "of pandas will change to not sort by default.\n",
      "\n",
      "To accept the future behavior, pass 'sort=True'.\n",
      "\n",
      "To retain the current behavior and silence the warning, pass sort=False\n",
      "\n",
      "  This is separate from the ipykernel package so we can avoid doing imports until\n"
     ]
    },
    {
     "data": {
      "text/html": [
       "<div>\n",
       "<style scoped>\n",
       "    .dataframe tbody tr th:only-of-type {\n",
       "        vertical-align: middle;\n",
       "    }\n",
       "\n",
       "    .dataframe tbody tr th {\n",
       "        vertical-align: top;\n",
       "    }\n",
       "\n",
       "    .dataframe thead th {\n",
       "        text-align: right;\n",
       "    }\n",
       "</style>\n",
       "<table border=\"1\" class=\"dataframe\">\n",
       "  <thead>\n",
       "    <tr style=\"text-align: right;\">\n",
       "      <th></th>\n",
       "      <th>Alemão</th>\n",
       "      <th>Ano</th>\n",
       "      <th>Catalão</th>\n",
       "      <th>Dinamarquês</th>\n",
       "      <th>Eslovaco</th>\n",
       "      <th>Espanhol</th>\n",
       "      <th>Francês</th>\n",
       "      <th>Hebraico</th>\n",
       "      <th>Inglês</th>\n",
       "      <th>Italiano</th>\n",
       "      <th>Japonês</th>\n",
       "      <th>Mandarim</th>\n",
       "      <th>Russo</th>\n",
       "      <th>Sueco</th>\n",
       "    </tr>\n",
       "  </thead>\n",
       "  <tbody>\n",
       "    <tr>\n",
       "      <th>0</th>\n",
       "      <td>37.0</td>\n",
       "      <td>2014</td>\n",
       "      <td>NaN</td>\n",
       "      <td>0.0</td>\n",
       "      <td>NaN</td>\n",
       "      <td>246.0</td>\n",
       "      <td>30.0</td>\n",
       "      <td>0.0</td>\n",
       "      <td>271.0</td>\n",
       "      <td>31.0</td>\n",
       "      <td>17.0</td>\n",
       "      <td>2.0</td>\n",
       "      <td>2.0</td>\n",
       "      <td>0.0</td>\n",
       "    </tr>\n",
       "    <tr>\n",
       "      <th>0</th>\n",
       "      <td>34.0</td>\n",
       "      <td>2015</td>\n",
       "      <td>NaN</td>\n",
       "      <td>NaN</td>\n",
       "      <td>NaN</td>\n",
       "      <td>261.0</td>\n",
       "      <td>31.0</td>\n",
       "      <td>2.0</td>\n",
       "      <td>275.0</td>\n",
       "      <td>35.0</td>\n",
       "      <td>18.0</td>\n",
       "      <td>4.0</td>\n",
       "      <td>5.0</td>\n",
       "      <td>NaN</td>\n",
       "    </tr>\n",
       "    <tr>\n",
       "      <th>0</th>\n",
       "      <td>79.0</td>\n",
       "      <td>2016</td>\n",
       "      <td>0.0</td>\n",
       "      <td>NaN</td>\n",
       "      <td>1.0</td>\n",
       "      <td>562.0</td>\n",
       "      <td>65.0</td>\n",
       "      <td>4.0</td>\n",
       "      <td>598.0</td>\n",
       "      <td>80.0</td>\n",
       "      <td>34.0</td>\n",
       "      <td>8.0</td>\n",
       "      <td>11.0</td>\n",
       "      <td>NaN</td>\n",
       "    </tr>\n",
       "    <tr>\n",
       "      <th>0</th>\n",
       "      <td>47.0</td>\n",
       "      <td>2017</td>\n",
       "      <td>0.0</td>\n",
       "      <td>NaN</td>\n",
       "      <td>1.0</td>\n",
       "      <td>323.0</td>\n",
       "      <td>40.0</td>\n",
       "      <td>3.0</td>\n",
       "      <td>354.0</td>\n",
       "      <td>51.0</td>\n",
       "      <td>21.0</td>\n",
       "      <td>4.0</td>\n",
       "      <td>6.0</td>\n",
       "      <td>NaN</td>\n",
       "    </tr>\n",
       "  </tbody>\n",
       "</table>\n",
       "</div>"
      ],
      "text/plain": [
       "   Alemão  Ano  Catalão  Dinamarquês  Eslovaco  Espanhol  Francês  Hebraico  \\\n",
       "0    37.0 2014      NaN          0.0       NaN     246.0     30.0       0.0   \n",
       "0    34.0 2015      NaN          NaN       NaN     261.0     31.0       2.0   \n",
       "0    79.0 2016      0.0          NaN       1.0     562.0     65.0       4.0   \n",
       "0    47.0 2017      0.0          NaN       1.0     323.0     40.0       3.0   \n",
       "\n",
       "   Inglês  Italiano  Japonês  Mandarim  Russo  Sueco  \n",
       "0   271.0      31.0     17.0       2.0    2.0    0.0  \n",
       "0   275.0      35.0     18.0       4.0    5.0    NaN  \n",
       "0   598.0      80.0     34.0       8.0   11.0    NaN  \n",
       "0   354.0      51.0     21.0       4.0    6.0    NaN  "
      ]
     },
     "execution_count": 81,
     "metadata": {},
     "output_type": "execute_result"
    }
   ],
   "source": [
    "dados_Hospedagens_PR = Dados(dadosPR_2014,dadosPR_2015,dadosPR_2016,dadosPR_2017)\n",
    "dados_Hospedagens_PR"
   ]
  },
  {
   "cell_type": "code",
   "execution_count": 82,
   "metadata": {},
   "outputs": [
    {
     "data": {
      "text/html": [
       "<div>\n",
       "<style scoped>\n",
       "    .dataframe tbody tr th:only-of-type {\n",
       "        vertical-align: middle;\n",
       "    }\n",
       "\n",
       "    .dataframe tbody tr th {\n",
       "        vertical-align: top;\n",
       "    }\n",
       "\n",
       "    .dataframe thead th {\n",
       "        text-align: right;\n",
       "    }\n",
       "</style>\n",
       "<table border=\"1\" class=\"dataframe\">\n",
       "  <thead>\n",
       "    <tr style=\"text-align: right;\">\n",
       "      <th></th>\n",
       "      <th>Chegadas</th>\n",
       "      <th>Ano</th>\n",
       "    </tr>\n",
       "  </thead>\n",
       "  <tbody>\n",
       "    <tr>\n",
       "      <th>0</th>\n",
       "      <td>273817.0</td>\n",
       "      <td>2014</td>\n",
       "    </tr>\n",
       "    <tr>\n",
       "      <th>0</th>\n",
       "      <td>257355.0</td>\n",
       "      <td>2015</td>\n",
       "    </tr>\n",
       "    <tr>\n",
       "      <th>0</th>\n",
       "      <td>274811.0</td>\n",
       "      <td>2016</td>\n",
       "    </tr>\n",
       "    <tr>\n",
       "      <th>0</th>\n",
       "      <td>351206.0</td>\n",
       "      <td>2017</td>\n",
       "    </tr>\n",
       "  </tbody>\n",
       "</table>\n",
       "</div>"
      ],
      "text/plain": [
       "   Chegadas  Ano\n",
       "0  273817.0 2014\n",
       "0  257355.0 2015\n",
       "0  274811.0 2016\n",
       "0  351206.0 2017"
      ]
     },
     "execution_count": 82,
     "metadata": {},
     "output_type": "execute_result"
    }
   ],
   "source": [
    "dados_Chegadas_PR = Dados(chegadas2014PR,chegadas2015PR,chegadas2016PR,chegadas2017PR)\n",
    "dados_Chegadas_PR"
   ]
  },
  {
   "cell_type": "code",
   "execution_count": 83,
   "metadata": {},
   "outputs": [
    {
     "data": {
      "text/html": [
       "<div>\n",
       "<style scoped>\n",
       "    .dataframe tbody tr th:only-of-type {\n",
       "        vertical-align: middle;\n",
       "    }\n",
       "\n",
       "    .dataframe tbody tr th {\n",
       "        vertical-align: top;\n",
       "    }\n",
       "\n",
       "    .dataframe thead th {\n",
       "        text-align: right;\n",
       "    }\n",
       "</style>\n",
       "<table border=\"1\" class=\"dataframe\">\n",
       "  <thead>\n",
       "    <tr style=\"text-align: right;\">\n",
       "      <th></th>\n",
       "      <th>Alemão</th>\n",
       "      <th>Ano</th>\n",
       "      <th>Catalão</th>\n",
       "      <th>Dinamarquês</th>\n",
       "      <th>Eslovaco</th>\n",
       "      <th>Espanhol</th>\n",
       "      <th>Francês</th>\n",
       "      <th>Hebraico</th>\n",
       "      <th>Inglês</th>\n",
       "      <th>Italiano</th>\n",
       "      <th>Japonês</th>\n",
       "      <th>Mandarim</th>\n",
       "      <th>Russo</th>\n",
       "      <th>Sueco</th>\n",
       "      <th>Chegadas_Argentina</th>\n",
       "    </tr>\n",
       "  </thead>\n",
       "  <tbody>\n",
       "    <tr>\n",
       "      <th>0</th>\n",
       "      <td>37.0</td>\n",
       "      <td>2014</td>\n",
       "      <td>NaN</td>\n",
       "      <td>0.0</td>\n",
       "      <td>NaN</td>\n",
       "      <td>246.0</td>\n",
       "      <td>30.0</td>\n",
       "      <td>0.0</td>\n",
       "      <td>271.0</td>\n",
       "      <td>31.0</td>\n",
       "      <td>17.0</td>\n",
       "      <td>2.0</td>\n",
       "      <td>2.0</td>\n",
       "      <td>0.0</td>\n",
       "      <td>273817.0</td>\n",
       "    </tr>\n",
       "    <tr>\n",
       "      <th>1</th>\n",
       "      <td>34.0</td>\n",
       "      <td>2015</td>\n",
       "      <td>NaN</td>\n",
       "      <td>NaN</td>\n",
       "      <td>NaN</td>\n",
       "      <td>261.0</td>\n",
       "      <td>31.0</td>\n",
       "      <td>2.0</td>\n",
       "      <td>275.0</td>\n",
       "      <td>35.0</td>\n",
       "      <td>18.0</td>\n",
       "      <td>4.0</td>\n",
       "      <td>5.0</td>\n",
       "      <td>NaN</td>\n",
       "      <td>257355.0</td>\n",
       "    </tr>\n",
       "    <tr>\n",
       "      <th>2</th>\n",
       "      <td>79.0</td>\n",
       "      <td>2016</td>\n",
       "      <td>0.0</td>\n",
       "      <td>NaN</td>\n",
       "      <td>1.0</td>\n",
       "      <td>562.0</td>\n",
       "      <td>65.0</td>\n",
       "      <td>4.0</td>\n",
       "      <td>598.0</td>\n",
       "      <td>80.0</td>\n",
       "      <td>34.0</td>\n",
       "      <td>8.0</td>\n",
       "      <td>11.0</td>\n",
       "      <td>NaN</td>\n",
       "      <td>274811.0</td>\n",
       "    </tr>\n",
       "    <tr>\n",
       "      <th>3</th>\n",
       "      <td>47.0</td>\n",
       "      <td>2017</td>\n",
       "      <td>0.0</td>\n",
       "      <td>NaN</td>\n",
       "      <td>1.0</td>\n",
       "      <td>323.0</td>\n",
       "      <td>40.0</td>\n",
       "      <td>3.0</td>\n",
       "      <td>354.0</td>\n",
       "      <td>51.0</td>\n",
       "      <td>21.0</td>\n",
       "      <td>4.0</td>\n",
       "      <td>6.0</td>\n",
       "      <td>NaN</td>\n",
       "      <td>351206.0</td>\n",
       "    </tr>\n",
       "  </tbody>\n",
       "</table>\n",
       "</div>"
      ],
      "text/plain": [
       "   Alemão  Ano  Catalão  Dinamarquês  Eslovaco  Espanhol  Francês  Hebraico  \\\n",
       "0    37.0 2014      NaN          0.0       NaN     246.0     30.0       0.0   \n",
       "1    34.0 2015      NaN          NaN       NaN     261.0     31.0       2.0   \n",
       "2    79.0 2016      0.0          NaN       1.0     562.0     65.0       4.0   \n",
       "3    47.0 2017      0.0          NaN       1.0     323.0     40.0       3.0   \n",
       "\n",
       "   Inglês  Italiano  Japonês  Mandarim  Russo  Sueco  Chegadas_Argentina  \n",
       "0   271.0      31.0     17.0       2.0    2.0    0.0            273817.0  \n",
       "1   275.0      35.0     18.0       4.0    5.0    NaN            257355.0  \n",
       "2   598.0      80.0     34.0       8.0   11.0    NaN            274811.0  \n",
       "3   354.0      51.0     21.0       4.0    6.0    NaN            351206.0  "
      ]
     },
     "execution_count": 83,
     "metadata": {},
     "output_type": "execute_result"
    }
   ],
   "source": [
    "dadosPR = pd.merge(dados_Hospedagens_PR,dados_Chegadas_PR,how='outer')\n",
    "dadosPR.rename(columns={'Chegadas': 'Chegadas_Argentina'}, inplace=True)\n",
    "dadosPR"
   ]
  },
  {
   "cell_type": "code",
   "execution_count": 84,
   "metadata": {},
   "outputs": [
    {
     "data": {
      "text/plain": [
       "<matplotlib.axes._subplots.AxesSubplot at 0x284b2b29390>"
      ]
     },
     "execution_count": 84,
     "metadata": {},
     "output_type": "execute_result"
    },
    {
     "data": {
      "image/png": "[encoded data removed]",
      "text/plain": [
       "<Figure size 432x288 with 1 Axes>"
      ]
     },
     "metadata": {},
     "output_type": "display_data"
    }
   ],
   "source": [
    "dadosPR.groupby(dadosPR.Ano.dt.year).Espanhol.mean().plot()"
   ]
  },
  {
   "cell_type": "code",
   "execution_count": 85,
   "metadata": {},
   "outputs": [
    {
     "data": {
      "text/plain": [
       "<matplotlib.axes._subplots.AxesSubplot at 0x284b0058be0>"
      ]
     },
     "execution_count": 85,
     "metadata": {},
     "output_type": "execute_result"
    },
    {
     "data": {
      "image/png": "[encoded data removed]",
      "text/plain": [
       "<Figure size 432x288 with 1 Axes>"
      ]
     },
     "metadata": {},
     "output_type": "display_data"
    }
   ],
   "source": [
    "dadosPR.groupby(dadosPR.Ano.dt.year).Chegadas_Argentina.mean().plot()"
   ]
  },
  {
   "cell_type": "markdown",
   "metadata": {},
   "source": [
    "## Análise "
   ]
  },
  {
   "cell_type": "code",
   "execution_count": 86,
   "metadata": {},
   "outputs": [
    {
     "data": {
      "text/plain": [
       "Alemão                float64\n",
       "Ano                    object\n",
       "Catalão               float64\n",
       "Dinamarquês           float64\n",
       "Eslovaco              float64\n",
       "Espanhol              float64\n",
       "Francês               float64\n",
       "Hebraico              float64\n",
       "Inglês                float64\n",
       "Italiano              float64\n",
       "Japonês               float64\n",
       "Mandarim              float64\n",
       "Russo                 float64\n",
       "Sueco                 float64\n",
       "Chegadas_Argentina    float64\n",
       "dtype: object"
      ]
     },
     "metadata": {},
     "output_type": "display_data"
    },
    {
     "data": {
      "text/plain": [
       "Alemão                float64\n",
       "Ano                    object\n",
       "Catalão               float64\n",
       "Dinamarquês           float64\n",
       "Eslovaco              float64\n",
       "Espanhol              float64\n",
       "Francês               float64\n",
       "Hebraico              float64\n",
       "Inglês                float64\n",
       "Italiano              float64\n",
       "Japonês               float64\n",
       "Mandarim              float64\n",
       "Russo                 float64\n",
       "Sueco                 float64\n",
       "Chegadas_Argentina    float64\n",
       "dtype: object"
      ]
     },
     "metadata": {},
     "output_type": "display_data"
    },
    {
     "data": {
      "text/plain": [
       "Alemão                float64\n",
       "Ano                    object\n",
       "Catalão               float64\n",
       "Dinamarquês           float64\n",
       "Eslovaco              float64\n",
       "Espanhol              float64\n",
       "Francês               float64\n",
       "Hebraico              float64\n",
       "Inglês                float64\n",
       "Italiano              float64\n",
       "Japonês               float64\n",
       "Mandarim              float64\n",
       "Russo                 float64\n",
       "Sueco                 float64\n",
       "Chegadas_Argentina    float64\n",
       "dtype: object"
      ]
     },
     "metadata": {},
     "output_type": "display_data"
    },
    {
     "data": {
      "text/plain": [
       "Alemão                float64\n",
       "Ano                    object\n",
       "Catalão               float64\n",
       "Dinamarquês           float64\n",
       "Eslovaco              float64\n",
       "Espanhol              float64\n",
       "Francês               float64\n",
       "Hebraico              float64\n",
       "Inglês                float64\n",
       "Italiano              float64\n",
       "Japonês               float64\n",
       "Mandarim              float64\n",
       "Russo                 float64\n",
       "Sueco                 float64\n",
       "Chegadas_Argentina    float64\n",
       "dtype: object"
      ]
     },
     "metadata": {},
     "output_type": "display_data"
    }
   ],
   "source": [
    "display(dadosPR.dtypes,dadosSP.dtypes,dadosRJ.dtypes,dadosRS.dtypes)"
   ]
  },
  {
   "cell_type": "markdown",
   "metadata": {},
   "source": [
    "## Grafico das Hospedagens\n",
    "Mostra a quantidade de hospedagens ,que oferecem X idioma, no intervalo de Tempo 2014-2017"
   ]
  },
  {
   "cell_type": "code",
   "execution_count": 87,
   "metadata": {},
   "outputs": [
    {
     "data": {
      "text/html": [
       "<div>\n",
       "<style scoped>\n",
       "    .dataframe tbody tr th:only-of-type {\n",
       "        vertical-align: middle;\n",
       "    }\n",
       "\n",
       "    .dataframe tbody tr th {\n",
       "        vertical-align: top;\n",
       "    }\n",
       "\n",
       "    .dataframe thead th {\n",
       "        text-align: right;\n",
       "    }\n",
       "</style>\n",
       "<table border=\"1\" class=\"dataframe\">\n",
       "  <thead>\n",
       "    <tr style=\"text-align: right;\">\n",
       "      <th></th>\n",
       "      <th>Alemão</th>\n",
       "      <th>Catalão</th>\n",
       "      <th>Dinamarquês</th>\n",
       "      <th>Eslovaco</th>\n",
       "      <th>Espanhol</th>\n",
       "      <th>Francês</th>\n",
       "      <th>Hebraico</th>\n",
       "      <th>Inglês</th>\n",
       "      <th>Italiano</th>\n",
       "      <th>Japonês</th>\n",
       "      <th>Mandarim</th>\n",
       "      <th>Russo</th>\n",
       "      <th>Sueco</th>\n",
       "      <th>Chegadas_Argentina</th>\n",
       "    </tr>\n",
       "    <tr>\n",
       "      <th>Ano</th>\n",
       "      <th></th>\n",
       "      <th></th>\n",
       "      <th></th>\n",
       "      <th></th>\n",
       "      <th></th>\n",
       "      <th></th>\n",
       "      <th></th>\n",
       "      <th></th>\n",
       "      <th></th>\n",
       "      <th></th>\n",
       "      <th></th>\n",
       "      <th></th>\n",
       "      <th></th>\n",
       "      <th></th>\n",
       "    </tr>\n",
       "  </thead>\n",
       "  <tbody>\n",
       "    <tr>\n",
       "      <th>2014</th>\n",
       "      <td>80.0</td>\n",
       "      <td>NaN</td>\n",
       "      <td>0.0</td>\n",
       "      <td>NaN</td>\n",
       "      <td>360.0</td>\n",
       "      <td>25.0</td>\n",
       "      <td>0.0</td>\n",
       "      <td>310.0</td>\n",
       "      <td>51.0</td>\n",
       "      <td>1.0</td>\n",
       "      <td>2.0</td>\n",
       "      <td>2.0</td>\n",
       "      <td>0.0</td>\n",
       "      <td>679138.0</td>\n",
       "    </tr>\n",
       "    <tr>\n",
       "      <th>2015</th>\n",
       "      <td>61.0</td>\n",
       "      <td>NaN</td>\n",
       "      <td>NaN</td>\n",
       "      <td>NaN</td>\n",
       "      <td>281.0</td>\n",
       "      <td>20.0</td>\n",
       "      <td>0.0</td>\n",
       "      <td>262.0</td>\n",
       "      <td>41.0</td>\n",
       "      <td>1.0</td>\n",
       "      <td>3.0</td>\n",
       "      <td>2.0</td>\n",
       "      <td>NaN</td>\n",
       "      <td>856645.0</td>\n",
       "    </tr>\n",
       "    <tr>\n",
       "      <th>2016</th>\n",
       "      <td>116.0</td>\n",
       "      <td>0.0</td>\n",
       "      <td>NaN</td>\n",
       "      <td>0.0</td>\n",
       "      <td>534.0</td>\n",
       "      <td>36.0</td>\n",
       "      <td>0.0</td>\n",
       "      <td>512.0</td>\n",
       "      <td>75.0</td>\n",
       "      <td>2.0</td>\n",
       "      <td>5.0</td>\n",
       "      <td>4.0</td>\n",
       "      <td>NaN</td>\n",
       "      <td>895937.0</td>\n",
       "    </tr>\n",
       "    <tr>\n",
       "      <th>2017</th>\n",
       "      <td>72.0</td>\n",
       "      <td>0.0</td>\n",
       "      <td>NaN</td>\n",
       "      <td>0.0</td>\n",
       "      <td>301.0</td>\n",
       "      <td>21.0</td>\n",
       "      <td>0.0</td>\n",
       "      <td>288.0</td>\n",
       "      <td>40.0</td>\n",
       "      <td>1.0</td>\n",
       "      <td>2.0</td>\n",
       "      <td>2.0</td>\n",
       "      <td>NaN</td>\n",
       "      <td>1021639.0</td>\n",
       "    </tr>\n",
       "  </tbody>\n",
       "</table>\n",
       "</div>"
      ],
      "text/plain": [
       "      Alemão  Catalão  Dinamarquês  Eslovaco  Espanhol  Francês  Hebraico  \\\n",
       "Ano                                                                         \n",
       "2014    80.0      NaN          0.0       NaN     360.0     25.0       0.0   \n",
       "2015    61.0      NaN          NaN       NaN     281.0     20.0       0.0   \n",
       "2016   116.0      0.0          NaN       0.0     534.0     36.0       0.0   \n",
       "2017    72.0      0.0          NaN       0.0     301.0     21.0       0.0   \n",
       "\n",
       "      Inglês  Italiano  Japonês  Mandarim  Russo  Sueco  Chegadas_Argentina  \n",
       "Ano                                                                          \n",
       "2014   310.0      51.0      1.0       2.0    2.0    0.0            679138.0  \n",
       "2015   262.0      41.0      1.0       3.0    2.0    NaN            856645.0  \n",
       "2016   512.0      75.0      2.0       5.0    4.0    NaN            895937.0  \n",
       "2017   288.0      40.0      1.0       2.0    2.0    NaN           1021639.0  "
      ]
     },
     "metadata": {},
     "output_type": "display_data"
    }
   ],
   "source": [
    "dadosRS.set_index('Ano', inplace=True)\n",
    "display(dadosRS.head())"
   ]
  },
  {
   "cell_type": "code",
   "execution_count": 88,
   "metadata": {},
   "outputs": [
    {
     "data": {
      "text/plain": [
       "Text(0.5,1,'Distribuição da Quantidade de Hospedagens do Rio Grande do Sul')"
      ]
     },
     "execution_count": 88,
     "metadata": {},
     "output_type": "execute_result"
    },
    {
     "data": {
      "image/png": "[encoded data removed]",
      "text/plain": [
       "<Figure size 1440x360 with 1 Axes>"
      ]
     },
     "metadata": {},
     "output_type": "display_data"
    }
   ],
   "source": [
    "dadosRS[['Alemão','Espanhol','Francês','Inglês','Italiano','Japonês','Mandarim','Russo']].plot(figsize=(20,5), linewidth=5, fontsize=20)\n",
    "plt.xlabel('Ano', fontsize=20);\n",
    "plt.ylabel('Quantidade-Hospedagens', fontsize=20);\n",
    "plt.title('Distribuição da Quantidade de Hospedagens do Rio Grande do Sul')"
   ]
  },
  {
   "cell_type": "code",
   "execution_count": 89,
   "metadata": {},
   "outputs": [
    {
     "data": {
      "text/html": [
       "<div>\n",
       "<style scoped>\n",
       "    .dataframe tbody tr th:only-of-type {\n",
       "        vertical-align: middle;\n",
       "    }\n",
       "\n",
       "    .dataframe tbody tr th {\n",
       "        vertical-align: top;\n",
       "    }\n",
       "\n",
       "    .dataframe thead th {\n",
       "        text-align: right;\n",
       "    }\n",
       "</style>\n",
       "<table border=\"1\" class=\"dataframe\">\n",
       "  <thead>\n",
       "    <tr style=\"text-align: right;\">\n",
       "      <th></th>\n",
       "      <th>Alemão</th>\n",
       "      <th>Catalão</th>\n",
       "      <th>Dinamarquês</th>\n",
       "      <th>Eslovaco</th>\n",
       "      <th>Espanhol</th>\n",
       "      <th>Francês</th>\n",
       "      <th>Hebraico</th>\n",
       "      <th>Inglês</th>\n",
       "      <th>Italiano</th>\n",
       "      <th>Japonês</th>\n",
       "      <th>Mandarim</th>\n",
       "      <th>Russo</th>\n",
       "      <th>Sueco</th>\n",
       "      <th>Chegadas_Argentina</th>\n",
       "    </tr>\n",
       "    <tr>\n",
       "      <th>Ano</th>\n",
       "      <th></th>\n",
       "      <th></th>\n",
       "      <th></th>\n",
       "      <th></th>\n",
       "      <th></th>\n",
       "      <th></th>\n",
       "      <th></th>\n",
       "      <th></th>\n",
       "      <th></th>\n",
       "      <th></th>\n",
       "      <th></th>\n",
       "      <th></th>\n",
       "      <th></th>\n",
       "      <th></th>\n",
       "    </tr>\n",
       "  </thead>\n",
       "  <tbody>\n",
       "    <tr>\n",
       "      <th>2014</th>\n",
       "      <td>37.0</td>\n",
       "      <td>NaN</td>\n",
       "      <td>0.0</td>\n",
       "      <td>NaN</td>\n",
       "      <td>246.0</td>\n",
       "      <td>30.0</td>\n",
       "      <td>0.0</td>\n",
       "      <td>271.0</td>\n",
       "      <td>31.0</td>\n",
       "      <td>17.0</td>\n",
       "      <td>2.0</td>\n",
       "      <td>2.0</td>\n",
       "      <td>0.0</td>\n",
       "      <td>273817.0</td>\n",
       "    </tr>\n",
       "    <tr>\n",
       "      <th>2015</th>\n",
       "      <td>34.0</td>\n",
       "      <td>NaN</td>\n",
       "      <td>NaN</td>\n",
       "      <td>NaN</td>\n",
       "      <td>261.0</td>\n",
       "      <td>31.0</td>\n",
       "      <td>2.0</td>\n",
       "      <td>275.0</td>\n",
       "      <td>35.0</td>\n",
       "      <td>18.0</td>\n",
       "      <td>4.0</td>\n",
       "      <td>5.0</td>\n",
       "      <td>NaN</td>\n",
       "      <td>257355.0</td>\n",
       "    </tr>\n",
       "    <tr>\n",
       "      <th>2016</th>\n",
       "      <td>79.0</td>\n",
       "      <td>0.0</td>\n",
       "      <td>NaN</td>\n",
       "      <td>1.0</td>\n",
       "      <td>562.0</td>\n",
       "      <td>65.0</td>\n",
       "      <td>4.0</td>\n",
       "      <td>598.0</td>\n",
       "      <td>80.0</td>\n",
       "      <td>34.0</td>\n",
       "      <td>8.0</td>\n",
       "      <td>11.0</td>\n",
       "      <td>NaN</td>\n",
       "      <td>274811.0</td>\n",
       "    </tr>\n",
       "    <tr>\n",
       "      <th>2017</th>\n",
       "      <td>47.0</td>\n",
       "      <td>0.0</td>\n",
       "      <td>NaN</td>\n",
       "      <td>1.0</td>\n",
       "      <td>323.0</td>\n",
       "      <td>40.0</td>\n",
       "      <td>3.0</td>\n",
       "      <td>354.0</td>\n",
       "      <td>51.0</td>\n",
       "      <td>21.0</td>\n",
       "      <td>4.0</td>\n",
       "      <td>6.0</td>\n",
       "      <td>NaN</td>\n",
       "      <td>351206.0</td>\n",
       "    </tr>\n",
       "  </tbody>\n",
       "</table>\n",
       "</div>"
      ],
      "text/plain": [
       "      Alemão  Catalão  Dinamarquês  Eslovaco  Espanhol  Francês  Hebraico  \\\n",
       "Ano                                                                         \n",
       "2014    37.0      NaN          0.0       NaN     246.0     30.0       0.0   \n",
       "2015    34.0      NaN          NaN       NaN     261.0     31.0       2.0   \n",
       "2016    79.0      0.0          NaN       1.0     562.0     65.0       4.0   \n",
       "2017    47.0      0.0          NaN       1.0     323.0     40.0       3.0   \n",
       "\n",
       "      Inglês  Italiano  Japonês  Mandarim  Russo  Sueco  Chegadas_Argentina  \n",
       "Ano                                                                          \n",
       "2014   271.0      31.0     17.0       2.0    2.0    0.0            273817.0  \n",
       "2015   275.0      35.0     18.0       4.0    5.0    NaN            257355.0  \n",
       "2016   598.0      80.0     34.0       8.0   11.0    NaN            274811.0  \n",
       "2017   354.0      51.0     21.0       4.0    6.0    NaN            351206.0  "
      ]
     },
     "execution_count": 89,
     "metadata": {},
     "output_type": "execute_result"
    }
   ],
   "source": [
    "dadosPR.set_index('Ano', inplace=True)\n",
    "dadosPR.head()"
   ]
  },
  {
   "cell_type": "code",
   "execution_count": 90,
   "metadata": {},
   "outputs": [
    {
     "data": {
      "text/plain": [
       "Text(0.5,1,'Distribuição da Quantidade de Hospedagens do Paraná')"
      ]
     },
     "execution_count": 90,
     "metadata": {},
     "output_type": "execute_result"
    },
    {
     "data": {
      "image/png": "[encoded data removed]",
      "text/plain": [
       "<Figure size 1440x360 with 1 Axes>"
      ]
     },
     "metadata": {},
     "output_type": "display_data"
    }
   ],
   "source": [
    "dadosPR[['Alemão','Espanhol','Francês','Inglês','Italiano','Japonês','Mandarim','Russo']].plot(figsize=(20,5), linewidth=5, fontsize=20)\n",
    "plt.xlabel('Ano', fontsize=20);\n",
    "plt.ylabel('Quantidade-Hospedagens', fontsize=20);\n",
    "plt.title('Distribuição da Quantidade de Hospedagens do Paraná')"
   ]
  },
  {
   "cell_type": "code",
   "execution_count": 91,
   "metadata": {},
   "outputs": [
    {
     "data": {
      "text/html": [
       "<div>\n",
       "<style scoped>\n",
       "    .dataframe tbody tr th:only-of-type {\n",
       "        vertical-align: middle;\n",
       "    }\n",
       "\n",
       "    .dataframe tbody tr th {\n",
       "        vertical-align: top;\n",
       "    }\n",
       "\n",
       "    .dataframe thead th {\n",
       "        text-align: right;\n",
       "    }\n",
       "</style>\n",
       "<table border=\"1\" class=\"dataframe\">\n",
       "  <thead>\n",
       "    <tr style=\"text-align: right;\">\n",
       "      <th></th>\n",
       "      <th>Alemão</th>\n",
       "      <th>Catalão</th>\n",
       "      <th>Dinamarquês</th>\n",
       "      <th>Eslovaco</th>\n",
       "      <th>Espanhol</th>\n",
       "      <th>Francês</th>\n",
       "      <th>Hebraico</th>\n",
       "      <th>Inglês</th>\n",
       "      <th>Italiano</th>\n",
       "      <th>Japonês</th>\n",
       "      <th>Mandarim</th>\n",
       "      <th>Russo</th>\n",
       "      <th>Sueco</th>\n",
       "      <th>Chegadas_Argentina</th>\n",
       "    </tr>\n",
       "    <tr>\n",
       "      <th>Ano</th>\n",
       "      <th></th>\n",
       "      <th></th>\n",
       "      <th></th>\n",
       "      <th></th>\n",
       "      <th></th>\n",
       "      <th></th>\n",
       "      <th></th>\n",
       "      <th></th>\n",
       "      <th></th>\n",
       "      <th></th>\n",
       "      <th></th>\n",
       "      <th></th>\n",
       "      <th></th>\n",
       "      <th></th>\n",
       "    </tr>\n",
       "  </thead>\n",
       "  <tbody>\n",
       "    <tr>\n",
       "      <th>2014</th>\n",
       "      <td>33.0</td>\n",
       "      <td>NaN</td>\n",
       "      <td>0.0</td>\n",
       "      <td>NaN</td>\n",
       "      <td>453.0</td>\n",
       "      <td>70.0</td>\n",
       "      <td>3.0</td>\n",
       "      <td>648.0</td>\n",
       "      <td>52.0</td>\n",
       "      <td>41.0</td>\n",
       "      <td>4.0</td>\n",
       "      <td>4.0</td>\n",
       "      <td>0.0</td>\n",
       "      <td>339756.0</td>\n",
       "    </tr>\n",
       "    <tr>\n",
       "      <th>2015</th>\n",
       "      <td>29.0</td>\n",
       "      <td>NaN</td>\n",
       "      <td>NaN</td>\n",
       "      <td>NaN</td>\n",
       "      <td>476.0</td>\n",
       "      <td>78.0</td>\n",
       "      <td>2.0</td>\n",
       "      <td>687.0</td>\n",
       "      <td>50.0</td>\n",
       "      <td>39.0</td>\n",
       "      <td>5.0</td>\n",
       "      <td>6.0</td>\n",
       "      <td>NaN</td>\n",
       "      <td>376133.0</td>\n",
       "    </tr>\n",
       "    <tr>\n",
       "      <th>2016</th>\n",
       "      <td>63.0</td>\n",
       "      <td>0.0</td>\n",
       "      <td>NaN</td>\n",
       "      <td>0.0</td>\n",
       "      <td>1027.0</td>\n",
       "      <td>165.0</td>\n",
       "      <td>4.0</td>\n",
       "      <td>1478.0</td>\n",
       "      <td>119.0</td>\n",
       "      <td>87.0</td>\n",
       "      <td>9.0</td>\n",
       "      <td>11.0</td>\n",
       "      <td>NaN</td>\n",
       "      <td>399092.0</td>\n",
       "    </tr>\n",
       "    <tr>\n",
       "      <th>2017</th>\n",
       "      <td>42.0</td>\n",
       "      <td>0.0</td>\n",
       "      <td>NaN</td>\n",
       "      <td>0.0</td>\n",
       "      <td>620.0</td>\n",
       "      <td>99.0</td>\n",
       "      <td>3.0</td>\n",
       "      <td>891.0</td>\n",
       "      <td>76.0</td>\n",
       "      <td>48.0</td>\n",
       "      <td>4.0</td>\n",
       "      <td>8.0</td>\n",
       "      <td>NaN</td>\n",
       "      <td>398926.0</td>\n",
       "    </tr>\n",
       "  </tbody>\n",
       "</table>\n",
       "</div>"
      ],
      "text/plain": [
       "      Alemão  Catalão  Dinamarquês  Eslovaco  Espanhol  Francês  Hebraico  \\\n",
       "Ano                                                                         \n",
       "2014    33.0      NaN          0.0       NaN     453.0     70.0       3.0   \n",
       "2015    29.0      NaN          NaN       NaN     476.0     78.0       2.0   \n",
       "2016    63.0      0.0          NaN       0.0    1027.0    165.0       4.0   \n",
       "2017    42.0      0.0          NaN       0.0     620.0     99.0       3.0   \n",
       "\n",
       "      Inglês  Italiano  Japonês  Mandarim  Russo  Sueco  Chegadas_Argentina  \n",
       "Ano                                                                          \n",
       "2014   648.0      52.0     41.0       4.0    4.0    0.0            339756.0  \n",
       "2015   687.0      50.0     39.0       5.0    6.0    NaN            376133.0  \n",
       "2016  1478.0     119.0     87.0       9.0   11.0    NaN            399092.0  \n",
       "2017   891.0      76.0     48.0       4.0    8.0    NaN            398926.0  "
      ]
     },
     "execution_count": 91,
     "metadata": {},
     "output_type": "execute_result"
    }
   ],
   "source": [
    "dadosSP.set_index('Ano', inplace=True)\n",
    "dadosSP.head()"
   ]
  },
  {
   "cell_type": "code",
   "execution_count": 92,
   "metadata": {},
   "outputs": [
    {
     "data": {
      "text/plain": [
       "Text(0.5,1,'Distribuição da Quantidade de Hospedagens do São Paulo')"
      ]
     },
     "execution_count": 92,
     "metadata": {},
     "output_type": "execute_result"
    },
    {
     "data": {
      "image/png": "[encoded data removed]",
      "text/plain": [
       "<Figure size 1440x360 with 1 Axes>"
      ]
     },
     "metadata": {},
     "output_type": "display_data"
    }
   ],
   "source": [
    "dadosSP[['Alemão','Espanhol','Francês','Inglês','Italiano','Japonês','Mandarim','Russo']].plot(figsize=(20,5), linewidth=5, fontsize=20)\n",
    "plt.xlabel('Ano', fontsize=20);\n",
    "plt.ylabel('Quantidade-Hospedagens', fontsize=20);\n",
    "plt.title('Distribuição da Quantidade de Hospedagens do São Paulo')"
   ]
  },
  {
   "cell_type": "code",
   "execution_count": 93,
   "metadata": {},
   "outputs": [
    {
     "data": {
      "text/html": [
       "<div>\n",
       "<style scoped>\n",
       "    .dataframe tbody tr th:only-of-type {\n",
       "        vertical-align: middle;\n",
       "    }\n",
       "\n",
       "    .dataframe tbody tr th {\n",
       "        vertical-align: top;\n",
       "    }\n",
       "\n",
       "    .dataframe thead th {\n",
       "        text-align: right;\n",
       "    }\n",
       "</style>\n",
       "<table border=\"1\" class=\"dataframe\">\n",
       "  <thead>\n",
       "    <tr style=\"text-align: right;\">\n",
       "      <th></th>\n",
       "      <th>Alemão</th>\n",
       "      <th>Catalão</th>\n",
       "      <th>Dinamarquês</th>\n",
       "      <th>Eslovaco</th>\n",
       "      <th>Espanhol</th>\n",
       "      <th>Francês</th>\n",
       "      <th>Hebraico</th>\n",
       "      <th>Inglês</th>\n",
       "      <th>Italiano</th>\n",
       "      <th>Japonês</th>\n",
       "      <th>Mandarim</th>\n",
       "      <th>Russo</th>\n",
       "      <th>Sueco</th>\n",
       "      <th>Chegadas_Argentina</th>\n",
       "    </tr>\n",
       "    <tr>\n",
       "      <th>Ano</th>\n",
       "      <th></th>\n",
       "      <th></th>\n",
       "      <th></th>\n",
       "      <th></th>\n",
       "      <th></th>\n",
       "      <th></th>\n",
       "      <th></th>\n",
       "      <th></th>\n",
       "      <th></th>\n",
       "      <th></th>\n",
       "      <th></th>\n",
       "      <th></th>\n",
       "      <th></th>\n",
       "      <th></th>\n",
       "    </tr>\n",
       "  </thead>\n",
       "  <tbody>\n",
       "    <tr>\n",
       "      <th>2014</th>\n",
       "      <td>57.0</td>\n",
       "      <td>NaN</td>\n",
       "      <td>0.0</td>\n",
       "      <td>NaN</td>\n",
       "      <td>450.0</td>\n",
       "      <td>146.0</td>\n",
       "      <td>3.0</td>\n",
       "      <td>564.0</td>\n",
       "      <td>79.0</td>\n",
       "      <td>6.0</td>\n",
       "      <td>1.0</td>\n",
       "      <td>9.0</td>\n",
       "      <td>0.0</td>\n",
       "      <td>284795.0</td>\n",
       "    </tr>\n",
       "    <tr>\n",
       "      <th>2015</th>\n",
       "      <td>52.0</td>\n",
       "      <td>NaN</td>\n",
       "      <td>NaN</td>\n",
       "      <td>NaN</td>\n",
       "      <td>434.0</td>\n",
       "      <td>135.0</td>\n",
       "      <td>5.0</td>\n",
       "      <td>534.0</td>\n",
       "      <td>75.0</td>\n",
       "      <td>5.0</td>\n",
       "      <td>1.0</td>\n",
       "      <td>9.0</td>\n",
       "      <td>NaN</td>\n",
       "      <td>342765.0</td>\n",
       "    </tr>\n",
       "    <tr>\n",
       "      <th>2016</th>\n",
       "      <td>107.0</td>\n",
       "      <td>0.0</td>\n",
       "      <td>NaN</td>\n",
       "      <td>0.0</td>\n",
       "      <td>952.0</td>\n",
       "      <td>301.0</td>\n",
       "      <td>9.0</td>\n",
       "      <td>1197.0</td>\n",
       "      <td>162.0</td>\n",
       "      <td>18.0</td>\n",
       "      <td>5.0</td>\n",
       "      <td>21.0</td>\n",
       "      <td>NaN</td>\n",
       "      <td>377677.0</td>\n",
       "    </tr>\n",
       "    <tr>\n",
       "      <th>2017</th>\n",
       "      <td>56.0</td>\n",
       "      <td>0.0</td>\n",
       "      <td>NaN</td>\n",
       "      <td>0.0</td>\n",
       "      <td>616.0</td>\n",
       "      <td>186.0</td>\n",
       "      <td>4.0</td>\n",
       "      <td>764.0</td>\n",
       "      <td>94.0</td>\n",
       "      <td>12.0</td>\n",
       "      <td>3.0</td>\n",
       "      <td>12.0</td>\n",
       "      <td>NaN</td>\n",
       "      <td>452842.0</td>\n",
       "    </tr>\n",
       "  </tbody>\n",
       "</table>\n",
       "</div>"
      ],
      "text/plain": [
       "      Alemão  Catalão  Dinamarquês  Eslovaco  Espanhol  Francês  Hebraico  \\\n",
       "Ano                                                                         \n",
       "2014    57.0      NaN          0.0       NaN     450.0    146.0       3.0   \n",
       "2015    52.0      NaN          NaN       NaN     434.0    135.0       5.0   \n",
       "2016   107.0      0.0          NaN       0.0     952.0    301.0       9.0   \n",
       "2017    56.0      0.0          NaN       0.0     616.0    186.0       4.0   \n",
       "\n",
       "      Inglês  Italiano  Japonês  Mandarim  Russo  Sueco  Chegadas_Argentina  \n",
       "Ano                                                                          \n",
       "2014   564.0      79.0      6.0       1.0    9.0    0.0            284795.0  \n",
       "2015   534.0      75.0      5.0       1.0    9.0    NaN            342765.0  \n",
       "2016  1197.0     162.0     18.0       5.0   21.0    NaN            377677.0  \n",
       "2017   764.0      94.0     12.0       3.0   12.0    NaN            452842.0  "
      ]
     },
     "execution_count": 93,
     "metadata": {},
     "output_type": "execute_result"
    }
   ],
   "source": [
    "dadosRJ.set_index('Ano', inplace=True)\n",
    "dadosRJ.head()"
   ]
  },
  {
   "cell_type": "code",
   "execution_count": 94,
   "metadata": {},
   "outputs": [
    {
     "data": {
      "text/plain": [
       "Text(0.5,1,'Distribuição da Quantidade de Hospedagens Rio de Janeiro')"
      ]
     },
     "execution_count": 94,
     "metadata": {},
     "output_type": "execute_result"
    },
    {
     "data": {
      "image/png": "[encoded data removed]",
      "text/plain": [
       "<Figure size 1440x360 with 1 Axes>"
      ]
     },
     "metadata": {},
     "output_type": "display_data"
    }
   ],
   "source": [
    "dadosRJ[['Alemão','Espanhol','Francês','Inglês','Italiano','Japonês','Mandarim','Russo']].plot(figsize=(20,5), linewidth=5, fontsize=20)\n",
    "plt.xlabel('Ano', fontsize=20);\n",
    "plt.ylabel('Quantidade-Hospedagens', fontsize=20);\n",
    "plt.title('Distribuição da Quantidade de Hospedagens Rio de Janeiro')"
   ]
  },
  {
   "cell_type": "markdown",
   "metadata": {},
   "source": [
    "## Grafico de Chegada de Turistas\n",
    "Mostra como está o fluxo de turistas no intervalo 2014-2017"
   ]
  },
  {
   "cell_type": "code",
   "execution_count": 95,
   "metadata": {},
   "outputs": [
    {
     "data": {
      "text/plain": [
       "Text(0.5,1,'Distribuição da Quantidade de Turistas do Rio de Janeiro')"
      ]
     },
     "execution_count": 95,
     "metadata": {},
     "output_type": "execute_result"
    },
    {
     "data": {
      "image/png": "[encoded data removed]",
      "text/plain": [
       "<Figure size 1440x360 with 1 Axes>"
      ]
     },
     "metadata": {},
     "output_type": "display_data"
    }
   ],
   "source": [
    "dadosRJ[['Chegadas_Argentina']].plot(figsize=(20,5), linewidth=5, fontsize=20)\n",
    "plt.xlabel('Ano', fontsize=20);\n",
    "plt.ylabel('Quantidade-Turistas', fontsize=20);\n",
    "plt.title('Distribuição da Quantidade de Turistas do Rio de Janeiro')"
   ]
  },
  {
   "cell_type": "code",
   "execution_count": 96,
   "metadata": {},
   "outputs": [
    {
     "data": {
      "text/plain": [
       "Text(0.5,1,'Distribuição da Quantidade de Turistas do Rio Grande do Sul')"
      ]
     },
     "execution_count": 96,
     "metadata": {},
     "output_type": "execute_result"
    },
    {
     "data": {
      "image/png": "[encoded data removed]",
      "text/plain": [
       "<Figure size 1440x360 with 1 Axes>"
      ]
     },
     "metadata": {},
     "output_type": "display_data"
    }
   ],
   "source": [
    "dadosRS[['Chegadas_Argentina']].plot(figsize=(20,5), linewidth=5, fontsize=20)\n",
    "plt.xlabel('Ano', fontsize=20);\n",
    "plt.ylabel('Quantidade-Turistas', fontsize=20);\n",
    "plt.title('Distribuição da Quantidade de Turistas do Rio Grande do Sul')"
   ]
  },
  {
   "cell_type": "code",
   "execution_count": 97,
   "metadata": {},
   "outputs": [
    {
     "data": {
      "text/plain": [
       "Text(0.5,1,'Distribuição da Quantidade de Turistas do São Paulo')"
      ]
     },
     "execution_count": 97,
     "metadata": {},
     "output_type": "execute_result"
    },
    {
     "data": {
      "image/png": "[encoded data removed]",
      "text/plain": [
       "<Figure size 1440x360 with 1 Axes>"
      ]
     },
     "metadata": {},
     "output_type": "display_data"
    }
   ],
   "source": [
    "dadosSP[['Chegadas_Argentina']].plot(figsize=(20,5), linewidth=5, fontsize=20)\n",
    "plt.xlabel('Ano', fontsize=20);\n",
    "plt.ylabel('Quantidade-Turistas', fontsize=20);\n",
    "plt.title('Distribuição da Quantidade de Turistas do São Paulo')"
   ]
  },
  {
   "cell_type": "code",
   "execution_count": 98,
   "metadata": {},
   "outputs": [
    {
     "data": {
      "text/plain": [
       "Text(0.5,1,'Distribuição da Quantidade de Turistas do Paraná')"
      ]
     },
     "execution_count": 98,
     "metadata": {},
     "output_type": "execute_result"
    },
    {
     "data": {
      "image/png": "[encoded data removed]",
      "text/plain": [
       "<Figure size 1440x360 with 1 Axes>"
      ]
     },
     "metadata": {},
     "output_type": "display_data"
    }
   ],
   "source": [
    "dadosPR[['Chegadas_Argentina']].plot(figsize=(20,5), linewidth=5, fontsize=20)\n",
    "plt.xlabel('Ano', fontsize=20);\n",
    "plt.ylabel('Quantidade - Turistas', fontsize=20);\n",
    "plt.title('Distribuição da Quantidade de Turistas do Paraná')"
   ]
  },
  {
   "cell_type": "code",
   "execution_count": null,
   "metadata": {},
   "outputs": [],
   "source": []
  },
  {
   "cell_type": "code",
   "execution_count": null,
   "metadata": {},
   "outputs": [],
   "source": []
  },
  {
   "cell_type": "code",
   "execution_count": null,
   "metadata": {},
   "outputs": [],
   "source": []
  },
  {
   "cell_type": "code",
   "execution_count": null,
   "metadata": {},
   "outputs": [],
   "source": []
  }
 ],
 "metadata": {
  "kernelspec": {
   "display_name": "Python 3",
   "language": "python",
   "name": "python3"
  },
  "language_info": {
   "codemirror_mode": {
    "name": "ipython",
    "version": 3
   },
   "file_extension": ".py",
   "mimetype": "text/x-python",
   "name": "python",
   "nbconvert_exporter": "python",
   "pygments_lexer": "ipython3",
   "version": "3.6.5"
  }
 },
 "nbformat": 4,
 "nbformat_minor": 2
}
